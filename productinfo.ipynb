{
 "cells": [
  {
   "cell_type": "code",
   "execution_count": 24,
   "metadata": {},
   "outputs": [],
   "source": [
    "import requests\n",
    "from bs4 import BeautifulSoup\n",
    "from selenium import webdriver\n",
    "from selenium.webdriver import Firefox\n",
    "from selenium.webdriver import FirefoxOptions\n",
    "from time import sleep\n",
    "from selenium.webdriver.common.by import By\n",
    "import pandas as pd\n",
    "\n",
    "from selenium.webdriver import ActionChains\n",
    "from selenium.webdriver.common.actions.action_builder import ActionBuilder\n",
    "from selenium.webdriver.common.actions.mouse_button import MouseButton\n",
    "from selenium.webdriver.firefox.service import Service\n",
    "\n",
    "from selenium.webdriver.support.ui import WebDriverWait\n",
    "from selenium.webdriver.support import expected_conditions as EC\n",
    "from selenium.webdriver.common.by import By\n",
    "\n",
    "from selenium.common.exceptions import NoSuchElementException\n",
    "import pickle\n",
    "\n",
    "import re"
   ]
  },
  {
   "cell_type": "code",
   "execution_count": 2,
   "metadata": {},
   "outputs": [],
   "source": [
    "opts = FirefoxOptions()\n",
    "opts.add_argument(\"--width=800\")\n",
    "opts.add_argument(\"--height=600\")\n",
    "#opts.add_argument('--headless')\n",
    "service = Service(\"/snap/bin/firefox.geckodriver\")"
   ]
  },
  {
   "cell_type": "code",
   "execution_count": 3,
   "metadata": {},
   "outputs": [],
   "source": [
    "navegador = webdriver.Firefox(options = opts, service=service)"
   ]
  },
  {
   "cell_type": "code",
   "execution_count": 4,
   "metadata": {},
   "outputs": [],
   "source": [
    "script = \"\"\"\n",
    "navigator.geolocation.getCurrentPosition = function(success){\n",
    "    var position = {\"coords\" : {\"latitude\": \"34.0207305\",\"longitude\": \"-118.6919153\"}};\n",
    "    success(position);\n",
    "}\n",
    "\"\"\"\n",
    "navegador.execute_script(script)"
   ]
  },
  {
   "cell_type": "code",
   "execution_count": 5,
   "metadata": {},
   "outputs": [],
   "source": [
    "navegador.get('https://www.amazon.com/dp/B006UACRTG/')"
   ]
  },
  {
   "cell_type": "code",
   "execution_count": 6,
   "metadata": {},
   "outputs": [],
   "source": [
    "delta_y = 10000\n",
    "navegador.execute_script(f\"window.scrollBy(0, {delta_y})\")"
   ]
  },
  {
   "cell_type": "code",
   "execution_count": 8,
   "metadata": {},
   "outputs": [
    {
     "data": {
      "text/plain": [
       "'Top reviews'"
      ]
     },
     "execution_count": 8,
     "metadata": {},
     "output_type": "execute_result"
    }
   ],
   "source": [
    "'''\n",
    "# LOGIC FOR REVIEWS AND SORT DROPDOWN\n",
    "reviews = navegador.find_element(By.ID, 'customerReviews')\n",
    "\n",
    "dropdown_list = navegador.find_elements(By.XPATH, '//span[@data-csa-c-func-deps=\"aui-da-a-dropdown-button\"]')\n",
    "dropdown_list[1].text\n",
    "'''"
   ]
  },
  {
   "cell_type": "code",
   "execution_count": 9,
   "metadata": {},
   "outputs": [],
   "source": [
    "see_all_reviews = navegador.find_element(By.XPATH, '//a[@data-hook=\"see-all-reviews-link-foot\"]')\n",
    "\n",
    "# Rola a página até o elemento\n",
    "navegador.execute_script(\"arguments[0].scrollIntoView();\", see_all_reviews)\n",
    "navegador.execute_script(\"window.scrollBy(0, -150)\")\n",
    "\n",
    "see_all_reviews.click()"
   ]
  },
  {
   "cell_type": "code",
   "execution_count": 16,
   "metadata": {},
   "outputs": [],
   "source": [
    "### PAGINA DE REVIEWS"
   ]
  },
  {
   "cell_type": "code",
   "execution_count": 11,
   "metadata": {},
   "outputs": [
    {
     "data": {
      "text/plain": [
       "{1: '32%', 2: '11%', 3: '8%', 4: '38%', 5: '12%'}"
      ]
     },
     "execution_count": 11,
     "metadata": {},
     "output_type": "execute_result"
    }
   ],
   "source": [
    "#stars = navegador.find_elements(By.XPATH, '//tr[starts-with(@aria-label, \"5 stars\")]')\n",
    "stars = {}\n",
    "for i in range(1, 6):\n",
    "    star = navegador.find_element(By.XPATH, f'//tr[starts-with(@aria-label, \"{i} stars\")]')\n",
    "    stars[i] = star.text.split('\\n')[1]\n",
    "stars"
   ]
  },
  {
   "cell_type": "code",
   "execution_count": 12,
   "metadata": {},
   "outputs": [
    {
     "name": "stdout",
     "output_type": "stream",
     "text": [
      "Top reviews\n",
      "All reviewers\n",
      "All stars\n",
      "Text, image, video\n"
     ]
    }
   ],
   "source": [
    "dropdown_filters = navegador.find_elements(By.XPATH, '//span[@data-csa-c-func-deps=\"aui-da-a-dropdown-button\"]')\n",
    "\n",
    "for sort in dropdown_filters:\n",
    "    print(sort.text)\n",
    "\n",
    "sort_by = dropdown_filters[0]\n",
    "star_filter = dropdown_filters[2]"
   ]
  },
  {
   "cell_type": "code",
   "execution_count": 13,
   "metadata": {},
   "outputs": [
    {
     "data": {
      "text/plain": [
       "'From the United States'"
      ]
     },
     "execution_count": 13,
     "metadata": {},
     "output_type": "execute_result"
    }
   ],
   "source": [
    "reviews_location = navegador.find_element(By.XPATH, '//h3[@data-hook=\"arp-local-reviews-header\"]')\n",
    "reviews_location.text"
   ]
  },
  {
   "cell_type": "code",
   "execution_count": 14,
   "metadata": {},
   "outputs": [
    {
     "data": {
      "text/plain": [
       "'Afterhourshop\\nNot bad AT ALL. Better for me than the $2K X-Rite software I spent.\\nReviewed in the United States on October 26, 2020\\nVerified Purchase\\nOk, so I have the $2K i1 Pro2 and I got this as I wanted to compare them.\\nI am NOT going into deep details, but I can say that this hands down does a great job of making your prints MUCH better with fine tuning the colors and tones. I used the Expert patchs of about 750 and with Gray tones, and I used the Click method of EACH patch of color. This took some time and patients, BUT, it is the right way to go. The other method is LAME, and dont EVEN think about printing on a large sheet with more patches. WASTE of time. Print on a 8.5x11 or something so that cheap plastic paper guide that is included can actually help. This is where the i1 X-Rite is far superior, but SURELY not worth the $ extra for personal use.\\n\\nSo do the readings patch at a time, and you will be sure you got a good reading. My BW prints using color inks is not nutral and with excellent tone. Also colors are much better, rich and good separation.\\nVery much worth $350 if you want to make higher quality prints. Would the X-Rite do better, not significant enough. The only time the X-rite makes sense is if you do this as a business with AMNY papers and are often making custom profiles. But if you have 3-5 fav papers, you certainly do not need to spend $2k... SHAME on X-Rite for the rip off I purchased. Sellers hype:\" Oh, no this is the only great one that will do the job, others come close, but not as good\". REALLY? you take a look at the prints? AND, this allows for tweaking and making adjustments, so if there is some image with hard tomes the printer is challenged on, you can make the call to tweak further manually.\\nI am a photographer, print professional. I use LUT calibrated monitors using the Xrite as well. but my volume in print is low. For most folks who like to print seriously and are pros, you dont need Xrite. This is likely more accurate than Colormunki, and is suitable for such personal or client prints.\\n\\n\\n\\n\\n\\n\\n5 people found this helpful\\nHelpful\\nReport'"
      ]
     },
     "execution_count": 14,
     "metadata": {},
     "output_type": "execute_result"
    }
   ],
   "source": [
    "reviews = navegador.find_elements(By.XPATH, '//div[@id=\"cm_cr-review_list\"]//div[starts-with(@id, \"customer_review-\")]')\n",
    "reviews[0].text"
   ]
  },
  {
   "cell_type": "code",
   "execution_count": 27,
   "metadata": {},
   "outputs": [
    {
     "data": {
      "text/plain": [
       "28"
      ]
     },
     "execution_count": 27,
     "metadata": {},
     "output_type": "execute_result"
    }
   ],
   "source": [
    "# encontra sequências de números seguidos por um espaço\n",
    "pattern = r'\\d+(?=\\s)'\n",
    "\n",
    "review_count = navegador.find_element(By.XPATH, '//div[@data-hook=\"cr-filter-info-review-rating-count\"]')\n",
    "review_count_text = review_count.text\n",
    "\n",
    "# número total de reviews\n",
    "int(re.findall(pattern, review_count_text)[1])"
   ]
  },
  {
   "cell_type": "code",
   "execution_count": 15,
   "metadata": {},
   "outputs": [
    {
     "data": {
      "text/plain": [
       "'\\n# LÓGICA UTILIZADA PARA NEXT PAGE\\n\\n\\ntry:\\n    next_page = navegador.find_element(By.XPATH, \\'//div[@id=\"cm_cr-pagination_bar\"]//li[@class=\"a-last\"]\\')\\n    next_page.click()\\nexcept:\\n    print(\\'Não foi possível encontrar mais avaliações.\\')\\n    pass\\n'"
      ]
     },
     "execution_count": 15,
     "metadata": {},
     "output_type": "execute_result"
    }
   ],
   "source": [
    "'''\n",
    "# LÓGICA UTILIZADA PARA NEXT PAGE\n",
    "\n",
    "\n",
    "try:\n",
    "    next_page = navegador.find_element(By.XPATH, '//div[@id=\"cm_cr-pagination_bar\"]//li[@class=\"a-last\"]')\n",
    "    next_page.click()\n",
    "except:\n",
    "    print('Não foi possível encontrar mais avaliações.')\n",
    "    pass\n",
    "'''"
   ]
  },
  {
   "cell_type": "code",
   "execution_count": 35,
   "metadata": {},
   "outputs": [
    {
     "name": "stdout",
     "output_type": "stream",
     "text": [
      "Não foi possível encontrar mais avaliações.\n"
     ]
    }
   ],
   "source": [
    "all_reviews_text = []\n",
    "all_stars_text = []\n",
    "delta_y = 10000\n",
    "\n",
    "while True:\n",
    "    try:\n",
    "        navegador.execute_script(f\"window.scrollBy(0, {delta_y})\")\n",
    "        WebDriverWait(navegador, 3).until(EC.invisibility_of_element_located((By.XPATH, '//div[@class=\"a-section cr-list-loading reviews-loading\"]')))\n",
    "        \n",
    "        reviews = navegador.find_elements(By.XPATH, '//div[@id=\"cm_cr-review_list\"]//div[starts-with(@id, \"customer_review-\")]')\n",
    "        stars = navegador.find_elements(By.XPATH, '//i[@data-hook=\"review-star-rating\"]')\n",
    "        stars = [star.get_attribute('class') for star in stars]\n",
    "\n",
    "        all_reviews_text.append([review.text for review in reviews])\n",
    "        all_stars_text.append(stars)\n",
    "\n",
    "        next_page = navegador.find_element(By.XPATH, '//div[@id=\"cm_cr-pagination_bar\"]//li[@class=\"a-last\"]')\n",
    "\n",
    "        navegador.execute_script(\"arguments[0].scrollIntoView();\", next_page)\n",
    "        navegador.execute_script(\"window.scrollBy(0, -150)\")\n",
    "\n",
    "        next_page = WebDriverWait(navegador, 3).until(EC.element_to_be_clickable((By.XPATH, '//div[@id=\"cm_cr-pagination_bar\"]//li[@class=\"a-last\"]')))\n",
    "        \n",
    "        \n",
    "        #retrying_find_click(By.XPATH, '//div[@id=\"cm_cr-pagination_bar\"]//li[@class=\"a-last\"]', navegador)\n",
    "        next_page.click()\n",
    "    except NoSuchElementException:\n",
    "        print('Não foi possível encontrar mais avaliações.')\n",
    "        break\n",
    "    except Exception as e:\n",
    "        print(e)\n",
    "        #print('Não foi possível encontrar mais avaliações.')\n",
    "        break\n",
    "\n",
    "#pickle.dump(all_reviews_text, open('all_reviews_text.pkl', 'wb'))"
   ]
  },
  {
   "cell_type": "code",
   "execution_count": 41,
   "metadata": {},
   "outputs": [],
   "source": [
    "pickle.dump(all_reviews_text, open('all_reviews_text.pkl', 'wb'))"
   ]
  },
  {
   "cell_type": "code",
   "execution_count": 37,
   "metadata": {},
   "outputs": [],
   "source": [
    "pickle.dump(all_stars_text, open('all_stars_text.pkl', 'wb'))"
   ]
  },
  {
   "cell_type": "code",
   "execution_count": 19,
   "metadata": {},
   "outputs": [
    {
     "data": {
      "text/plain": [
       "[['Afterhourshop\\nNot bad AT ALL. Better for me than the $2K X-Rite software I spent.\\nReviewed in the United States on October 26, 2020\\nVerified Purchase\\nOk, so I have the $2K i1 Pro2 and I got this as I wanted to compare them.\\nI am NOT going into deep details, but I can say that this hands down does a great job of making your prints MUCH better with fine tuning the colors and tones. I used the Expert patchs of about 750 and with Gray tones, and I used the Click method of EACH patch of color. This took some time and patients, BUT, it is the right way to go. The other method is LAME, and dont EVEN think about printing on a large sheet with more patches. WASTE of time. Print on a 8.5x11 or something so that cheap plastic paper guide that is included can actually help. This is where the i1 X-Rite is far superior, but SURELY not worth the $ extra for personal use.\\n\\nSo do the readings patch at a time, and you will be sure you got a good reading. My BW prints using color inks is not nutral and with excellent tone. Also colors are much better, rich and good separation.\\nVery much worth $350 if you want to make higher quality prints. Would the X-Rite do better, not significant enough. The only time the X-rite makes sense is if you do this as a business with AMNY papers and are often making custom profiles. But if you have 3-5 fav papers, you certainly do not need to spend $2k... SHAME on X-Rite for the rip off I purchased. Sellers hype:\" Oh, no this is the only great one that will do the job, others come close, but not as good\". REALLY? you take a look at the prints? AND, this allows for tweaking and making adjustments, so if there is some image with hard tomes the printer is challenged on, you can make the call to tweak further manually.\\nI am a photographer, print professional. I use LUT calibrated monitors using the Xrite as well. but my volume in print is low. For most folks who like to print seriously and are pros, you dont need Xrite. This is likely more accurate than Colormunki, and is suitable for such personal or client prints.\\n\\n\\n\\n\\n\\n\\n5 people found this helpful\\nHelpful\\nReport',\n",
       "  'JonG\\nUsability issues, buggy software, creates totally inaccurate printer/paper profiles\\nReviewed in the United States on September 16, 2018\\nVerified Purchase\\nI had high expectations of this device given the price, and because I also own the Spyder5 PRO from Datacolor, which despite having a glitchy room-light switching feature, has always worked perfectly for calibrating my screens. So, you could say I trusted the Datacolor brand. Unfortunately, this SpyderPRINT product is garbage.\\n\\nIssues I experienced:\\n\\n1) The software was buggy on my Mac. Until I changed permissions on my ~/Library/ColorSync/Profiles folder, it would let me get all the way through the patch reading process, and then refuse to save the profile. However, the error message given was that the name I was trying to use to save was not allowed. It took me 30 minutes of research online to figure out that the problem was nothing to do with the naming of the profile.\\n\\n2) The hardware itself doesn\\'t work very well. The unit doesn\\'t seem to self-calibrate reliably, and will frequently set the wrong white point from the white patch in the cradle, which messes up the entire process. Additionally, the scanner doesn\\'t fit very well in the plastic guide rail, and it\\'s very easy for it to dislodge from the rail while scanning patches. Finally, the cable is so stiff that keeping the unit flat and level requires constant vigilance while scanning - if you loosen your grip the unit will want to pull away from the paper surface.\\n\\n3) The two issues above could be forgiven if it wasn\\'t for this one: my unit generated totally inaccurate profiles from the targets I printed out. I profiled two different Hahnemuhle Fine Art papers on my Canon PIXMA Pro-10. These papers were fresh out of the box, the inks were factory OEM, the room lights were 5000K high CRI - heck, I even handled the paper with cotton gloves and allowed a 30-minute drying time! Furthermore, I correctly disabled Color Matching while printing the patches, and set the correct media type (\"Other Fine Art Paper 1\"). The targets seemed to print fine, but when I went to scan them the patches did not seem to match the expected colors very well. It wasn\\'t until I went to print with the profile that I saw a marked reddish color shift that looked significantly different from the soft-proof. The printing was done from Photoshop, using the same media type, of an image edited on my calibrated EIZO display, with the correct profile selected and making sure Photoshop was managing colors instead of the printer. This clear mismatch suggests that the profile I created was quite inaccurate. To confirm my suspicion, I downloaded a Hahnemuhle-supplied generic ICC profile for my printer and paper type (which isn\\'t custom to my specific printer unit) and the colors came out *WAY* closer to my screen than what printed using the SpyderPRINT profile. Upon pulling up the SpyderPRINT profile in ColorSync and comparing it to the manufacturer profile, they are really different - the difference is much greater than you would expect for a custom vs. generic printer/paper profile (see attached screenshot).\\n\\nA final annoyance with using this unit - in addition to the crap profiles it creates - is that it wants to print 8.5\"x11\" size targets, but it doesn\\'t take into account that most Canon printers insist on a 30mm border for fine art papers. This meant I had to scale the printed target, dismiss the complaints from the software, and scan patches individually (which is supposed to be more accurate, but didn\\'t seem to be, and took 3x as long).\\n\\nBottom line: the SpyderPRINT is a waste of money, and doesn\\'t work well at all.\\n\\n\\n\\n\\n\\n\\n\\n\\n\\n\\n\\n\\n\\n4 people found this helpful\\nHelpful\\nReport',\n",
       "  'Grey\\nworks fine\\nReviewed in the United States on April 5, 2014\\nVerified Purchase\\nI use 3rd party ink from Precision Colors. After awhile I think the syringe got slightly contaminated when refilling so there was a slight color shift from the OEM ink profiles. Corrects it after profiling.\\n\\nonly flaw was the measuring head had a slight dent when it arrived. QC might be a problem\\nOne person found this helpful\\nHelpful\\nReport',\n",
       "  'Michael\\nThe Final Step to great looking pictures\\nReviewed in the United States on August 31, 2015\\nVerified Purchase\\nThe final step to great looking pictures. You bought the camera, took the pictures and printed them. But wait they look nothing like what you saw in the camera or on your monitor. Now what? the problem is all the equipment it needs to be calibrated to the same standards, from the camera to the monitor, and yes the printer too. The biggest problem is if you change papers or ink brands (even with the other two items calibrated), the color changes...and your back to square one it seems. Enter Spyder print this device creates printer profiles for each type of paper and ink you use. this gives you back control over the color of your prints. This does use up some ink and paper to make the profiles, but much less than using trial and error to make the print look right.\\n5 people found this helpful\\nHelpful\\nReport',\n",
       "  \"Michael\\nfine software, nice tech -- very poor housing materials/guide\\nReviewed in the United States on January 29, 2023\\nVerified Purchase\\nThe Spyder Print is capable of producing quite good ICC printer profiles. However, it requires an enormous amount of patience and double-checking, re-checking, and do-overs.\\n\\nWhat's most frustrating is that it all comes down to the poor guide and housing materials. Unlike the Calibrite ColorChecker Studio (a.k.a. Xrite I1 Studio, a.k.a. ColorMunki), which has very nice gliding bars on the bottom (similar material as the gliding pads of a computer mouse), the housing of the spectro AND the guide is made of an almost sticky plastic that makes it near-impossible to get a nice even swipe across the target row. Even setting aside the guide, as suggested by Datacolor tech support, the spectro housing itself will nearly-stick to even a luster paper. As a consequence, you are almost guaranteed to misread patches across your target and may not even realize it.\\n\\nYou MUST have a look at the 3D plot of the profile in ColorSync (or equivalent Windows app) to ensure a nice smooth profile. I had one that actually had a hole in it!\\n\\nIn a fraction of the time and frustration, you can make a nice, clean profile with the ColorChecker Studio, but it costs significantly more. For me, it's worth it, which is too bad, because Datacolor's documentation, software, and options are very good.\\nHelpful\\nReport\",\n",
       "  'X\\nDevice failed after 14 months of use, tech support was no help\\nReviewed in the United States on February 14, 2023\\nVerified Purchase\\nUsed the device for about a year on an off with no issues. Worked well. Results were good. Then one day the device stopped working. Nothing - -nada -zilch. Got in touch with customer support and their response was to basically try unplugging and re-plugging. If you do buy this, buy the insurance and demand a full replacement when the thing fails. Very disappointing. Will never buy a product from this company again.\\nOne person found this helpful\\nHelpful\\nReport',\n",
       "  'Bruce Fredette\\nThey don\\'t all work the same\\nReviewed in the United States on May 22, 2014\\nVerified Purchase\\nI had one of these that worked very well. This one is not as accurate and unfortunately I lost all of my old color profiles. honestly the first one was spot on and this one is about 80%. It may not seam strait forward to you if you have not worked on digital and analog components before but this device has one flaw. It needs to have a better sort of internal calibration that it is lacking. I am certain it is calibrating my printer to what it sees; but what it sees can not be calibrated against a \"true\" standard. It has a white spot in the cradle that it uses and I\\'m certain it helps, but it is not doing the job well enough. So all-in-all I\\'d have to caution buyers, you may get a very good unit and may not...\\n3 people found this helpful\\nHelpful\\nReport',\n",
       "  'DarrenIngram_dot_com\\nReasonable\\nReviewed in the United States on August 29, 2015\\nVerified Purchase\\nIt sort of did the job but it was hardly the easiest, clearest product on the market.\\nHelpful\\nReport',\n",
       "  \"Roy Lobenhofer\\nNot as easy as I had hoped\\nReviewed in the United States on October 14, 2013\\nVerified Purchase\\nI print my pictures on an Epson 1430 and get decent to good prints. I've used Spyder to correct my screen on both my laptop and desktop for some time, but when I got significantly different color prints depending whether I printed from the desktop or laptop, I decided it was time for the Spyder Print. (I had tried to read the articles on color calibration and got lost.)\\n\\nMy first attempt with Spyder Print went okay. It took maybe an hour or two to learn how to do the calibration and the color that resulted was good but the brightness/exposure was terrible. In trying to correct that everything got screwed up. After working with it for a few days, I put it back into its box with the conviction I will return to it, when I have the time to play with it. (When that happens I'll update the review.)\\n\\nI didn't give it a lower score because it did correct the color problem I was having. I didn't give it a higher score because it did not replicate what I was getting on my screen in terms of the brightness/exposure.\\n5 people found this helpful\\nHelpful\\nReport\",\n",
       "  \"John Isner\\nIt gets really dirty and you can't clean it\\nReviewed in the United States on March 18, 2022\\nVerified Purchase\\nThe cradle and the spectro of my Spyderprint 3 are made of a gummy, sticky plastic that is a real dirt magnet. After four years of use, mine is so disgusging that I wear cotton gloves when handling it. I use mine for making spot measurements and I need to carefully maneuver to avoid having the base touch any part of the sample.\\nOne person found this helpful\\nHelpful\\nReport\"],\n",
       " ['77792602\\nDe muy mala calidad y encima no dejan devolver el producto, ni pedir el reembolso.\\nReviewed in the United States on March 25, 2024\\nVerified Purchase\\nDe muy mala calidad y encima no dejan devolver el producto, ni pedir el reembolso, pesimo servicio de amazon.\\nHelpful\\nReport\\nTranslate review to English',\n",
       "  'T. J. Muszynski\\nBig improvement over the mfg icc profile\\nReviewed in the United States on October 27, 2022\\nVerified Purchase\\nI’ve been unhappy with the screen to print match I was getting, even using Canon paper in my Pro-100 Canon printer with Canon provided icc profiles and a calibrated monitor using Lightroom.\\n\\nCreated custom profiles using this and the change was dramatic. The minor (mostly brightness) differences can be attributed to the difference between additive and subtractive colors. Now my profiles reflect the idiosyncrasies of my equipment.\\n\\nSkip the plastic guide and take a few\\nMinutes longer to scan a patch at a\\nHelpful\\nReport',\n",
       "  \"Amazon Customer\\nBroken Out Of the Box\\nReviewed in the United States on July 7, 2023\\nVerified Purchase\\nFinally got a chance to try using this unit and it never worked from the beginning. Microsoft doesn't recognize the unit after numerous attempts and so it was a waste of money\\nOne person found this helpful\\nHelpful\\nReport\",\n",
       "  \"Steve J.\\nDoesn't work\\nReviewed in the United States on May 22, 2020\\nVerified Purchase\\nGive it a zero. Product does not work without activation and cannot activate by either of the two methods give, via internet connect (error message), or manual connection to web site (either blocked by having to register and being already registered or by captcha blocking repeatedly). Cannot find a way around to contact support to get a fix.\\nOne person found this helpful\\nHelpful\\nReport\",\n",
       "  'david cowell\\nImproving color prints\\nReviewed in the United States on November 27, 2012\\nVerified Purchase\\nThis product was purchased as a result of my use of an older product which worked fine but was not up to date with ease of use This improved system used a much improved device for reading the test charts used to obtain color information coding for use in matching color printing results to monitor displays.\\n6 people found this helpful\\nHelpful\\nReport',\n",
       "  'R. Wlliamson\\nTwo Stars\\nReviewed in the United States on July 20, 2018\\nVerified Purchase\\nLots of work for the results had really high hopes after buying datacolor kit\\nHelpful\\nReport',\n",
       "  'parker\\nWaste of money, time and materials.\\nReviewed in the United States on September 8, 2022\\nVerified Purchase\\nConnectivity problems, buggy software, useless results, no support. Simply does not do what it claims.\\nHelpful\\nReport',\n",
       "  'Howard Price\\nPerfect.\\nReviewed in the United States on November 16, 2014\\nVerified Purchase\\nThe ultimate in print calibration. If you’re serious about matching screen and print output calibration is essential This is not the easiest to use that I’ve tried but it’s by far the most accurate.\\nOne person found this helpful\\nHelpful\\nReport',\n",
       "  'Cecil Black\\nExcellent Product\\nReviewed in the United States on March 18, 2017\\nVerified Purchase\\nAfter calibrating my monitor and printer, I finally get the quality of color that I have wanted for the past three years.\\nHelpful\\nReport',\n",
       "  'M. Twain\\nFinally I can print correctly.\\nReviewed in the United States on August 18, 2016\\nVerified Purchase\\nFinally I can print correctly. It takes a while to scan the codes and verify but its so worth it.\\nHelpful\\nReport'],\n",
       " ['Denise Fuson\\nReturned unopened. Not clear this is useable for third ...\\nReviewed in the United States on September 1, 2014\\nVerified Purchase\\nReturned unopened. Not clear this is useable for third party inks via QTR.\\nHelpful\\nReport',\n",
       "  'Consumer Al\\nExcellent print reproduction\\nReviewed in the United States on June 23, 2013\\nVerified Purchase\\nA great tool for setting up printer / paper profiles. Gives you professional quality prints. Not cheap, but the value is there in the long run.\\nOne person found this helpful\\nHelpful\\nReport',\n",
       "  'Diane\\nworks great\\nReviewed in the United States on January 8, 2018\\nVerified Purchase\\ngift for my husband - absolutely loves it ! works great\\nHelpful\\nReport',\n",
       "  'Ronald Herrington\\neverthing\\nReviewed in the United States on December 16, 2018\\nVerified Purchase\\nmake process easyer\\nHelpful\\nReport',\n",
       "  'Robert Nilsen\\nFive Stars\\nReviewed in the United States on November 9, 2015\\nVerified Purchase\\nWorks as expected.\\nHelpful\\nReport',\n",
       "  'Kazza\\nFive Stars\\nReviewed in the United States on February 16, 2015\\nVerified Purchase\\nVery Easy to use\\nHelpful\\nReport',\n",
       "  'Bill Hansen\\nFive stars for adjustability, three for ease of use\\nReviewed in the United States on February 3, 2015\\nThis package should get 5 stars simply because it\\'s possible to quickly and easily adjust profiles, varying their brightness, contrast, saturation, and colors either by making new profiles, or by making variations of the original profile you\\'ve made with SpyderPRINT. That\\'s invaluable in some situations. In my case, I\\'m currently using an Epson 1430 printer for which I\\'ve bought two professionally made custom printer profiles, neither of which works well enough without application of an adjustment Action in Photo Shop. The pre-made Epson profile isn\\'t quite close enough either. But with SpyderPRINT v 4.0.2 and lots or time, ink, and paper, I\\'ve got a profile which is almost a perfect match to the monitor appearance. That\\'s the good part.\\n\\nAnother very big advantage of SpyderPRINT is that you can quickly and easily make specific printer profiles for different lighting conditions.\\n\\nThe not-so-good part is that Spyder products have never worked **for me** without multiple adjustments, and that\\'s why I subtracted the two stars. I\\'ve used ColorVision and DataColor (the company changed its name) products to calibrate my monitors and profile my printers ever since the products were available, probably over a twelve or thirteen year time period, and several versions of the ColorVision/DataColor Spyder products, several printers and a few different monitors. The monitor calibration programs have always worked well. The printer profiling packages have always needed multiple adjustments.\\n\\nIn summary - invaluable in terms of speed and ease of adjustment of printer profiles, but profiles will need adjustment, probably multiple adjustments before you get that near-perfect match between monitor and printer.\\n\\nPlease note again that although you\\'ll probably need several adjustments of your printer profile, adjustments are very quick and easy to make.\\n\\nIf you are patient, willing to put in the hours (and hours, and hours) and \"spend\" both ink and paper, you can get very good results. If you want a profile which works \"right out of the box\", in my opinion you\\'ll almost certainly be better off to have a custom printer profile made by one of the several professionals who do this. In my individual case, professionally made profiles were not working on my current printer. SpyderPRINT 4 has saved the day.\\n2 people found this helpful\\nHelpful\\nReport',\n",
       "  'Max Lent\\nNot repairable.\\nReviewed in the United States on March 5, 2018\\nThe deal breaker for the Spider Print is that it is not repairable. When the sensor bulb burns out (mine burned out after about 20 scans) the whole unit is bricked. Datacolor does not repair this device.\\n3 people found this helpful\\nHelpful\\nReport']]"
      ]
     },
     "execution_count": 19,
     "metadata": {},
     "output_type": "execute_result"
    }
   ],
   "source": [
    "pickle.load(open('all_reviews_text1.pkl', 'rb'))"
   ]
  },
  {
   "cell_type": "code",
   "execution_count": 20,
   "metadata": {},
   "outputs": [
    {
     "data": {
      "text/plain": [
       "28"
      ]
     },
     "execution_count": 20,
     "metadata": {},
     "output_type": "execute_result"
    }
   ],
   "source": [
    "_sum = 0\n",
    "for review_list in all_reviews_text:\n",
    "    _sum += len(review_list)\n",
    "_sum"
   ]
  }
 ],
 "metadata": {
  "kernelspec": {
   "display_name": "Python 3",
   "language": "python",
   "name": "python3"
  },
  "language_info": {
   "codemirror_mode": {
    "name": "ipython",
    "version": 3
   },
   "file_extension": ".py",
   "mimetype": "text/x-python",
   "name": "python",
   "nbconvert_exporter": "python",
   "pygments_lexer": "ipython3",
   "version": "3.10.12"
  }
 },
 "nbformat": 4,
 "nbformat_minor": 2
}
