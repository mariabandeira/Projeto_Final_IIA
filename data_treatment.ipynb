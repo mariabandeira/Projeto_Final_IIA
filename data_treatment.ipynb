{
 "cells": [
  {
   "cell_type": "code",
   "execution_count": 99,
   "metadata": {},
   "outputs": [],
   "source": [
    "import pandas as pd\n",
    "import pickle\n",
    "import re"
   ]
  },
  {
   "cell_type": "code",
   "execution_count": 100,
   "metadata": {},
   "outputs": [
    {
     "data": {
      "text/plain": [
       "'a-icon a-icon-star a-star-4 review-rating'"
      ]
     },
     "execution_count": 100,
     "metadata": {},
     "output_type": "execute_result"
    }
   ],
   "source": [
    "data = pickle.load(open('all_reviews_text.pkl', 'rb'))\n",
    "data[0][0]\n",
    "\n",
    "data1 = pickle.load(open('all_stars_text.pkl', 'rb'))\n",
    "data1[0][0]"
   ]
  },
  {
   "cell_type": "code",
   "execution_count": 101,
   "metadata": {},
   "outputs": [
    {
     "data": {
      "text/plain": [
       "True"
      ]
     },
     "execution_count": 101,
     "metadata": {},
     "output_type": "execute_result"
    }
   ],
   "source": [
    "REVIEWS = []\n",
    "STARS = []\n",
    "\n",
    "for review_list in data:\n",
    "    for review in review_list:\n",
    "        REVIEWS.append(review)\n",
    "\n",
    "for star_list in data1:\n",
    "    for star in star_list:\n",
    "        STARS.append(star)\n",
    "\n",
    "len(REVIEWS) == len(STARS)"
   ]
  },
  {
   "cell_type": "code",
   "execution_count": 102,
   "metadata": {},
   "outputs": [],
   "source": [
    "rsplit = REVIEWS[0].split('\\n')\n",
    "\n",
    "username = rsplit[0]\n",
    "title = rsplit[1]\n",
    "date_region = rsplit[2]\n",
    "text = rsplit[4:-3]"
   ]
  },
  {
   "cell_type": "code",
   "execution_count": 103,
   "metadata": {},
   "outputs": [
    {
     "data": {
      "text/plain": [
       "['October 26, 2020']"
      ]
     },
     "execution_count": 103,
     "metadata": {},
     "output_type": "execute_result"
    }
   ],
   "source": [
    "# encontra a data que está após a palavra 'on'\n",
    "pattern = r'\\bon\\b\\s+(.+)'\n",
    "date = re.findall(pattern, date_region)\n",
    "date"
   ]
  },
  {
   "cell_type": "code",
   "execution_count": 104,
   "metadata": {},
   "outputs": [
    {
     "data": {
      "text/plain": [
       "['United States']"
      ]
     },
     "execution_count": 104,
     "metadata": {},
     "output_type": "execute_result"
    }
   ],
   "source": [
    "# encontra a região após 'in the' e antes de 'on'\n",
    "pattern = r'\\bin the\\b\\s+(.+)\\s+\\bon\\b'\n",
    "region = re.findall(pattern, date_region)\n",
    "region"
   ]
  },
  {
   "cell_type": "code",
   "execution_count": 105,
   "metadata": {},
   "outputs": [
    {
     "name": "stdout",
     "output_type": "stream",
     "text": [
      "Afterhourshop\n",
      "Not bad AT ALL. Better for me than the $2K X-Rite software I spent.\n",
      "['October 26, 2020']\n"
     ]
    }
   ],
   "source": [
    "print(f'{username}\\n{title}\\n{date}')"
   ]
  },
  {
   "cell_type": "code",
   "execution_count": 106,
   "metadata": {},
   "outputs": [
    {
     "data": {
      "text/plain": [
       "'Ok, so I have the $2K i1 Pro2 and I got this as I wanted to compare them. I am NOT going into deep details, but I can say that this hands down does a great job of making your prints MUCH better with fine tuning the colors and tones. I used the Expert patchs of about 750 and with Gray tones, and I used the Click method of EACH patch of color. This took some time and patients, BUT, it is the right way to go. The other method is LAME, and dont EVEN think about printing on a large sheet with more patches. WASTE of time. Print on a 8.5x11 or something so that cheap plastic paper guide that is included can actually help. This is where the i1 X-Rite is far superior, but SURELY not worth the $ extra for personal use. So do the readings patch at a time, and you will be sure you got a good reading. My BW prints using color inks is not nutral and with excellent tone. Also colors are much better, rich and good separation. Very much worth $350 if you want to make higher quality prints. Would the X-Rite do better, not significant enough. The only time the X-rite makes sense is if you do this as a business with AMNY papers and are often making custom profiles. But if you have 3-5 fav papers, you certainly do not need to spend $2k... SHAME on X-Rite for the rip off I purchased. Sellers hype:\" Oh, no this is the only great one that will do the job, others come close, but not as good\". REALLY? you take a look at the prints? AND, this allows for tweaking and making adjustments, so if there is some image with hard tomes the printer is challenged on, you can make the call to tweak further manually. I am a photographer, print professional. I use LUT calibrated monitors using the Xrite as well. but my volume in print is low. For most folks who like to print seriously and are pros, you dont need Xrite. This is likely more accurate than Colormunki, and is suitable for such personal or client prints.'"
      ]
     },
     "execution_count": 106,
     "metadata": {},
     "output_type": "execute_result"
    }
   ],
   "source": [
    "sentences = [normal_text for normal_text in text if normal_text != '']\n",
    "\n",
    "full_text = ' '.join(sentences)\n",
    "full_text = full_text.replace('\\n', ' ')\n",
    "full_text"
   ]
  },
  {
   "cell_type": "code",
   "execution_count": 107,
   "metadata": {},
   "outputs": [
    {
     "data": {
      "text/plain": [
       "'4'"
      ]
     },
     "execution_count": 107,
     "metadata": {},
     "output_type": "execute_result"
    }
   ],
   "source": [
    "pattern = r'\\d+' # sequencia de números\n",
    "rstar = STARS[0]\n",
    "\n",
    "re.findall(pattern, rstar)[0]"
   ]
  },
  {
   "cell_type": "code",
   "execution_count": 108,
   "metadata": {},
   "outputs": [
    {
     "data": {
      "text/html": [
       "<div>\n",
       "<style scoped>\n",
       "    .dataframe tbody tr th:only-of-type {\n",
       "        vertical-align: middle;\n",
       "    }\n",
       "\n",
       "    .dataframe tbody tr th {\n",
       "        vertical-align: top;\n",
       "    }\n",
       "\n",
       "    .dataframe thead th {\n",
       "        text-align: right;\n",
       "    }\n",
       "</style>\n",
       "<table border=\"1\" class=\"dataframe\">\n",
       "  <thead>\n",
       "    <tr style=\"text-align: right;\">\n",
       "      <th></th>\n",
       "      <th>username</th>\n",
       "      <th>title</th>\n",
       "      <th>date</th>\n",
       "      <th>region</th>\n",
       "      <th>text</th>\n",
       "      <th>stars</th>\n",
       "    </tr>\n",
       "  </thead>\n",
       "  <tbody>\n",
       "    <tr>\n",
       "      <th>0</th>\n",
       "      <td>Afterhourshop</td>\n",
       "      <td>Not bad AT ALL. Better for me than the $2K X-R...</td>\n",
       "      <td>October 26, 2020</td>\n",
       "      <td>United States</td>\n",
       "      <td>Ok, so I have the $2K i1 Pro2 and I got this a...</td>\n",
       "      <td>4</td>\n",
       "    </tr>\n",
       "    <tr>\n",
       "      <th>1</th>\n",
       "      <td>JonG</td>\n",
       "      <td>Usability issues, buggy software, creates tota...</td>\n",
       "      <td>September 16, 2018</td>\n",
       "      <td>United States</td>\n",
       "      <td>I had high expectations of this device given t...</td>\n",
       "      <td>1</td>\n",
       "    </tr>\n",
       "    <tr>\n",
       "      <th>2</th>\n",
       "      <td>Grey</td>\n",
       "      <td>works fine</td>\n",
       "      <td>April 5, 2014</td>\n",
       "      <td>United States</td>\n",
       "      <td>I use 3rd party ink from Precision Colors. Aft...</td>\n",
       "      <td>4</td>\n",
       "    </tr>\n",
       "    <tr>\n",
       "      <th>3</th>\n",
       "      <td>Michael</td>\n",
       "      <td>The Final Step to great looking pictures</td>\n",
       "      <td>August 31, 2015</td>\n",
       "      <td>United States</td>\n",
       "      <td>The final step to great looking pictures. You ...</td>\n",
       "      <td>5</td>\n",
       "    </tr>\n",
       "    <tr>\n",
       "      <th>4</th>\n",
       "      <td>Michael</td>\n",
       "      <td>fine software, nice tech -- very poor housing ...</td>\n",
       "      <td>January 29, 2023</td>\n",
       "      <td>United States</td>\n",
       "      <td>The Spyder Print is capable of producing quite...</td>\n",
       "      <td>2</td>\n",
       "    </tr>\n",
       "  </tbody>\n",
       "</table>\n",
       "</div>"
      ],
      "text/plain": [
       "        username                                              title  \\\n",
       "0  Afterhourshop  Not bad AT ALL. Better for me than the $2K X-R...   \n",
       "1           JonG  Usability issues, buggy software, creates tota...   \n",
       "2           Grey                                         works fine   \n",
       "3        Michael           The Final Step to great looking pictures   \n",
       "4        Michael  fine software, nice tech -- very poor housing ...   \n",
       "\n",
       "                 date         region  \\\n",
       "0    October 26, 2020  United States   \n",
       "1  September 16, 2018  United States   \n",
       "2       April 5, 2014  United States   \n",
       "3     August 31, 2015  United States   \n",
       "4    January 29, 2023  United States   \n",
       "\n",
       "                                                text stars  \n",
       "0  Ok, so I have the $2K i1 Pro2 and I got this a...     4  \n",
       "1  I had high expectations of this device given t...     1  \n",
       "2  I use 3rd party ink from Precision Colors. Aft...     4  \n",
       "3  The final step to great looking pictures. You ...     5  \n",
       "4  The Spyder Print is capable of producing quite...     2  "
      ]
     },
     "execution_count": 108,
     "metadata": {},
     "output_type": "execute_result"
    }
   ],
   "source": [
    "df_columns = ['username', 'title', 'date', 'region', 'text', 'stars']\n",
    "df = pd.DataFrame(columns=df_columns)\n",
    "\n",
    "for i in range(len(REVIEWS)):\n",
    "    rsplit = REVIEWS[i].split('\\n')\n",
    "    rstar = STARS[i]\n",
    "\n",
    "    username = rsplit[0]\n",
    "    title = rsplit[1]\n",
    "    date_region = rsplit[2]\n",
    "    text = rsplit[4:-3]\n",
    "\n",
    "    # econtra uma sequencia de números\n",
    "    pattern = r'\\d+' \n",
    "    stars = re.findall(pattern, rstar)[0]\n",
    "\n",
    "    # encontra a data que está após a palavra 'on'\n",
    "    pattern = r'\\bon\\b\\s+(.+)'\n",
    "    date = re.findall(pattern, date_region)\n",
    "\n",
    "    # encontra a região após 'in the' e antes de 'on'\n",
    "    pattern = r'\\bin the\\b\\s+(.+)\\s+\\bon\\b'\n",
    "    region = re.findall(pattern, date_region)\n",
    "    \n",
    "\n",
    "    sentences = [normal_text for normal_text in text if normal_text != '']\n",
    "    full_text = ' '.join(sentences)\n",
    "    full_text = full_text.replace('\\n', ' ')\n",
    "\n",
    "    df.loc[i] = [username, title, date[0], region[0], full_text, stars]\n",
    "\n",
    "df.head()"
   ]
  },
  {
   "cell_type": "code",
   "execution_count": 110,
   "metadata": {},
   "outputs": [],
   "source": [
    "df.to_csv('datasets/B006UACRTG.csv', index=False, sep=';')"
   ]
  }
 ],
 "metadata": {
  "kernelspec": {
   "display_name": "Python 3",
   "language": "python",
   "name": "python3"
  },
  "language_info": {
   "codemirror_mode": {
    "name": "ipython",
    "version": 3
   },
   "file_extension": ".py",
   "mimetype": "text/x-python",
   "name": "python",
   "nbconvert_exporter": "python",
   "pygments_lexer": "ipython3",
   "version": "3.10.12"
  }
 },
 "nbformat": 4,
 "nbformat_minor": 2
}
