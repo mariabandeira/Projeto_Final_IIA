{
  "cells": [
    {
      "cell_type": "markdown",
      "metadata": {
        "colab_type": "text",
        "id": "view-in-github"
      },
      "source": [
        "<a href=\"https://colab.research.google.com/github/mariabandeira/Projeto_Final_IIA/blob/main/SentimentAnalysis.ipynb\" target=\"_parent\"><img src=\"https://colab.research.google.com/assets/colab-badge.svg\" alt=\"Open In Colab\"/></a>"
      ]
    },
    {
      "cell_type": "code",
      "execution_count": 1,
      "metadata": {
        "id": "QiWr2VUARjMq"
      },
      "outputs": [
        {
          "name": "stderr",
          "output_type": "stream",
          "text": [
            "/home/erlo/.local/lib/python3.10/site-packages/matplotlib/projections/__init__.py:63: UserWarning: Unable to import Axes3D. This may be due to multiple versions of Matplotlib being installed (e.g. as a system package and as a pip package). As a result, the 3D projection is not available.\n",
            "  warnings.warn(\"Unable to import Axes3D. This may be due to multiple versions of \"\n"
          ]
        }
      ],
      "source": [
        "import pandas as pd\n",
        "import numpy as np\n",
        "import matplotlib.pyplot as plt\n",
        "import seaborn as sns\n",
        "\n",
        "plt.style.use('ggplot')\n",
        "\n",
        "import nltk\n",
        "from tqdm.notebook import tqdm\n",
        "from collections import Counter"
      ]
    },
    {
      "cell_type": "code",
      "execution_count": 2,
      "metadata": {
        "id": "k_h7G3NHx4sV"
      },
      "outputs": [
        {
          "name": "stderr",
          "output_type": "stream",
          "text": [
            "[nltk_data] Downloading package punkt to /home/erlo/nltk_data...\n",
            "[nltk_data]   Package punkt is already up-to-date!\n",
            "[nltk_data] Downloading package maxent_ne_chunker to\n",
            "[nltk_data]     /home/erlo/nltk_data...\n",
            "[nltk_data]   Package maxent_ne_chunker is already up-to-date!\n",
            "[nltk_data] Downloading package averaged_perceptron_tagger to\n",
            "[nltk_data]     /home/erlo/nltk_data...\n",
            "[nltk_data]   Package averaged_perceptron_tagger is already up-to-\n",
            "[nltk_data]       date!\n",
            "[nltk_data] Downloading package words to /home/erlo/nltk_data...\n",
            "[nltk_data]   Package words is already up-to-date!\n",
            "[nltk_data] Downloading package stopwords to /home/erlo/nltk_data...\n",
            "[nltk_data]   Package stopwords is already up-to-date!\n",
            "[nltk_data] Downloading package wordnet to /home/erlo/nltk_data...\n",
            "[nltk_data]   Package wordnet is already up-to-date!\n"
          ]
        },
        {
          "data": {
            "text/plain": [
              "True"
            ]
          },
          "execution_count": 2,
          "metadata": {},
          "output_type": "execute_result"
        }
      ],
      "source": [
        "from nltk import pos_tag\n",
        "from nltk.tokenize import word_tokenize\n",
        "\n",
        "nltk.download('punkt')  \n",
        "nltk.download('maxent_ne_chunker') \n",
        "nltk.download('averaged_perceptron_tagger')\n",
        "nltk.download('words')\n",
        "nltk.download('stopwords')\n",
        "nltk.download('wordnet')"
      ]
    },
    {
      "cell_type": "code",
      "execution_count": 3,
      "metadata": {
        "id": "aO8XyyGwZPd0"
      },
      "outputs": [],
      "source": [
        "from transformers import AutoTokenizer\n",
        "from transformers import AutoModelForSequenceClassification\n",
        "from scipy.special import softmax"
      ]
    },
    {
      "cell_type": "code",
      "execution_count": 4,
      "metadata": {},
      "outputs": [
        {
          "name": "stdout",
          "output_type": "stream",
          "text": [
            "Defaulting to user installation because normal site-packages is not writeable\n",
            "Collecting en-core-web-sm==3.7.1\n",
            "  Downloading https://github.com/explosion/spacy-models/releases/download/en_core_web_sm-3.7.1/en_core_web_sm-3.7.1-py3-none-any.whl (12.8 MB)\n",
            "     ━━━━━━━━━━━━━━━━━━━━━━━━━━━━━━━━━━━━━━━━ 12.8/12.8 MB 15.8 MB/s eta 0:00:00\n",
            "Requirement already satisfied: spacy<3.8.0,>=3.7.2 in /home/erlo/.local/lib/python3.10/site-packages (from en-core-web-sm==3.7.1) (3.7.4)\n",
            "Requirement already satisfied: spacy-legacy<3.1.0,>=3.0.11 in /home/erlo/.local/lib/python3.10/site-packages (from spacy<3.8.0,>=3.7.2->en-core-web-sm==3.7.1) (3.0.12)\n",
            "Requirement already satisfied: cymem<2.1.0,>=2.0.2 in /home/erlo/.local/lib/python3.10/site-packages (from spacy<3.8.0,>=3.7.2->en-core-web-sm==3.7.1) (2.0.8)\n",
            "Requirement already satisfied: pydantic!=1.8,!=1.8.1,<3.0.0,>=1.7.4 in /home/erlo/.local/lib/python3.10/site-packages (from spacy<3.8.0,>=3.7.2->en-core-web-sm==3.7.1) (2.7.1)\n",
            "Requirement already satisfied: langcodes<4.0.0,>=3.2.0 in /home/erlo/.local/lib/python3.10/site-packages (from spacy<3.8.0,>=3.7.2->en-core-web-sm==3.7.1) (3.4.0)\n",
            "Requirement already satisfied: numpy>=1.19.0 in /home/erlo/.local/lib/python3.10/site-packages (from spacy<3.8.0,>=3.7.2->en-core-web-sm==3.7.1) (1.26.4)\n",
            "Requirement already satisfied: requests<3.0.0,>=2.13.0 in /home/erlo/.local/lib/python3.10/site-packages (from spacy<3.8.0,>=3.7.2->en-core-web-sm==3.7.1) (2.31.0)\n",
            "Requirement already satisfied: weasel<0.4.0,>=0.1.0 in /home/erlo/.local/lib/python3.10/site-packages (from spacy<3.8.0,>=3.7.2->en-core-web-sm==3.7.1) (0.3.4)\n",
            "Requirement already satisfied: srsly<3.0.0,>=2.4.3 in /home/erlo/.local/lib/python3.10/site-packages (from spacy<3.8.0,>=3.7.2->en-core-web-sm==3.7.1) (2.4.8)\n",
            "Requirement already satisfied: tqdm<5.0.0,>=4.38.0 in /home/erlo/.local/lib/python3.10/site-packages (from spacy<3.8.0,>=3.7.2->en-core-web-sm==3.7.1) (4.66.4)\n",
            "Requirement already satisfied: thinc<8.3.0,>=8.2.2 in /home/erlo/.local/lib/python3.10/site-packages (from spacy<3.8.0,>=3.7.2->en-core-web-sm==3.7.1) (8.2.3)\n",
            "Requirement already satisfied: wasabi<1.2.0,>=0.9.1 in /home/erlo/.local/lib/python3.10/site-packages (from spacy<3.8.0,>=3.7.2->en-core-web-sm==3.7.1) (1.1.2)\n",
            "Requirement already satisfied: typer<0.10.0,>=0.3.0 in /home/erlo/.local/lib/python3.10/site-packages (from spacy<3.8.0,>=3.7.2->en-core-web-sm==3.7.1) (0.9.4)\n",
            "Requirement already satisfied: packaging>=20.0 in /home/erlo/.local/lib/python3.10/site-packages (from spacy<3.8.0,>=3.7.2->en-core-web-sm==3.7.1) (24.0)\n",
            "Requirement already satisfied: spacy-loggers<2.0.0,>=1.0.0 in /home/erlo/.local/lib/python3.10/site-packages (from spacy<3.8.0,>=3.7.2->en-core-web-sm==3.7.1) (1.0.5)\n",
            "Requirement already satisfied: setuptools in /usr/lib/python3/dist-packages (from spacy<3.8.0,>=3.7.2->en-core-web-sm==3.7.1) (59.6.0)\n",
            "Requirement already satisfied: catalogue<2.1.0,>=2.0.6 in /home/erlo/.local/lib/python3.10/site-packages (from spacy<3.8.0,>=3.7.2->en-core-web-sm==3.7.1) (2.0.10)\n",
            "Requirement already satisfied: smart-open<7.0.0,>=5.2.1 in /home/erlo/.local/lib/python3.10/site-packages (from spacy<3.8.0,>=3.7.2->en-core-web-sm==3.7.1) (6.4.0)\n",
            "Requirement already satisfied: murmurhash<1.1.0,>=0.28.0 in /home/erlo/.local/lib/python3.10/site-packages (from spacy<3.8.0,>=3.7.2->en-core-web-sm==3.7.1) (1.0.10)\n",
            "Requirement already satisfied: preshed<3.1.0,>=3.0.2 in /home/erlo/.local/lib/python3.10/site-packages (from spacy<3.8.0,>=3.7.2->en-core-web-sm==3.7.1) (3.0.9)\n",
            "Requirement already satisfied: jinja2 in /home/erlo/.local/lib/python3.10/site-packages (from spacy<3.8.0,>=3.7.2->en-core-web-sm==3.7.1) (3.1.4)\n",
            "Requirement already satisfied: language-data>=1.2 in /home/erlo/.local/lib/python3.10/site-packages (from langcodes<4.0.0,>=3.2.0->spacy<3.8.0,>=3.7.2->en-core-web-sm==3.7.1) (1.2.0)\n",
            "Requirement already satisfied: pydantic-core==2.18.2 in /home/erlo/.local/lib/python3.10/site-packages (from pydantic!=1.8,!=1.8.1,<3.0.0,>=1.7.4->spacy<3.8.0,>=3.7.2->en-core-web-sm==3.7.1) (2.18.2)\n",
            "Requirement already satisfied: annotated-types>=0.4.0 in /home/erlo/.local/lib/python3.10/site-packages (from pydantic!=1.8,!=1.8.1,<3.0.0,>=1.7.4->spacy<3.8.0,>=3.7.2->en-core-web-sm==3.7.1) (0.6.0)\n",
            "Requirement already satisfied: typing-extensions>=4.6.1 in /home/erlo/.local/lib/python3.10/site-packages (from pydantic!=1.8,!=1.8.1,<3.0.0,>=1.7.4->spacy<3.8.0,>=3.7.2->en-core-web-sm==3.7.1) (4.11.0)\n",
            "Requirement already satisfied: idna<4,>=2.5 in /usr/lib/python3/dist-packages (from requests<3.0.0,>=2.13.0->spacy<3.8.0,>=3.7.2->en-core-web-sm==3.7.1) (3.3)\n",
            "Requirement already satisfied: charset-normalizer<4,>=2 in /home/erlo/.local/lib/python3.10/site-packages (from requests<3.0.0,>=2.13.0->spacy<3.8.0,>=3.7.2->en-core-web-sm==3.7.1) (3.3.2)\n",
            "Requirement already satisfied: urllib3<3,>=1.21.1 in /usr/lib/python3/dist-packages (from requests<3.0.0,>=2.13.0->spacy<3.8.0,>=3.7.2->en-core-web-sm==3.7.1) (1.26.5)\n",
            "Requirement already satisfied: certifi>=2017.4.17 in /home/erlo/.local/lib/python3.10/site-packages (from requests<3.0.0,>=2.13.0->spacy<3.8.0,>=3.7.2->en-core-web-sm==3.7.1) (2024.2.2)\n",
            "Requirement already satisfied: confection<1.0.0,>=0.0.1 in /home/erlo/.local/lib/python3.10/site-packages (from thinc<8.3.0,>=8.2.2->spacy<3.8.0,>=3.7.2->en-core-web-sm==3.7.1) (0.1.4)\n",
            "Requirement already satisfied: blis<0.8.0,>=0.7.8 in /home/erlo/.local/lib/python3.10/site-packages (from thinc<8.3.0,>=8.2.2->spacy<3.8.0,>=3.7.2->en-core-web-sm==3.7.1) (0.7.11)\n",
            "Requirement already satisfied: click<9.0.0,>=7.1.1 in /usr/lib/python3/dist-packages (from typer<0.10.0,>=0.3.0->spacy<3.8.0,>=3.7.2->en-core-web-sm==3.7.1) (8.0.3)\n",
            "Requirement already satisfied: cloudpathlib<0.17.0,>=0.7.0 in /home/erlo/.local/lib/python3.10/site-packages (from weasel<0.4.0,>=0.1.0->spacy<3.8.0,>=3.7.2->en-core-web-sm==3.7.1) (0.16.0)\n",
            "Requirement already satisfied: MarkupSafe>=2.0 in /home/erlo/.local/lib/python3.10/site-packages (from jinja2->spacy<3.8.0,>=3.7.2->en-core-web-sm==3.7.1) (2.1.5)\n",
            "Requirement already satisfied: marisa-trie>=0.7.7 in /home/erlo/.local/lib/python3.10/site-packages (from language-data>=1.2->langcodes<4.0.0,>=3.2.0->spacy<3.8.0,>=3.7.2->en-core-web-sm==3.7.1) (1.1.1)\n",
            "\u001b[38;5;2m✔ Download and installation successful\u001b[0m\n",
            "You can now load the package via spacy.load('en_core_web_sm')\n",
            "\u001b[38;5;3m⚠ Restart to reload dependencies\u001b[0m\n",
            "If you are in a Jupyter or Colab notebook, you may need to restart Python in\n",
            "order to load all the package's dependencies. You can do this by selecting the\n",
            "'Restart kernel' or 'Restart runtime' option.\n"
          ]
        }
      ],
      "source": [
        "import spacy\n",
        "import string\n",
        "import spacy.cli\n",
        "spacy.cli.download(\"en_core_web_sm\") "
      ]
    },
    {
      "cell_type": "code",
      "execution_count": 7,
      "metadata": {},
      "outputs": [],
      "source": [
        "from textblob import Word, TextBlob\n",
        "from deep_translator import GoogleTranslator\n",
        "import pandas as pd"
      ]
    },
    {
      "cell_type": "code",
      "execution_count": 97,
      "metadata": {},
      "outputs": [],
      "source": [
        "from nrclex import NRCLex\n",
        "from collections import Counter"
      ]
    },
    {
      "cell_type": "markdown",
      "metadata": {
        "id": "lJHRVzJJG8He"
      },
      "source": [
        "## Sentiment Analysis"
      ]
    },
    {
      "cell_type": "code",
      "execution_count": 8,
      "metadata": {
        "id": "tM8KEV6qPbjz"
      },
      "outputs": [],
      "source": [
        "neg_df = pd.read_csv('datasets/NEGATIVE_B0BHZT5S12.csv', sep=';')\n",
        "pos_df = pd.read_csv('datasets/POSITIVE_B0BHZT5S12.csv', sep=';')"
      ]
    },
    {
      "cell_type": "code",
      "execution_count": 9,
      "metadata": {
        "colab": {
          "base_uri": "https://localhost:8080/",
          "height": 293
        },
        "id": "n904zFaCQGvb",
        "outputId": "1f2eaa02-8e58-4370-cd7a-afda70f0775d"
      },
      "outputs": [
        {
          "data": {
            "text/html": [
              "<div>\n",
              "<style scoped>\n",
              "    .dataframe tbody tr th:only-of-type {\n",
              "        vertical-align: middle;\n",
              "    }\n",
              "\n",
              "    .dataframe tbody tr th {\n",
              "        vertical-align: top;\n",
              "    }\n",
              "\n",
              "    .dataframe thead th {\n",
              "        text-align: right;\n",
              "    }\n",
              "</style>\n",
              "<table border=\"1\" class=\"dataframe\">\n",
              "  <thead>\n",
              "    <tr style=\"text-align: right;\">\n",
              "      <th></th>\n",
              "      <th>username</th>\n",
              "      <th>title</th>\n",
              "      <th>model</th>\n",
              "      <th>verified</th>\n",
              "      <th>date</th>\n",
              "      <th>region</th>\n",
              "      <th>text</th>\n",
              "      <th>stars</th>\n",
              "      <th>id</th>\n",
              "    </tr>\n",
              "  </thead>\n",
              "  <tbody>\n",
              "    <tr>\n",
              "      <th>0</th>\n",
              "      <td>columbia93</td>\n",
              "      <td>Battery doesn't last very long &amp; forget about ...</td>\n",
              "      <td>Digital Storage Capacity: 32 GBOffer Type: Wit...</td>\n",
              "      <td>Verified Purchase</td>\n",
              "      <td>April 6, 2024</td>\n",
              "      <td>United States</td>\n",
              "      <td>\\nThis is my 3rd Fire 10 Tablet. They have a r...</td>\n",
              "      <td>3.0</td>\n",
              "      <td>B0BHZT5S12</td>\n",
              "    </tr>\n",
              "  </tbody>\n",
              "</table>\n",
              "</div>"
            ],
            "text/plain": [
              "     username                                              title  \\\n",
              "0  columbia93  Battery doesn't last very long & forget about ...   \n",
              "\n",
              "                                               model           verified  \\\n",
              "0  Digital Storage Capacity: 32 GBOffer Type: Wit...  Verified Purchase   \n",
              "\n",
              "            date         region  \\\n",
              "0  April 6, 2024  United States   \n",
              "\n",
              "                                                text  stars          id  \n",
              "0  \\nThis is my 3rd Fire 10 Tablet. They have a r...    3.0  B0BHZT5S12  "
            ]
          },
          "execution_count": 9,
          "metadata": {},
          "output_type": "execute_result"
        }
      ],
      "source": [
        "neg_df.head(1)"
      ]
    },
    {
      "cell_type": "code",
      "execution_count": 10,
      "metadata": {
        "colab": {
          "base_uri": "https://localhost:8080/",
          "height": 293
        },
        "id": "-ZmODIN6atnI",
        "outputId": "1afbeab3-9289-4430-a5af-092b4dffa074"
      },
      "outputs": [
        {
          "data": {
            "text/html": [
              "<div>\n",
              "<style scoped>\n",
              "    .dataframe tbody tr th:only-of-type {\n",
              "        vertical-align: middle;\n",
              "    }\n",
              "\n",
              "    .dataframe tbody tr th {\n",
              "        vertical-align: top;\n",
              "    }\n",
              "\n",
              "    .dataframe thead th {\n",
              "        text-align: right;\n",
              "    }\n",
              "</style>\n",
              "<table border=\"1\" class=\"dataframe\">\n",
              "  <thead>\n",
              "    <tr style=\"text-align: right;\">\n",
              "      <th></th>\n",
              "      <th>username</th>\n",
              "      <th>title</th>\n",
              "      <th>model</th>\n",
              "      <th>verified</th>\n",
              "      <th>date</th>\n",
              "      <th>region</th>\n",
              "      <th>text</th>\n",
              "      <th>stars</th>\n",
              "      <th>id</th>\n",
              "    </tr>\n",
              "  </thead>\n",
              "  <tbody>\n",
              "    <tr>\n",
              "      <th>0</th>\n",
              "      <td>Ace Knight</td>\n",
              "      <td>I Keep Buying Kindle Tablets!  Incredibly Vers...</td>\n",
              "      <td>Digital Storage Capacity: 32 GBOffer Type: Wit...</td>\n",
              "      <td>Verified Purchase</td>\n",
              "      <td>March 14, 2024</td>\n",
              "      <td>United States</td>\n",
              "      <td>\\nI have a herd of Kindle Fire Tablets from ov...</td>\n",
              "      <td>5.0</td>\n",
              "      <td>B0BHZT5S12</td>\n",
              "    </tr>\n",
              "  </tbody>\n",
              "</table>\n",
              "</div>"
            ],
            "text/plain": [
              "     username                                              title  \\\n",
              "0  Ace Knight  I Keep Buying Kindle Tablets!  Incredibly Vers...   \n",
              "\n",
              "                                               model           verified  \\\n",
              "0  Digital Storage Capacity: 32 GBOffer Type: Wit...  Verified Purchase   \n",
              "\n",
              "             date         region  \\\n",
              "0  March 14, 2024  United States   \n",
              "\n",
              "                                                text  stars          id  \n",
              "0  \\nI have a herd of Kindle Fire Tablets from ov...    5.0  B0BHZT5S12  "
            ]
          },
          "execution_count": 10,
          "metadata": {},
          "output_type": "execute_result"
        }
      ],
      "source": [
        "pos_df.head(1)"
      ]
    },
    {
      "cell_type": "code",
      "execution_count": 11,
      "metadata": {
        "id": "dBTlf3UUazBj"
      },
      "outputs": [],
      "source": [
        "df = (pd.concat([neg_df, pos_df], ignore_index=True)\n",
        "     .assign(origem=lambda x: ['negative'] * len(neg_df) + ['positive'] * len(pos_df)))"
      ]
    },
    {
      "cell_type": "code",
      "execution_count": 12,
      "metadata": {
        "colab": {
          "base_uri": "https://localhost:8080/",
          "height": 1000
        },
        "id": "m3aMrUSCblWH",
        "outputId": "0199ef91-fdcd-4d58-ec0e-9a7350cb959f"
      },
      "outputs": [
        {
          "data": {
            "text/html": [
              "<div>\n",
              "<style scoped>\n",
              "    .dataframe tbody tr th:only-of-type {\n",
              "        vertical-align: middle;\n",
              "    }\n",
              "\n",
              "    .dataframe tbody tr th {\n",
              "        vertical-align: top;\n",
              "    }\n",
              "\n",
              "    .dataframe thead th {\n",
              "        text-align: right;\n",
              "    }\n",
              "</style>\n",
              "<table border=\"1\" class=\"dataframe\">\n",
              "  <thead>\n",
              "    <tr style=\"text-align: right;\">\n",
              "      <th></th>\n",
              "      <th>username</th>\n",
              "      <th>title</th>\n",
              "      <th>model</th>\n",
              "      <th>verified</th>\n",
              "      <th>date</th>\n",
              "      <th>region</th>\n",
              "      <th>text</th>\n",
              "      <th>stars</th>\n",
              "      <th>id</th>\n",
              "      <th>origem</th>\n",
              "    </tr>\n",
              "  </thead>\n",
              "  <tbody>\n",
              "    <tr>\n",
              "      <th>0</th>\n",
              "      <td>KevinT</td>\n",
              "      <td>Not enough apps</td>\n",
              "      <td>Digital Storage Capacity: 32 GBOffer Type: Wit...</td>\n",
              "      <td>Verified Purchase</td>\n",
              "      <td>April 11, 2024</td>\n",
              "      <td>United States</td>\n",
              "      <td>\\nNot enough apps, my daughter hates it but I ...</td>\n",
              "      <td>3.0</td>\n",
              "      <td>B0BHZT5S12</td>\n",
              "      <td>negative</td>\n",
              "    </tr>\n",
              "    <tr>\n",
              "      <th>1</th>\n",
              "      <td>SRK</td>\n",
              "      <td>Okay for its price</td>\n",
              "      <td>Digital Storage Capacity: 32 GBOffer Type: Wit...</td>\n",
              "      <td>Verified Purchase</td>\n",
              "      <td>December 29, 2023</td>\n",
              "      <td>United States</td>\n",
              "      <td>\\nPros -1. Lower price compared to iPad.2. Has...</td>\n",
              "      <td>3.0</td>\n",
              "      <td>B0BHZT5S12</td>\n",
              "      <td>negative</td>\n",
              "    </tr>\n",
              "    <tr>\n",
              "      <th>2</th>\n",
              "      <td>columbia93</td>\n",
              "      <td>Battery doesn't last very long &amp; forget about ...</td>\n",
              "      <td>Digital Storage Capacity: 32 GBOffer Type: Wit...</td>\n",
              "      <td>Verified Purchase</td>\n",
              "      <td>April 6, 2024</td>\n",
              "      <td>United States</td>\n",
              "      <td>\\nThis is my 3rd Fire 10 Tablet. They have a r...</td>\n",
              "      <td>3.0</td>\n",
              "      <td>B0BHZT5S12</td>\n",
              "      <td>negative</td>\n",
              "    </tr>\n",
              "  </tbody>\n",
              "</table>\n",
              "</div>"
            ],
            "text/plain": [
              "     username                                              title  \\\n",
              "0      KevinT                                    Not enough apps   \n",
              "1         SRK                                 Okay for its price   \n",
              "2  columbia93  Battery doesn't last very long & forget about ...   \n",
              "\n",
              "                                               model           verified  \\\n",
              "0  Digital Storage Capacity: 32 GBOffer Type: Wit...  Verified Purchase   \n",
              "1  Digital Storage Capacity: 32 GBOffer Type: Wit...  Verified Purchase   \n",
              "2  Digital Storage Capacity: 32 GBOffer Type: Wit...  Verified Purchase   \n",
              "\n",
              "                date         region  \\\n",
              "0     April 11, 2024  United States   \n",
              "1  December 29, 2023  United States   \n",
              "2      April 6, 2024  United States   \n",
              "\n",
              "                                                text  stars          id  \\\n",
              "0  \\nNot enough apps, my daughter hates it but I ...    3.0  B0BHZT5S12   \n",
              "1  \\nPros -1. Lower price compared to iPad.2. Has...    3.0  B0BHZT5S12   \n",
              "2  \\nThis is my 3rd Fire 10 Tablet. They have a r...    3.0  B0BHZT5S12   \n",
              "\n",
              "     origem  \n",
              "0  negative  \n",
              "1  negative  \n",
              "2  negative  "
            ]
          },
          "execution_count": 12,
          "metadata": {},
          "output_type": "execute_result"
        }
      ],
      "source": [
        "df = df.sample(frac=1).reset_index(drop=True)\n",
        "df.head(3)"
      ]
    },
    {
      "cell_type": "markdown",
      "metadata": {},
      "source": [
        "### Introdução"
      ]
    },
    {
      "cell_type": "code",
      "execution_count": 13,
      "metadata": {},
      "outputs": [],
      "source": [
        "PRODUCT_ID = df['id'].unique()[0]"
      ]
    },
    {
      "cell_type": "code",
      "execution_count": 14,
      "metadata": {
        "colab": {
          "base_uri": "https://localhost:8080/",
          "height": 453
        },
        "id": "Kp3w7V4JTnxl",
        "outputId": "da376a67-3232-4ced-8a68-25326425fed3"
      },
      "outputs": [
        {
          "data": {
            "image/png": "[encoded data removed]",
            "text/plain": [
              "<Figure size 1000x500 with 1 Axes>"
            ]
          },
          "metadata": {},
          "output_type": "display_data"
        }
      ],
      "source": [
        "ax = df['stars'].value_counts().sort_index().plot(kind='bar',figsize=(10,5))\n",
        "ax.set_xlabel('')\n",
        "ax.set_title('Distribuição de estrelas - {}'.format(PRODUCT_ID))\n",
        "plt.show()"
      ]
    },
    {
      "cell_type": "code",
      "execution_count": 15,
      "metadata": {},
      "outputs": [
        {
          "data": {
            "image/png": "[encoded data removed]",
            "text/plain": [
              "<Figure size 1000x500 with 1 Axes>"
            ]
          },
          "metadata": {},
          "output_type": "display_data"
        }
      ],
      "source": [
        "ax = df['verified'].value_counts().sort_index().plot(kind='bar', figsize=(10,5))\n",
        "ax.set_xlabel('')\n",
        "ax.set_title('Distribuição de avaliações verificadas - {}'.format(PRODUCT_ID))\n",
        "plt.show()"
      ]
    },
    {
      "cell_type": "code",
      "execution_count": 16,
      "metadata": {},
      "outputs": [
        {
          "data": {
            "image/png": "[encoded data removed]",
            "text/plain": [
              "<Figure size 1000x500 with 1 Axes>"
            ]
          },
          "metadata": {},
          "output_type": "display_data"
        }
      ],
      "source": [
        "ax = df['origem'].value_counts().sort_index().plot(kind='bar', figsize=(10,5))\n",
        "ax.set_xlabel('')\n",
        "ax.set_title('Distribuição de sentimentos original - {}'.format(PRODUCT_ID))\n",
        "plt.show()"
      ]
    },
    {
      "cell_type": "markdown",
      "metadata": {
        "id": "giCd25LoZuSm"
      },
      "source": [
        "### Pretrained Model"
      ]
    },
    {
      "cell_type": "code",
      "execution_count": 17,
      "metadata": {
        "colab": {
          "base_uri": "https://localhost:8080/"
        },
        "id": "xTgFVwNVZtXd",
        "outputId": "e64b1a2f-e44b-422a-814f-55c976f1789c"
      },
      "outputs": [
        {
          "name": "stderr",
          "output_type": "stream",
          "text": [
            "/home/erlo/.local/lib/python3.10/site-packages/huggingface_hub/file_download.py:1132: FutureWarning: `resume_download` is deprecated and will be removed in version 1.0.0. Downloads always resume when possible. If you want to force a new download, use `force_download=True`.\n",
            "  warnings.warn(\n"
          ]
        }
      ],
      "source": [
        "MODEL = f\"cardiffnlp/twitter-roberta-base-sentiment\"\n",
        "tokenizer = AutoTokenizer.from_pretrained(MODEL)\n",
        "model = AutoModelForSequenceClassification.from_pretrained(MODEL)"
      ]
    },
    {
      "cell_type": "code",
      "execution_count": 18,
      "metadata": {
        "id": "fYff1CWYbKQX"
      },
      "outputs": [],
      "source": [
        "def polarity_scores_roberta(example):\n",
        "  encoded_text = tokenizer(example, return_tensors='pt') # output should be pytorch tensors(vectors)\n",
        "  output = model(**encoded_text) # passing the enconded(tokenized) text into RoBERTa\n",
        "  scores = output[0][0].detach().numpy()\n",
        "  scores = softmax(scores) #converts the scores into probabilities\n",
        "  scores_dict = {\n",
        "    'roberta_neg': scores[0],\n",
        "    'roberta_neu': scores[1],\n",
        "    'roberta_pos': scores[2]\n",
        "  }\n",
        "\n",
        "  return scores_dict"
      ]
    },
    {
      "cell_type": "code",
      "execution_count": 19,
      "metadata": {
        "id": "vA3fJcJxczuq"
      },
      "outputs": [],
      "source": [
        "df = df.rename(columns={'id': 'product_id'})"
      ]
    },
    {
      "cell_type": "code",
      "execution_count": 26,
      "metadata": {},
      "outputs": [],
      "source": [
        "df['Id'] = df.index"
      ]
    },
    {
      "cell_type": "code",
      "execution_count": 27,
      "metadata": {
        "id": "su4yNLJdiVTP"
      },
      "outputs": [],
      "source": [
        "df = df.dropna()"
      ]
    },
    {
      "cell_type": "code",
      "execution_count": 28,
      "metadata": {
        "colab": {
          "base_uri": "https://localhost:8080/",
          "height": 49,
          "referenced_widgets": [
            "8a570430cd864e6c960a007820c93021",
            "b748467fd0ec400e91b21560d29d268b",
            "5787b06a422e4002999511ddd5fb8206",
            "12487cf50ec0466e887802bab5dd8301",
            "e7dce49ee33f4f11be2e58b760f90937",
            "8a0d78a4bbb44416829a431f07562097",
            "8994206b76684855bac49476a6c89651",
            "dfb8188cfdc94943ba11152a4a2379a4",
            "e2af2bf0c2f4448b9e892a0155c64a74",
            "1641140b12814d9cba897c3cf69f55a5",
            "3942193740244d19975a537d723c4248"
          ]
        },
        "id": "eSWPdZUobiXg",
        "outputId": "1ce94d66-08b8-48d5-8122-6fb15345821f"
      },
      "outputs": [
        {
          "name": "stdout",
          "output_type": "stream",
          "text": [
            "Broke for id 2\n",
            "Broke for id 5\n",
            "Broke for id 64\n",
            "Broke for id 91\n",
            "Broke for id 92\n",
            "Broke for id 125\n",
            "Broke for id 128\n"
          ]
        }
      ],
      "source": [
        "# Creates the roberta results DF\n",
        "res = {}\n",
        "for i, row in df.iterrows():\n",
        "  try:\n",
        "    text = row['text']\n",
        "    myid = row['Id']\n",
        "    roberta_result = polarity_scores_roberta(text)\n",
        "    res[myid] = roberta_result\n",
        "  except RuntimeError:\n",
        "    print(f'Broke for id {myid}')"
      ]
    },
    {
      "cell_type": "code",
      "execution_count": 29,
      "metadata": {
        "id": "PWJtR1lSZiX7"
      },
      "outputs": [],
      "source": [
        "results_df = pd.DataFrame(res).T"
      ]
    },
    {
      "cell_type": "code",
      "execution_count": 30,
      "metadata": {
        "colab": {
          "base_uri": "https://localhost:8080/",
          "height": 1000
        },
        "id": "C2wfmK70Zkck",
        "outputId": "f6c006d4-9907-42c7-a73f-efab093b9130"
      },
      "outputs": [
        {
          "data": {
            "text/html": [
              "<div>\n",
              "<style scoped>\n",
              "    .dataframe tbody tr th:only-of-type {\n",
              "        vertical-align: middle;\n",
              "    }\n",
              "\n",
              "    .dataframe tbody tr th {\n",
              "        vertical-align: top;\n",
              "    }\n",
              "\n",
              "    .dataframe thead th {\n",
              "        text-align: right;\n",
              "    }\n",
              "</style>\n",
              "<table border=\"1\" class=\"dataframe\">\n",
              "  <thead>\n",
              "    <tr style=\"text-align: right;\">\n",
              "      <th></th>\n",
              "      <th>roberta_neg</th>\n",
              "      <th>roberta_neu</th>\n",
              "      <th>roberta_pos</th>\n",
              "    </tr>\n",
              "  </thead>\n",
              "  <tbody>\n",
              "    <tr>\n",
              "      <th>0</th>\n",
              "      <td>0.922657</td>\n",
              "      <td>0.068516</td>\n",
              "      <td>0.008828</td>\n",
              "    </tr>\n",
              "    <tr>\n",
              "      <th>1</th>\n",
              "      <td>0.477187</td>\n",
              "      <td>0.392493</td>\n",
              "      <td>0.130321</td>\n",
              "    </tr>\n",
              "    <tr>\n",
              "      <th>3</th>\n",
              "      <td>0.015919</td>\n",
              "      <td>0.130102</td>\n",
              "      <td>0.853979</td>\n",
              "    </tr>\n",
              "    <tr>\n",
              "      <th>4</th>\n",
              "      <td>0.801570</td>\n",
              "      <td>0.162842</td>\n",
              "      <td>0.035588</td>\n",
              "    </tr>\n",
              "    <tr>\n",
              "      <th>6</th>\n",
              "      <td>0.112769</td>\n",
              "      <td>0.316301</td>\n",
              "      <td>0.570929</td>\n",
              "    </tr>\n",
              "    <tr>\n",
              "      <th>...</th>\n",
              "      <td>...</td>\n",
              "      <td>...</td>\n",
              "      <td>...</td>\n",
              "    </tr>\n",
              "    <tr>\n",
              "      <th>195</th>\n",
              "      <td>0.001441</td>\n",
              "      <td>0.007429</td>\n",
              "      <td>0.991131</td>\n",
              "    </tr>\n",
              "    <tr>\n",
              "      <th>196</th>\n",
              "      <td>0.013303</td>\n",
              "      <td>0.079591</td>\n",
              "      <td>0.907106</td>\n",
              "    </tr>\n",
              "    <tr>\n",
              "      <th>197</th>\n",
              "      <td>0.666389</td>\n",
              "      <td>0.235665</td>\n",
              "      <td>0.097946</td>\n",
              "    </tr>\n",
              "    <tr>\n",
              "      <th>198</th>\n",
              "      <td>0.738834</td>\n",
              "      <td>0.247023</td>\n",
              "      <td>0.014143</td>\n",
              "    </tr>\n",
              "    <tr>\n",
              "      <th>199</th>\n",
              "      <td>0.480566</td>\n",
              "      <td>0.399058</td>\n",
              "      <td>0.120376</td>\n",
              "    </tr>\n",
              "  </tbody>\n",
              "</table>\n",
              "<p>193 rows × 3 columns</p>\n",
              "</div>"
            ],
            "text/plain": [
              "     roberta_neg  roberta_neu  roberta_pos\n",
              "0       0.922657     0.068516     0.008828\n",
              "1       0.477187     0.392493     0.130321\n",
              "3       0.015919     0.130102     0.853979\n",
              "4       0.801570     0.162842     0.035588\n",
              "6       0.112769     0.316301     0.570929\n",
              "..           ...          ...          ...\n",
              "195     0.001441     0.007429     0.991131\n",
              "196     0.013303     0.079591     0.907106\n",
              "197     0.666389     0.235665     0.097946\n",
              "198     0.738834     0.247023     0.014143\n",
              "199     0.480566     0.399058     0.120376\n",
              "\n",
              "[193 rows x 3 columns]"
            ]
          },
          "execution_count": 30,
          "metadata": {},
          "output_type": "execute_result"
        }
      ],
      "source": [
        "results_df"
      ]
    },
    {
      "cell_type": "code",
      "execution_count": 31,
      "metadata": {
        "id": "ivCEYAVabiOJ"
      },
      "outputs": [],
      "source": [
        "#results_df = pd.DataFrame(res).T\n",
        "results_df = results_df.reset_index().rename(columns={'index': 'Id'})\n",
        "results_df = results_df.merge(df, how='left')"
      ]
    },
    {
      "cell_type": "code",
      "execution_count": 32,
      "metadata": {
        "colab": {
          "base_uri": "https://localhost:8080/",
          "height": 1000
        },
        "id": "gZm416Npeanf",
        "outputId": "d73f38df-f168-408d-9873-010bb279b13b"
      },
      "outputs": [
        {
          "data": {
            "text/html": [
              "<div>\n",
              "<style scoped>\n",
              "    .dataframe tbody tr th:only-of-type {\n",
              "        vertical-align: middle;\n",
              "    }\n",
              "\n",
              "    .dataframe tbody tr th {\n",
              "        vertical-align: top;\n",
              "    }\n",
              "\n",
              "    .dataframe thead th {\n",
              "        text-align: right;\n",
              "    }\n",
              "</style>\n",
              "<table border=\"1\" class=\"dataframe\">\n",
              "  <thead>\n",
              "    <tr style=\"text-align: right;\">\n",
              "      <th></th>\n",
              "      <th>Id</th>\n",
              "      <th>roberta_neg</th>\n",
              "      <th>roberta_neu</th>\n",
              "      <th>roberta_pos</th>\n",
              "      <th>username</th>\n",
              "      <th>title</th>\n",
              "      <th>model</th>\n",
              "      <th>verified</th>\n",
              "      <th>date</th>\n",
              "      <th>region</th>\n",
              "      <th>text</th>\n",
              "      <th>stars</th>\n",
              "      <th>product_id</th>\n",
              "      <th>origem</th>\n",
              "    </tr>\n",
              "  </thead>\n",
              "  <tbody>\n",
              "    <tr>\n",
              "      <th>0</th>\n",
              "      <td>0</td>\n",
              "      <td>0.922657</td>\n",
              "      <td>0.068516</td>\n",
              "      <td>0.008828</td>\n",
              "      <td>KevinT</td>\n",
              "      <td>Not enough apps</td>\n",
              "      <td>Digital Storage Capacity: 32 GBOffer Type: Wit...</td>\n",
              "      <td>Verified Purchase</td>\n",
              "      <td>April 11, 2024</td>\n",
              "      <td>United States</td>\n",
              "      <td>\\nNot enough apps, my daughter hates it but I ...</td>\n",
              "      <td>3.0</td>\n",
              "      <td>B0BHZT5S12</td>\n",
              "      <td>negative</td>\n",
              "    </tr>\n",
              "    <tr>\n",
              "      <th>1</th>\n",
              "      <td>1</td>\n",
              "      <td>0.477187</td>\n",
              "      <td>0.392493</td>\n",
              "      <td>0.130321</td>\n",
              "      <td>SRK</td>\n",
              "      <td>Okay for its price</td>\n",
              "      <td>Digital Storage Capacity: 32 GBOffer Type: Wit...</td>\n",
              "      <td>Verified Purchase</td>\n",
              "      <td>December 29, 2023</td>\n",
              "      <td>United States</td>\n",
              "      <td>\\nPros -1. Lower price compared to iPad.2. Has...</td>\n",
              "      <td>3.0</td>\n",
              "      <td>B0BHZT5S12</td>\n",
              "      <td>negative</td>\n",
              "    </tr>\n",
              "    <tr>\n",
              "      <th>2</th>\n",
              "      <td>3</td>\n",
              "      <td>0.015919</td>\n",
              "      <td>0.130102</td>\n",
              "      <td>0.853979</td>\n",
              "      <td>C C</td>\n",
              "      <td>I love my Kindel</td>\n",
              "      <td>Digital Storage Capacity: 32 GBOffer Type: Wit...</td>\n",
              "      <td>Verified Purchase</td>\n",
              "      <td>May 2, 2024</td>\n",
              "      <td>United States</td>\n",
              "      <td>\\nIs only one thing it is not blue tooth I lik...</td>\n",
              "      <td>3.0</td>\n",
              "      <td>B0BHZT5S12</td>\n",
              "      <td>negative</td>\n",
              "    </tr>\n",
              "    <tr>\n",
              "      <th>3</th>\n",
              "      <td>4</td>\n",
              "      <td>0.801570</td>\n",
              "      <td>0.162842</td>\n",
              "      <td>0.035588</td>\n",
              "      <td>George H. Seidel Jr.</td>\n",
              "      <td>Loved it, but the one I got was defective</td>\n",
              "      <td>Digital Storage Capacity: 32 GBOffer Type: Wit...</td>\n",
              "      <td>Verified Purchase</td>\n",
              "      <td>April 18, 2024</td>\n",
              "      <td>United States</td>\n",
              "      <td>\\nI loved this Kindle.  But after a few weeks ...</td>\n",
              "      <td>5.0</td>\n",
              "      <td>B0BHZT5S12</td>\n",
              "      <td>positive</td>\n",
              "    </tr>\n",
              "    <tr>\n",
              "      <th>4</th>\n",
              "      <td>6</td>\n",
              "      <td>0.112769</td>\n",
              "      <td>0.316301</td>\n",
              "      <td>0.570929</td>\n",
              "      <td>R. D. Hoag</td>\n",
              "      <td>This is a great value</td>\n",
              "      <td>Digital Storage Capacity: 32 GBOffer Type: Wit...</td>\n",
              "      <td>Verified Purchase</td>\n",
              "      <td>April 26, 2024</td>\n",
              "      <td>United States</td>\n",
              "      <td>\\nExtremely inexpensive for what you get. Exce...</td>\n",
              "      <td>5.0</td>\n",
              "      <td>B0BHZT5S12</td>\n",
              "      <td>positive</td>\n",
              "    </tr>\n",
              "    <tr>\n",
              "      <th>...</th>\n",
              "      <td>...</td>\n",
              "      <td>...</td>\n",
              "      <td>...</td>\n",
              "      <td>...</td>\n",
              "      <td>...</td>\n",
              "      <td>...</td>\n",
              "      <td>...</td>\n",
              "      <td>...</td>\n",
              "      <td>...</td>\n",
              "      <td>...</td>\n",
              "      <td>...</td>\n",
              "      <td>...</td>\n",
              "      <td>...</td>\n",
              "      <td>...</td>\n",
              "    </tr>\n",
              "    <tr>\n",
              "      <th>188</th>\n",
              "      <td>195</td>\n",
              "      <td>0.001441</td>\n",
              "      <td>0.007429</td>\n",
              "      <td>0.991131</td>\n",
              "      <td>Amazon Customer</td>\n",
              "      <td>This is a great tablet.</td>\n",
              "      <td>Digital Storage Capacity: 32 GBOffer Type: Wit...</td>\n",
              "      <td>Verified Purchase</td>\n",
              "      <td>April 2, 2024</td>\n",
              "      <td>United States</td>\n",
              "      <td>\\nThis is a wonderful tablet. It is lightweigh...</td>\n",
              "      <td>5.0</td>\n",
              "      <td>B0BHZT5S12</td>\n",
              "      <td>positive</td>\n",
              "    </tr>\n",
              "    <tr>\n",
              "      <th>189</th>\n",
              "      <td>196</td>\n",
              "      <td>0.013303</td>\n",
              "      <td>0.079591</td>\n",
              "      <td>0.907106</td>\n",
              "      <td>Teevan</td>\n",
              "      <td>Great tablet for basic functions</td>\n",
              "      <td>Digital Storage Capacity: 32 GBOffer Type: Wit...</td>\n",
              "      <td>Verified Purchase</td>\n",
              "      <td>April 23, 2024</td>\n",
              "      <td>United States</td>\n",
              "      <td>\\nGreat if you need something for web browsing...</td>\n",
              "      <td>5.0</td>\n",
              "      <td>B0BHZT5S12</td>\n",
              "      <td>positive</td>\n",
              "    </tr>\n",
              "    <tr>\n",
              "      <th>190</th>\n",
              "      <td>197</td>\n",
              "      <td>0.666389</td>\n",
              "      <td>0.235665</td>\n",
              "      <td>0.097946</td>\n",
              "      <td>Just Saying</td>\n",
              "      <td>Not much faster than my 2017 Fire HD 10 that I...</td>\n",
              "      <td>Digital Storage Capacity: 32 GBOffer Type: Wit...</td>\n",
              "      <td>Verified Purchase</td>\n",
              "      <td>January 11, 2024</td>\n",
              "      <td>United States</td>\n",
              "      <td>\\nThe price on sale makes this a no brainer.  ...</td>\n",
              "      <td>3.0</td>\n",
              "      <td>B0BHZT5S12</td>\n",
              "      <td>negative</td>\n",
              "    </tr>\n",
              "    <tr>\n",
              "      <th>191</th>\n",
              "      <td>198</td>\n",
              "      <td>0.738834</td>\n",
              "      <td>0.247023</td>\n",
              "      <td>0.014143</td>\n",
              "      <td>drwmjohns</td>\n",
              "      <td>Some apps are not available to be downloaded 😕</td>\n",
              "      <td>Digital Storage Capacity: 64 GBOffer Type: Wit...</td>\n",
              "      <td>Verified Purchase</td>\n",
              "      <td>March 13, 2024</td>\n",
              "      <td>United States</td>\n",
              "      <td>\\nWas not able to download the Filament Bible ...</td>\n",
              "      <td>3.0</td>\n",
              "      <td>B0BHZT5S12</td>\n",
              "      <td>negative</td>\n",
              "    </tr>\n",
              "    <tr>\n",
              "      <th>192</th>\n",
              "      <td>199</td>\n",
              "      <td>0.480566</td>\n",
              "      <td>0.399058</td>\n",
              "      <td>0.120376</td>\n",
              "      <td>C.C.Chips</td>\n",
              "      <td>Meh...</td>\n",
              "      <td>Digital Storage Capacity: 64 GBOffer Type: Wit...</td>\n",
              "      <td>Verified Purchase</td>\n",
              "      <td>January 12, 2024</td>\n",
              "      <td>United States</td>\n",
              "      <td>\\nThis will be an ongoing review.I bought this...</td>\n",
              "      <td>3.0</td>\n",
              "      <td>B0BHZT5S12</td>\n",
              "      <td>negative</td>\n",
              "    </tr>\n",
              "  </tbody>\n",
              "</table>\n",
              "<p>193 rows × 14 columns</p>\n",
              "</div>"
            ],
            "text/plain": [
              "      Id  roberta_neg  roberta_neu  roberta_pos              username  \\\n",
              "0      0     0.922657     0.068516     0.008828                KevinT   \n",
              "1      1     0.477187     0.392493     0.130321                   SRK   \n",
              "2      3     0.015919     0.130102     0.853979                   C C   \n",
              "3      4     0.801570     0.162842     0.035588  George H. Seidel Jr.   \n",
              "4      6     0.112769     0.316301     0.570929            R. D. Hoag   \n",
              "..   ...          ...          ...          ...                   ...   \n",
              "188  195     0.001441     0.007429     0.991131       Amazon Customer   \n",
              "189  196     0.013303     0.079591     0.907106                Teevan   \n",
              "190  197     0.666389     0.235665     0.097946           Just Saying   \n",
              "191  198     0.738834     0.247023     0.014143             drwmjohns   \n",
              "192  199     0.480566     0.399058     0.120376             C.C.Chips   \n",
              "\n",
              "                                                 title  \\\n",
              "0                                      Not enough apps   \n",
              "1                                   Okay for its price   \n",
              "2                                     I love my Kindel   \n",
              "3            Loved it, but the one I got was defective   \n",
              "4                                This is a great value   \n",
              "..                                                 ...   \n",
              "188                            This is a great tablet.   \n",
              "189                   Great tablet for basic functions   \n",
              "190  Not much faster than my 2017 Fire HD 10 that I...   \n",
              "191     Some apps are not available to be downloaded 😕   \n",
              "192                                             Meh...   \n",
              "\n",
              "                                                 model           verified  \\\n",
              "0    Digital Storage Capacity: 32 GBOffer Type: Wit...  Verified Purchase   \n",
              "1    Digital Storage Capacity: 32 GBOffer Type: Wit...  Verified Purchase   \n",
              "2    Digital Storage Capacity: 32 GBOffer Type: Wit...  Verified Purchase   \n",
              "3    Digital Storage Capacity: 32 GBOffer Type: Wit...  Verified Purchase   \n",
              "4    Digital Storage Capacity: 32 GBOffer Type: Wit...  Verified Purchase   \n",
              "..                                                 ...                ...   \n",
              "188  Digital Storage Capacity: 32 GBOffer Type: Wit...  Verified Purchase   \n",
              "189  Digital Storage Capacity: 32 GBOffer Type: Wit...  Verified Purchase   \n",
              "190  Digital Storage Capacity: 32 GBOffer Type: Wit...  Verified Purchase   \n",
              "191  Digital Storage Capacity: 64 GBOffer Type: Wit...  Verified Purchase   \n",
              "192  Digital Storage Capacity: 64 GBOffer Type: Wit...  Verified Purchase   \n",
              "\n",
              "                  date         region  \\\n",
              "0       April 11, 2024  United States   \n",
              "1    December 29, 2023  United States   \n",
              "2          May 2, 2024  United States   \n",
              "3       April 18, 2024  United States   \n",
              "4       April 26, 2024  United States   \n",
              "..                 ...            ...   \n",
              "188      April 2, 2024  United States   \n",
              "189     April 23, 2024  United States   \n",
              "190   January 11, 2024  United States   \n",
              "191     March 13, 2024  United States   \n",
              "192   January 12, 2024  United States   \n",
              "\n",
              "                                                  text  stars  product_id  \\\n",
              "0    \\nNot enough apps, my daughter hates it but I ...    3.0  B0BHZT5S12   \n",
              "1    \\nPros -1. Lower price compared to iPad.2. Has...    3.0  B0BHZT5S12   \n",
              "2    \\nIs only one thing it is not blue tooth I lik...    3.0  B0BHZT5S12   \n",
              "3    \\nI loved this Kindle.  But after a few weeks ...    5.0  B0BHZT5S12   \n",
              "4    \\nExtremely inexpensive for what you get. Exce...    5.0  B0BHZT5S12   \n",
              "..                                                 ...    ...         ...   \n",
              "188  \\nThis is a wonderful tablet. It is lightweigh...    5.0  B0BHZT5S12   \n",
              "189  \\nGreat if you need something for web browsing...    5.0  B0BHZT5S12   \n",
              "190  \\nThe price on sale makes this a no brainer.  ...    3.0  B0BHZT5S12   \n",
              "191  \\nWas not able to download the Filament Bible ...    3.0  B0BHZT5S12   \n",
              "192  \\nThis will be an ongoing review.I bought this...    3.0  B0BHZT5S12   \n",
              "\n",
              "       origem  \n",
              "0    negative  \n",
              "1    negative  \n",
              "2    negative  \n",
              "3    positive  \n",
              "4    positive  \n",
              "..        ...  \n",
              "188  positive  \n",
              "189  positive  \n",
              "190  negative  \n",
              "191  negative  \n",
              "192  negative  \n",
              "\n",
              "[193 rows x 14 columns]"
            ]
          },
          "execution_count": 32,
          "metadata": {},
          "output_type": "execute_result"
        }
      ],
      "source": [
        "results_df"
      ]
    },
    {
      "cell_type": "code",
      "execution_count": 33,
      "metadata": {
        "colab": {
          "base_uri": "https://localhost:8080/"
        },
        "id": "K1ykZiLYf5x5",
        "outputId": "c7fb10df-4d03-4917-e9c6-01802ea0e9c9"
      },
      "outputs": [
        {
          "data": {
            "text/plain": [
              "89.77585"
            ]
          },
          "execution_count": 33,
          "metadata": {},
          "output_type": "execute_result"
        }
      ],
      "source": [
        "results_df['roberta_pos'].sum()"
      ]
    },
    {
      "cell_type": "code",
      "execution_count": 34,
      "metadata": {
        "colab": {
          "base_uri": "https://localhost:8080/"
        },
        "id": "TMi7bgCdgUA4",
        "outputId": "1a34f41e-b15d-4dcf-e4c8-72dae5617f57"
      },
      "outputs": [
        {
          "data": {
            "text/plain": [
              "42.408447"
            ]
          },
          "execution_count": 34,
          "metadata": {},
          "output_type": "execute_result"
        }
      ],
      "source": [
        "results_df['roberta_neu'].sum()"
      ]
    },
    {
      "cell_type": "code",
      "execution_count": 35,
      "metadata": {
        "colab": {
          "base_uri": "https://localhost:8080/"
        },
        "id": "fxpyXOr_gXMw",
        "outputId": "4e19ae56-6383-48bf-c754-c49d77877920"
      },
      "outputs": [
        {
          "data": {
            "text/plain": [
              "60.8157"
            ]
          },
          "execution_count": 35,
          "metadata": {},
          "output_type": "execute_result"
        }
      ],
      "source": [
        "results_df['roberta_neg'].sum()"
      ]
    },
    {
      "cell_type": "code",
      "execution_count": 36,
      "metadata": {
        "colab": {
          "base_uri": "https://localhost:8080/",
          "height": 426
        },
        "id": "_UJIbQd6YzJ9",
        "outputId": "318c8e09-9a2d-44dd-a17b-63be9cf3fe6a"
      },
      "outputs": [
        {
          "data": {
            "image/png": "[encoded data removed]",
            "text/plain": [
              "<Figure size 1500x500 with 3 Axes>"
            ]
          },
          "metadata": {},
          "output_type": "display_data"
        }
      ],
      "source": [
        "fig, axs = plt.subplots(1, 3, figsize=(15, 5))\n",
        "sns.barplot(data=results_df, x='stars', y='roberta_pos', ax=axs[0])\n",
        "sns.barplot(data=results_df, x='stars', y='roberta_neu', ax=axs[1])\n",
        "sns.barplot(data=results_df, x='stars', y='roberta_neg', ax=axs[2])\n",
        "axs[0].set_title('Roberta Positive')\n",
        "axs[1].set_title('Roberta Neutral')\n",
        "axs[2].set_title('Roberta Negative')\n",
        "plt.tight_layout()\n",
        "plt.show()"
      ]
    },
    {
      "cell_type": "code",
      "execution_count": 37,
      "metadata": {},
      "outputs": [],
      "source": [
        "positive_text = []\n",
        "negative_text = []"
      ]
    },
    {
      "cell_type": "code",
      "execution_count": 38,
      "metadata": {},
      "outputs": [],
      "source": [
        "for index, row in results_df.iterrows():\n",
        "    if row['roberta_neg'] > row['roberta_pos']:\n",
        "        negative_text.append(row['text'])\n",
        "    else:\n",
        "        positive_text.append(row['text'])\n",
        "\n",
        "positive_text = ' '.join(positive_text)\n",
        "\n",
        "negative_text = ' '.join(negative_text)"
      ]
    },
    {
      "cell_type": "code",
      "execution_count": 39,
      "metadata": {},
      "outputs": [],
      "source": [
        "positive_text = positive_text.lower()\n",
        "negative_text = negative_text.lower()"
      ]
    },
    {
      "cell_type": "code",
      "execution_count": 40,
      "metadata": {},
      "outputs": [],
      "source": [
        "nlp = spacy.load('en_core_web_sm')\n",
        "doc_p = nlp(positive_text) #positive doc\n",
        "doc_n = nlp(negative_text) #negative doc"
      ]
    },
    {
      "cell_type": "code",
      "execution_count": 41,
      "metadata": {},
      "outputs": [],
      "source": [
        "# adding adjectives only restriction\n",
        "pos_nonAdjs = [token.text for token in doc_p if token.pos_ != \"ADJ\"]\n",
        "neg_nonAdjs = [token.text for token in doc_n if token.pos_ != \"ADJ\"]\n",
        "\n",
        "pos_Adjs = [token.text for token in doc_p if token.pos_ == \"ADJ\"]\n",
        "neg_Adjs = [token.text for token in doc_n if token.pos_ == \"ADJ\"]"
      ]
    },
    {
      "cell_type": "code",
      "execution_count": 42,
      "metadata": {},
      "outputs": [],
      "source": [
        "stopwords = nltk.corpus.stopwords.words('english')\n",
        "punctuation = string.punctuation"
      ]
    },
    {
      "cell_type": "code",
      "execution_count": 43,
      "metadata": {},
      "outputs": [
        {
          "data": {
            "text/plain": [
              "\"not enough apps my daughter hate it but i still have a couple more payment pro 1 lower price compared to ipad.2 ha option with or without ad to save some money.3 preinstalled amazon apps and synced with account before shipped.4 could access kindle amazon account library account all in one place.cons-1 inability to delete preinstalled amazon apps even if it is not used so it occupies storage space.2 sometimes freeze on ad screen and need to be restarted3 doe n't automatically readjust and display when you turn from portrait to landscape mode show error and force you to rotate tablet to view content4 unable to install ad-block on silk browser and could be annoying when visiting websites.5 limited apps available for installation.note i have n't installed a sd card yet reading from other review it could be a hit or miss to use sd card and expand memory.overall it is cheaper not to expect high performance and keep expectation low i loved this kindle but after a few week it started glitching i would open a book to read it and within a few second the book would disappear the screen would go dark and then a message would flash so fast that it wa difficult for me to read after repeating this process dozen of time so that i could finally read the message i wa found that the kindle wa informing me that my actually none of my book were in my list the first time this happened i reset the kindle to factory default and then re-downloaded my book but a week later the same thing happened again i figured i just go bad luck so i wanted to replace the kindle with an identical one but amazon would n't let me do that i had to return it and get my money back i really do n't have complaint about the kindle every once in a while you will get a product that doe n't work my complaint is with amazon customer service all menu driven did n't get to talk to a live person the menu option were n't sufficient for what i wanted i would have been happy to just swap the defective kindle for another one but instead i got my money back no problem getting my money back but now i wonder why amazon made it impossible for me to replace the kindle not happy with the customer service experience disappointed i had 9th gen of the same tablet and i could watch tv/movies with no problem but it finally just died replaced the 13th gen and it wo n't hold wifi connection can usually pick up disney but even then i have to re-set usually at least once per show doe not pick up live tv spectrum at all unless i move it closer to wifi signal i have phrchased a lot of tablet from amazon but this tablet ha so many ad it disgusting i use my tablet for many thing but in the evening i like to play game on it i am an older person so these are not difficult but every time you win a game or loss there 's a stupid ad i did n't buy this to read ad i can do that on fire tv amazon ha sold me the last tablet i will buy from them this product seamlessly connected with netflix and max hulu not so much there seems to be a huge disconnect between enabling location service on the kf and the hulu app major disappointment a lot of customer complaint and no fix in sight the reason i had to get a new tablet wa because the tablet i bought in 2021 just died there wa no warning no glitch and no sign i wa not able to turn on the old one to transfer data i have a lot of audible book that i have purchased some are read and others not completed i wa not able to get them from the cloud for whatever reason my e mail wa not updated and is different from the present e mail i have on file.i have worked with several people but have been unsuccessful in retrieving the data i can not remember the first account e mail address a i thought it had been updated with my second kindle.this ha caused great frustration for me i have taken the old kindle to a repair shop to see if they get it to turn back on they too were unsuccessful now i have to about sending it a data retrieval company to see if they can help again this very frustrating i wa told but your staff that i would have repurchased the book i previously bought over the year and reestablish a new account to rebuild credit i had not yet used this i find to be an unsatisfactory solution this latest kindle is my 4th.i would like a better solution/outcome.so far the new tablet is fine but we will see how long it will last set up the new kindle but the apps from another kindle wo n't load so far i have talked with two kindle tech rep and they have n't been able to fix this problem very annoying the last rep said it seems to be an ongoing problem so maybe a glitch in the kindle itself i have had many kindles and this is the first time i 've had a problem with the apps transferring.the 3 star are only because of this problem the kindle itself is nice.later i did finally get a tech that helped the problem now is it freeze at time of all the kindles i 've had i like this one the least plus i do n't like the power button on the left side next time i 'll watch for that i wanted a replacement of the product not a credit please assist the tablet itself is nice but there is a lot of apps you can not download because it is an amazon product for a virus protection i had to download one i had never heard of had i known the limitation this tablet had i would of never ordered it i ’ m only keeping it because of where i live it ’ s a hassle to try to return it it wa convenient to carry around and keep in touch with friend and play game in le than 6 month it started kicking me off game and conversation i got my new kindle hd 10 it smaller then the last one i bought went to put it in my old cover and it would n't work too small also the stylus pen i had for the old one doe n't work well either so saving up the money to buy a new cover and new pen😊 i bought my fire a week ago i love the size and wanted it to read newsletter etc i like the size and the weight my biggest problem is i tried to download some of my standard apps and found out amazon doe n't allow them or doe n't have them in there play store i ca n't get any of my favorite google apps i do get my email but no calender and i do n't want two calender i ca n't get to my file on google drive and i am not copying my file over to amazon oddly they are probably on an aws cloud no contact ca n't get my google contact i use google translate since i travel frequently to germany and amazon translate is honestly far behind google translate for example google translate can translate an entire paragraph only a word at a time the problem is that word take on different meaning depending on context.now here is something interesting amazon doe play well with microsoft i can get all my excel word etc i also can use both bing and google for search so that is a push i got this for christmas when i downloaded new game i got a lot of ad the ad became constant to the point they were even interrupting my reading i contacted the tech support and they were unable to help me in fact one person became so frustrated that they hung up on me i finally did a chat call with someone who wa n't able to get rid of the ad but wa able to wipe my tablet clean i wa then able to reload my book i do not play game on my tablet i only use it for the purpose of reading i do n't want to be bothered with the ad nor do i want to pay to have the ad removed otherwise this tablet work well the 2021 version wa so much better not laggy and pretty fast over time tho they wear out so i got the 2023 version since my older one wa getting slow my 2021 kindle is still better than the new one in comparison i even got this 1 a memory card but is potentially useless because every time i turn off the kindle it say that i ejected my memory card when i did not and i have to take the case off take it out and put it back if i if i want to use it which is bullcrap the new 1 ha so many more glitch and it 's so much more laggy i 'm sort of wishing that i had gotten the 2021 version again they call it the relaxation kindle i 'm not sure how other people relax maybe it play music ok i do n't really know i usually just play game on it and check my email and i shop on amazon a well on my kindle so if i 'm having glitch with just that that 's so sad it 's really sad that my old worn out kindle that 's 3 year old work better than the new one do better amazon the app work until the final step the freeze up and cancel my purchase i purchased the tablet with home screen ad because it wa cheaper but it ’ s been a complete nightmare i needed a tablet for my daughter to use for educational apps that i purchased so i didn ’ t want anything fancy or too expensive after all she ha other device to use for playing game etc i ’ ve purchased several fire tablet in the past and never had an issue until now.the first night my daughter used it she kept complaining about ad but when she showed it to me there weren ’ t any ad popping up.today i grabbed her tablet during my downtime to download the apps and set up night zookeeper on her tablet and it wa ad after ad i couldn ’ t do anything without an ad popping up every 20 second every time i clicked on a page or app an ad would pop up i placed a return and found out i need to box it up with the label before returning the tablet came in a amazon bag so now i now i have to spend extra money to return it waste of time to which one may connect a bluetooth keyboard i 've owned several tablet and the performance of this one is a step up speedy charging i wish there wa an easy method to to select specific data such a kindle book to transfer to an expansion disk and i still do n't know how to get my device recognized 5 year old love this tablet only downside is messenger kid she can call u but we can ’ t call her only way it will work is if she is in the app i have no clue how to fix this and have googled it kind of sux a i have nearly 4300 ebooks numerous video and other stuff to transfer from a previous kindle and i have to go thru the list of stuff 1 page at a time 172 page of ebooks alone to download my library.i did not rate other thing a i just got this today and wa trying to move everything to my new kindle.i wa hoping for some sort of a select all that would get all my book apps and other thing with minimal effort on my part but like the new window they think the user ha a kindergarten mentality/education the problem is not the tablet but an app zen color every time i try for example to play backgammon it appears then start to automatically install you stop it and it start again and again and again and again and again even when you let it install thinking that it wo n't bother you again it still doe it is just plain annoying i purchased a fire hd 10 on february 25 2024 i liked the size display and feel of the tablet however the tablet had a problem with the dark mode i could not get the dark mode to turn off more importantly the bluetooth wa worthess the device would pair with other device but would never connect with the other device i called customer support and the tech connected to my tablet and after 30 minute or so could not figure out the problem but agreed there wa a definite connection problem so she wrote a ticket to send to another department and i wa told that i would be contacted within 72 hour time passed and no contact so i called again the second representative wa rude and dismissive he wrote a repair ticket which apparently is different that the ticket the first representative wrote and told e to have a nice day after thinking about it for 10 minute i decided i did not want a tablet which wa in my hand for le than 30 day repaired so i called again got a pleasant responsibe representative and wa able to return the tablet for a full refund i would like to try another fire hd 10 but am a little leery the rude dismissive rep ha knd of soured me plus after doing some research i see others have had an issue with bluetooth connection on several version of the tablet if bluetooth were not important and if the dark mode worked properly this would be a wonderful tablet a i write this i see amazon ha the fire hd 10 at 45.00 off the regular price when i am reading my amazon book the app keep forcing me out of it or freezing it doe the same thing when my son is trying to use kid facebook messenger we have to constantly restart the tablet and it is brand new if you are planning on buying box set like the lord of the ring eragon wheel of time discworld hyperion mistborn foundation series robot series or other set you should know that the set are not available on kindle meaning you will have to buy paperback book for those set which is cheaper or spend more money on the kindle version some of them do n't even have the whole series available on kindle a single so if your main strategy wa to move completely to digital reading look into the book you 're planning to buy before you buy a kindle fire and make sure you even can buy kindle version if those are your first book purchase you 'll be making wait to buy a kindle because they are not available on unlimited or a kindle purchase for a set for a cheaper price wheel of time specifically is not available on kindle a single and is much more expensive than the box set found this out after i returned the paperback when i bought a kindle thinking i could buy the set at the same price on kindle no such luck so ill be returning my kindle fire until i have read the book i want to that do not cost more to own a kindle just to read or ca n't read at all i purchased the tablet with no ad and for some reason it keep popping up with ad i keep having to factory reset the tablet it ’ s getting annoying i got this to watch movie and tv show while traveling streaming movie is okay using apps like tiktok is n't desirable though because it load at the speed of dial-up internet the screen is n't a responsive a other tablet i 've used either the help line wa useless and i had to figure out feature by myself follow upafter 3 rep getting in touch with me it appears the issue may be solved their response wa immediate and the issue addressed if this one continues to work then i recommend the item and praise the help centerthis is my 5th kindle i have always had a great experience with them until now this edition is full of performance defect every 5 minute it ’ s flip off of what you ’ re doing and asks what language you want to use out of 5 minute of use it spends 2 minute on ad that you can ’ t click out of you can ’ t read 3 page of a book before your redirect to add or language preference… kindle is sluggish and a hassle to use have had it a week emailed tech support and got no response just found out i have to pay 15 to stop the continuous ad 😡 i gave this tablet a 4 rating because it constantly show ad no matter what i am using it for it 's very distracting and i do n't know how to stop these ad the block of google play is bush league otherwise i like most of it also email account did n't transfer over from kindle fire 8 this for me is a major suck my current kindle is slow and have some issue i purchased this kindle to replace my current ont however only the game app come over not the level you are playing i thought it would compare more like a ipad and the game level would match but not the case edit to add i ’ m so disgusted with this fire tablet at first it kept disconnecting from wifi when it wa near my wireless printer the expert chimed in and sent me an email saying i shouldn ’ t have it that close to another wifi device spoiler alert none of my other connected device are compromised by my printer now it won ’ t load paramount i opened and streamed paramount on all my other device and yet it ’ s the tablet it won ’ t work on i offloaded the app and tried to add it again and it won ’ t even do anything when i click on the download app button i ’ m so over this it wa cheap yes but it ’ s been nothing but a headache.i bought this five day ago specifically to stream apps like peacock and paramount etc i wa sick of using my phone when i wa away from my tv like when i 'm cooking and cleaning i have high speed internet and none of my other device buffer or disconnect i do n't know what the problem is but my kindle either buffer several time an episode or it say it requires an active internet connection so all my other device have no issue but the kindle doe i wa wondering why it wa only 94 and now i know i did n't buy it for the price i just wanted a brand new kindle it just happened to be way le expensive than i expected i 'm beginning to think it wa reduced because it suck i downgraded from the max 11 2023 latest version because that version wa simply too big had only one usb-c input that you could only use for either charging or connecting an accessory it also had ton of bug with touchscreen such a scrolling up and down with your finger being mistaken a a click at one time i lost the touchscreen completely the unit wa not responding to anything i had to connect a wired mouse via usb-c to get the unit to restart and resolving the issue otherwise the unit would be locked out completely there is no external reset button on that model either.this one version 10 2023 that i am reviewing here doe n't have the above issue smaller but the right size and manageable specially for closeup work and application i found the max 11 to be too big however the issue with lack of support for simultaneous charging and connecting a wired accessory via a usb-c splitter adapter remains you have to only use bluetooth accessory like the one amazon want you to use this is a terrible and dreadfully limiting feature.forcing the user to only use bluetooth mean they have to discard perfectly serviceable wired accessory that would otherwise work with the unit bluetooth is not always desirable or convenient plus it add further risk of radiation exposure that is otherwise eliminated with a wired accessory some people can actually get headache when exposed to a close and constant source of bluetooth emitting device there are also security issue that are beyond the scope of this review.in the next variant of this product amazon should build a simultaneous support for charging and adding an accessory via it only usb-c input via a adapter like the one i 've attached a photo of or simply offer several usb-c input one for accessory one for charging.in my case i have a wired keyboard that is super ergonomic with built in usb input of it own that allow you to connect a mouse directly into it hence you only need one input into any device to use both keyboard and a mouse without the needing of several input the keyboard pas on any usb device connection connected to it to a device you connect it to with this current version you can only use an accessory or charge not both overall a decent product but ha glitch shuts off if you enlarge screen during youtube shuts off randomly every once in a while vivo en perú y acabo de recibir la fire 10 13va generación quise configurar alexa sin embargo no se puede cambiar el idioma de ingles a español he revisado los foros y e un problema común lo cual resta funcionalidad a la tablet ya que solo se configura en ingles tengo otros dispositivos echo show y no hemos tenido problemas para cambiar el idioma.por otro lado no se actualiza la ubicación del equipo dentro de la configuración de este y cuando busco identificar el equipo dentro de la configuración se refiere a este como equipo desconocido no puede ser posible que siendo un equipo amazon este mismo no se pueda identificar y referir que modelo o que generación de fire e o si e un fire o un kindle considerando que he adquirido bajo la publicación un fire 10 nuevo eso me genus un sinsabor o duda sobre el equipo lo seguire revisando para conocer el equipo i learned to stick to android on the fire tablet i can not get any of my favorite apps like viki rakuten or webtoons so i do n't even use it since i bought it to play my korean and chinese drama all the good apps are unavailable for the fire tablet i paid the extra fee when i selected ad free in the drop down box i have ton of ad all the time dissapointed big time abot that other than that all work a usual it seems they have n't improved their apps ca n't download firefox chrome there 's some generic made apps so you can use youtube have n't found an app that i can use my gmail without it crashing.i ca n't use amazon fresh the same on the amazon app on this tablet but it work on the amazon app on my phone why it 's your own damn tablet amazon some of my game do not work the same grrr it said all new but when i read the detail it said refurbished but i paid for new disappointed it ha now gone wacky i mostly use the tablet for reading and i m pleased with that but i also like to do my brain training and i 'm unable to download the apps that i have on my samsung tablet and phone that 's a serious drawback for me got it for 90 and it ’ s worth about that purchased to use on a flight for in-flight entertainment hard to believe but most airline don ’ t have entertainment device on board anymore now you need to use your own device.on top of that i had the challenge of getting the airline application installed on this device the amazon app store doesn ’ t have a many apps a the play store i had to side load the hawaiian airline app in order for it to install on this device once installed it worked ok on the flight but i could tell that this tablet wa having difficulty keeping up with some of the video during the movie it us the chrome browser and the horsepower of this tablet just isn ’ t that strong.if you ’ re looking for an affordable tablet to browse the web and do some light gaming this might work for you but don ’ t pay full price for it i wa expecting more than this i use it for a couple of monitoring thing and it ok but movie and tv stuff it clunky and sound suck it is worth the price but it not a do much item more an expensive toy this is the newest of their 10-in tablet and they should have stuck to the old first off the speaker are very weak and very hard to hear sometimes you ca n't make them any louder or adjust any kind of base or trouble second off you ca n't use many of the apps with this unit i ca n't use my banking app or two of my credit card apps since amazon doe n't have a decent weather app in their app store i 've always used the weather channel app but i can no longer use it with this tablet so now i am left without any kind of weather notice it doe seem to respond quickly and the resolution seems fine it 's just a very hard to use because you ca n't use the thing you want very disappointing i wo n't say not to buy this tablet but i will say to be very careful on your decision for me i wo n't buy it again without improvement i would go for the older tablet which i never had any trouble with i think they release this tablet too soon and did n't work out all the problem with it i wa being generous giving it two star i should have just given it one but it doe seem to have an improved resolution and i would like it if i could get it to work for me after all the purpose of buying a computer or tablet is to use it for your own use not for amazon use all in all bye at your own risk investigate it thoroughly before you decide maybe they 'll come out with an upgrade soon i hope so i have had trouble with the speed of the internet connection i have a1gb pipe into the house my iphone typically ha speed right around 890 925 mbps laptop used typically have the same speed but the fire tablet seems to download right around 300 mbps every time i download a book to it it take hour not like my previous fire tablet at all otherwise it ’ s a good unit my daughter ha issue with her eye but love to read so instead of getting her a kindle with a 6 ” screen we opted for the fire with the 10.5 ” screen plus i have kindle unlimited amazon prime and lot of other thing i can share with her the unfortunate thing is and i had no idea until i wa setting up her account is that from age 14-17 kindle isn ’ t supported on the amazon fire i either have to give her adult permission at 15yrs old or give her 13 year old permission we are keeping it because i can funnel book to her by listing her a a child but a lot of the other functionality are cut off from her where they wouldn ’ t be if i could list her proper age i am disappointed to say the least started year ago with a paper white kindle when it wa reaching retirement time move up to a fire 8 which is essentially an android tablet my biggest complaint wa brightness it could not be used in bright daylight in the shade even at the brightest screen setting furthermore when reading digital magazine it wa necessary to expand the view with reading glass this fire 10 is much brighter and now can read my book on the patio in the shade and not needing to expand the view color are more vibrant and battery life is longer bottom line you are joined at the hip with amazon and their preferred business partners.what i do not like about the kindle fire is the it limit the apps that can be installed fire tablet use a modified by amazon android operating system essentially it is a chrome book tweaked to meet amazon 's business philosophy the fire is delivered with way too many unnecessary apps especially game which are aimed towards young kid getting it out of your way is n't simple either many apps ca n't be uninstalled this is my 4th kindle fire over the past 13 year i have always been pleased until i purchased this version in february 2024 i have also purchased 2 paper white tablet i have always been pleased with.the tablet had a few glitch initially but over the past 2 month these problem increased and occur more frequently.the main issue are the while reading a kindle book the screen go blank and the thinking icon just spin causing me to have to return the home page and open that app once again i am unable to open a store link from my email to read the ad/message a the blank screen thinking icon once again appears.feel like a made a definite mistake by upgrading this time the status bar thing are now red instead of blue that is going to take some getting used to my solitaire game is gone and i have tried three new game and all of them have touch response that is so lagging i might a well be wearing mitten i downloaded hulu and it sign me out daily requiring a new login code even though it know my login and password frustrating.i am not sure about the battery it not awesome though the control button are on the bottom now which is also frustrating since i keep instinctively reaching for volume and push the power button why why did they change it other than that it fine 150 and it wo n't let me download half the apps i use only can shop amazon of course nothing else i ca n't order my grocery even what 's the point you just a well spend a few dollar more and get a a apple i pad also the unit is very heavy to hold other than that crisp h d color get for game only this is the 2023 ver what a time i had with getting a micro sd card that would work with the internal storage i bought 3 generic card with 256g to 1t and none of them would work internal storage option wa shaded out only good for portable storage i finally bought the more expensive san-disc 256g that amazon recommends and it work just fine go figure there are apps that i want to load ebay and sandisk connect to be 2 of them most tablet you go to the app store and those 2 are right there maybe i 'm missing something it should be easy and maybe it is for some but i 'm having an issue here for those reason i 'm not too happy with my purchase i do n't like having my tablet that i paid for being controlled by the company i bought it from lot of people travel for their work i am no exception a lot of traveler bring tablet with them to watch movie play game etc any cheap tablet or phone can cast the screen to a smart tv for this ala kindle fire hd 10 can not it can only cast to fire tv and then only if the appropriate apps are installed on the tv it 's a shame i wish i had known this before i purchased a new kindle fire hd 10 i feel cheated that do n't have this simple feature that the cheapest android phone or tablet can do like large screen dislike all the apps that download on their own i have to uninstall the language in setting pop up every time i use the tablet game pop up constantly and is frustrating will be considering going to ipad if this continues this is my 4 tablet i have owned from amazon on i traded in a it wa time to retire it and then my fire 8 died so it wa time for a new tablet so i picked the this new version i want to sleep listening to a book and it wa awful the sound from my other tablet 2022 sound so much better for some reason this new version of ha a tinny sound the bt speaker is better but i am disappointed in the sound quality none of my pc or android aps will work on this i wa extremely disappointed to discover that game that worked on my amazon fire 7 would not work my bitdefender security for my pc lap top and android phone can not be loaded i love google chrome and it wont work i ca n't return it so i 'll trash it and just use my lap top it 's more cumbersome but doe a whole lot more have to say it 's the first time i feel amazon ha let me down if you were hoping to add some third party apps you may have problem fire tablet are a special kind of android and are not compatible with all apps revision below is my original review i did not do my research correctly and i wa very unhappy i have since purchased the option of getting rid of the ad and that ha helped tremendously at least now the kindle is usable do not purchase without the option of having the ad removed i 'm just thankful i could do it after the fact.if i had known you could not download the google play store on a kindle i would have never bought this it constantly is downloading game automatically and the ad are insane if i had n't been stupid and thrown away the original box when i got it it would be going back i loved the kindle i bought in 2019 but it 's not holding a charge anymore time for a new one but the outlet volume and power switch have been relocated and i 'm having trouble adapting i really like this tablet however i am very upset about it not letting me use adobe reader i had a 10 fire tablet since 2015 it 's battery finally got difficult to charge and i do n't see how to change the battery so i bought a new one set up wa easy the screen is the same i wa happy until i realized that it will not play video the thing will buffer for i do n't know how long have not pushed it past 10 min restarting help but not for long it 's awful to have to restart every 15 min or so when on social medium or youtube i may have to send this thing back.update a support person called then emailed which wa nice sadly every email is answered by a different person tho that may not have made much difference the first couple of helper started with the 'do a restart or 'go read this forum like i 'd been doing sigh one person finally suggested that i uninstall and re-install my tablet on my network to address the buffering weird but i did it and had nearly 3 day of no buffering within 2.5 hr of me emailing the support person my good news the damn thing started buffering again re-starts still correct the issue and i can go a day or so before having to restart but today i have restarted the tablet 3x i recently got a fire hd10 plus tablet that ha not given me a moment trouble so far this device is on the exact same network that the troublesome one is on it 's now too late to send this tablet back and i would prefer it be replaced with the hd10 plus which i doubt will happen so i 'll keep it a a spare because it 's fine except for the effing video playback just a note that these device are for personal use not commercial we were hoping to use them to help in education at some of our trade show but will have to find other solutions.that being said the tablet are light have a bright clear screen and are fairly easy to use.proslightweight large clear screen decent sound.consjanky policy for business battery life is abysmal look like it will drain on idle after 48 hours.proprietary stuff harder to configure some software will not install it 's an android but it 's not an android accessory are pretty expensive considering it 's a 100 tablet some apps on my older version fire tablet are no longer available this one seems faster but the design is lack luster the older version had silver button on black which made them easier to see this version ha black button on black which make them very difficult to see i am constantly pressing the side button by mistake maybe this is an upgrade but the design wa poorly thought out the matching cover is just a bad research before you buy seems to only support your amazon approved apps apps like bose connect and bluos are not supported generally work well however some apps are not available on this device which wa disappointing i really would have liked to know tat the new 2023 fire 10 did not support wireless charging like the last version i have the wireless charging dock and now that is worthless for this if you 're considering purchasing an amazon fire hd be aware that their apps are great for senior citizen and child i had a kindle year ago and they are still offering many of the same janky apps from that era functionality for this tablet is greatly diminished when you are n't able to install productive apps or your favorite game no play store no dropbox no alternate browser but i can watch cartoon and play sudoku.stop letting the boomer tamper with the customer ability to choose for themselves what they do and do not want on their tablet and this would be an unbelievable product only compaint is that most of the apps i tried to download were not available through amazon please read whole review i have an old apple device that needed replacing for various reason i did n't go for a new one i have a relative that got a fire 7 they seem to be happy with theirs so got a fire hd 10 set-up wa fairly easy quick i liked the size the feel so i sat down and wrote down all that i wanted to load onto my new tablet i wa only 1/3 through my list when the memory got full so i griped some but i had a sd card that i loaded up then i went about working on my list a few day after i had placed the sd card in i decided to check how full i wa i wa at 34g that just hit me wrong so i got the breakdown of how much wa music v photo v apps so forth i wa just over 2g of music that wa 98 of what i downloaded the reason i got the device the reason i put in the sd card because i that i had maxed-out the memory according to the sd listing 30g wa apps i did not add any apps so i checked to see what wa loaded according to the read-out there are no apps it just created space to store any apps i may add later so 30g for apps 2g for music correct me if i am wrong but i got a 32g tablet that wa already at peak capacity at roughly 30g before i even started loading my music choice that people is wrong period end of statement now battery life screen picture quality ease of web browsing have been fine a hiccup here or there but i have only had it like a fortnight or so i can write most of that up to learning a new device i 've had this amazon fire 10 for several month and do not use it for any online banking thank goodness i 've installed very few application and all from the amazon app store it now ha malware on it and i ca n't find a trusted source to remove it the pop-up happen so fast it 's hard to focus on anything that might help i keep uninstalling application that i did n't install a careful a i am with downloading anything it 's disappointing to have to deal with this i could use some help or it will be going into the trash and i wo n't buy another one this is the third my kindle ha issue and once i had to lose.everything to get it to work correctly now i have to hold down the start button for a several second to get it to come on it say system failure but i never knew what to do i just experimented and do n't like having to do it i worry this one.is n't one going to last.plus i am going to have to order a new cover because thks one is smaller even though it say it is the same size.bummer i wa in need of a replacement for an android type tablet and went with the amazon fire solely based on the fact that my primary app use is audible figuring that an amazon service like audible would work great on their own tablet big mistake while the other feature and apps on the tablet work fine audible is slow and buggy it take twice a long for content to load and after my last system update it dumped every single title i had downloaded this will be a 1x learning experience for me i will avoid amazon device in the future i wanted another 10 inch kindle so i could use my tuatara case this new kindle is smaller and i had to get a le than adequate case i really miss not being able to stand my kindle up vertically it wa all around more stable with the old tuatara case ca n't find a good case to fit this smaller kindle 10 the shut off button is 3/8 below the volume button i am always shutting the kindle off when i mean to turn the volume down do n't know why they could n't have put this button in a different place very frustrating product came fast and effectively however upon opening the package the charging block and cord were missing i tried to report this to see if i can just get one sent but you apparently can not do this unless you return the product and get a whole new one that kind of defeat the whole quick delivery process have n't used the actual tablet yet to determine the actual product libby would no longer be supported on my older kindle so i had to buy a new version nice racket this sucker is larger than a hardcover book granted it 's slim but jeezum do yourself a favor and get a cover with it i ca n't see it not getting smashed without one this is the gift for my kid somehow he doesn ’ t like it i think it is the amazon related product and everything is highly regarded to your prime account this maybe prevents him from easily using it i loved my old kindle but it started not downloading changing channel on me and disrespecting me lol i bought a new one and it keep changing my setting losing my pin number and i have to start over making new one my kindle is for entertainment a little work and now i ca n't trust it crystal clear screen battery doe not overheat like my previous one which is why i had to replace it however this one seems to be glitchy it occasionally freeze and i have to wait for it to undo itself doe it on all the apps so it 's something in the kindle and not on the app i mostly play game and they all seem to be the same stuff over and over and over anymore so this may be my last kindle i 'm rather disappointed with this version of the kindle fire hd 10 i bought it when my older kindle fire hd 10 from 2017 seemed to be getting slow and i figured it wa time for an upgrade i mostly used it to read news site and webpage with a bit of content creation for social media.now when i hear kindle i think ebook reader when i fired this model up after i took it out of the package i wa immediately struck with how tv-like it wa in dimension and even default orientation the kindle logo that come on the screen at boot up time demand you hold it in a very un-booklike orientation where it 's wider than it is tall.this seemed like a peculiarity but something i could work with a it wa smart enough to rotate but it turn out this wa just a hint of a specific design choice.when i started going to the same website i used to go to with my older model i frequently found them so badly formatted that the ad extended over the text making it illegible.it very quickly became obvious this is a streaming video consumption device that can be used a an ebook reader and light website viewer sometimes not an ebook reader and website reader that can be used a a streaming video consumption device.because of it 's focus on viewing video you ca n't ever completely mute it there are thing that will always make it sound off maybe very quietly but it is n't possible to completely stop it 's noise for example if you power it off or on it will make some noise that wa disappointing but since it is n't loud enough to wake my partner i wa okay with it.so i finally got around to creating some content on it and wa very disappointed that this new video watching tablet i had inadvertently purchased wa no faster than my old model from 7 year ago when editing or compressing video in fact it sometimes took longer to compress a video.so here 's the upshot this might be a good device for someone who only want to use it to watch amazon prime movie but if you want to quietly read the news in the morning or if you want to work on your social medium get something else this is n't your tablet updated review now that i 've had a day to actually use this new fire i do n't like it very much a stated below it is big heavy and awkward to hold while sitting the font size are limited and some look way too tiny for such a big tablet if you choose the largest of five then some thing like ebooks are huge while the icon are a good size i am so disappointed that i wish i had n't let the return window expire even though i bought this on sale i guess i 'll be it to a family member.i bought this newest fire to replace my much loved and very used kindle fire from the previous version when itarted to get a bit glitchy from being dropped so many time definitely larger and definitely heavier not nearly a portable a the other fire because unfortunately it is too big to go in most of my purse sad face therefore it 's not really getting used a it 's pretty heavy for arthritic hand to hold to read book but if you want it to watch movies/stream content from the web this new fire is a good choice purchased this product before christmas with the recommended screen protector after trying 2 protector wa unable to get a good fit work out the air bubble purchased another set of 2 protector different brand and had same issue actually tried a round 3 of another pair/another brand took it to the verizon store the worker couldn ’ t make it fit.this new fire screen doe not fit for any screen protector i tried wasted a lot of money trying i returned this one recommend sticking to older model until they work this out the 13th generation kindle is the same size a the 10th generation that i had however it doe n't let you set the blue light to come on and go off at preset time you have to manually turn it on and off at least not that i have found it really is n't any different i usually upgrade every other year but i wish this time i had waited 1 more the price on sale make this a no brainer it 's too bad the overall speed ha not improved a much a it should have over my 2017 model the amazon browser if pathetically slow at loading any complicated page and this is with 250mbs internet speed.the most disappointing thing wa that when i moved my 128mb sd card from my old hd10 to the new one it wa unrecognized and had to be reformatted losing all my video and music you would think that amazon would try for some backwards compatibility i mean window will still read floppy disk i do love the color though wa not able to download the filament bible app to the fire hd this will be an ongoing review.i bought this for my wife who want a tablet but i 'm reviewing it from my point of view 1 too much commercialism too much pressure to buy thing 2 i already know google play store is n't invited 3 and most important to me when i received this i wanted to make sure it 's fully charged before i start setting it up how do i do that one of the other reviewer said kindles amazon fire have charging problem and are therefore worthless i would n't buy this for myself my sister-in-law think it will be a good choice for my wife so she can do something we 'll see i have purchased 2 tablet already for her including an amazon fire we 'll see\""
            ]
          },
          "execution_count": 43,
          "metadata": {},
          "output_type": "execute_result"
        }
      ],
      "source": [
        "wp = Word(positive_text)\n",
        "lemma_pos = TextBlob(positive_text)\n",
        "\" \". join([w.lemmatize() for w in lemma_pos.words])\n",
        "\n",
        "wn = Word(negative_text)\n",
        "lemma_neg = TextBlob(negative_text)\n",
        "\" \". join([w.lemmatize() for w in lemma_neg.words])"
      ]
    },
    {
      "cell_type": "code",
      "execution_count": 44,
      "metadata": {},
      "outputs": [],
      "source": [
        "# tokeniza tokens positivos e negativos\n",
        "pos_tokens = word_tokenize(positive_text)\n",
        "neg_tokens = word_tokenize(negative_text)\n",
        "\n",
        "pos_tokens = [word for word in pos_tokens if word not in stopwords and word in pos_Adjs]\n",
        "neg_tokens = [word for word in neg_tokens if word not in stopwords and word in neg_Adjs]\n"
      ]
    },
    {
      "cell_type": "code",
      "execution_count": 45,
      "metadata": {},
      "outputs": [],
      "source": [
        "clean_pos_tokens = []\n",
        "clean_neg_tokens = []"
      ]
    },
    {
      "cell_type": "code",
      "execution_count": 46,
      "metadata": {},
      "outputs": [],
      "source": [
        "# Remove as pontuações\n",
        "for token in pos_tokens:\n",
        "    clean_token = ''.join(char for char in token if char not in punctuation)\n",
        "    if clean_token:\n",
        "        clean_pos_tokens.append(clean_token)\n",
        "\n",
        "for token in neg_tokens:\n",
        "    clean_token = ''.join(char for char in token if char not in punctuation)\n",
        "    if clean_token:\n",
        "        clean_neg_tokens.append(clean_token)"
      ]
    },
    {
      "cell_type": "code",
      "execution_count": 47,
      "metadata": {},
      "outputs": [],
      "source": [
        "pos_tokens_nofilter = [word for word in pos_tokens if word not in stopwords]\n",
        "neg_tokens_nofilter = [word for word in neg_tokens if word not in stopwords]"
      ]
    },
    {
      "cell_type": "code",
      "execution_count": 48,
      "metadata": {},
      "outputs": [],
      "source": [
        "def plot_freq(tokens, title):\n",
        "    counter = Counter(tokens)\n",
        "    most_common = counter.most_common(10)\n",
        "    most_common = dict(most_common)\n",
        "    plt.figure(figsize=(10,5))\n",
        "    plt.bar(most_common.keys(), most_common.values())\n",
        "    plt.title(title)\n",
        "    plt.show()"
      ]
    },
    {
      "cell_type": "code",
      "execution_count": 49,
      "metadata": {},
      "outputs": [
        {
          "data": {
            "image/png": "[encoded data removed]",
            "text/plain": [
              "<Figure size 1000x500 with 1 Axes>"
            ]
          },
          "metadata": {},
          "output_type": "display_data"
        }
      ],
      "source": [
        "plot_freq(clean_pos_tokens, 'Positive Tokens')"
      ]
    },
    {
      "cell_type": "code",
      "execution_count": 50,
      "metadata": {},
      "outputs": [
        {
          "data": {
            "image/png": "[encoded data removed]",
            "text/plain": [
              "<Figure size 1000x500 with 1 Axes>"
            ]
          },
          "metadata": {},
          "output_type": "display_data"
        }
      ],
      "source": [
        "plot_freq(clean_neg_tokens, 'Negative Tokens')"
      ]
    },
    {
      "cell_type": "code",
      "execution_count": 51,
      "metadata": {},
      "outputs": [],
      "source": [
        "def filterBy_pos(words_list, pos_classes):\n",
        "    tagged = pos_tag(words_list)\n",
        "    filtered_words = [word for word, pos in tagged if pos in pos_classes]\n",
        "\n",
        "    fUnique = sorted(set(filtered_words))\n",
        "    #print(fUnique[:6])\n",
        "    return filtered_words"
      ]
    },
    {
      "cell_type": "code",
      "execution_count": 52,
      "metadata": {},
      "outputs": [
        {
          "data": {
            "image/png": "[encoded data removed]",
            "text/plain": [
              "<Figure size 1000x500 with 1 Axes>"
            ]
          },
          "metadata": {},
          "output_type": "display_data"
        }
      ],
      "source": [
        "fpos_nouns = filterBy_pos(clean_pos_tokens, ['NN'])\n",
        "\n",
        "plot_freq(fpos_nouns, 'Positive Nouns')"
      ]
    },
    {
      "cell_type": "code",
      "execution_count": 53,
      "metadata": {},
      "outputs": [
        {
          "data": {
            "image/png": "[encoded data removed]",
            "text/plain": [
              "<Figure size 1000x500 with 1 Axes>"
            ]
          },
          "metadata": {},
          "output_type": "display_data"
        }
      ],
      "source": [
        "fneg_nouns = filterBy_pos(clean_neg_tokens, ['NN'])\n",
        "\n",
        "plot_freq(fneg_nouns, 'Negative Nouns')"
      ]
    },
    {
      "cell_type": "code",
      "execution_count": 54,
      "metadata": {},
      "outputs": [
        {
          "data": {
            "image/png": "[encoded data removed]",
            "text/plain": [
              "<Figure size 1000x500 with 1 Axes>"
            ]
          },
          "metadata": {},
          "output_type": "display_data"
        }
      ],
      "source": [
        "fpos_adj = filterBy_pos(clean_pos_tokens, ['JJ', 'JJR', 'JJS'])\n",
        "\n",
        "plot_freq(fpos_adj, 'Positive Adjectives')"
      ]
    },
    {
      "cell_type": "code",
      "execution_count": 55,
      "metadata": {},
      "outputs": [
        {
          "data": {
            "image/png": "[encoded data removed]",
            "text/plain": [
              "<Figure size 1000x500 with 1 Axes>"
            ]
          },
          "metadata": {},
          "output_type": "display_data"
        }
      ],
      "source": [
        "fneg_adj = filterBy_pos(clean_neg_tokens, ['JJ', 'JJR', 'JJS'])\n",
        "\n",
        "plot_freq(fneg_adj, 'Negative Adjectives')"
      ]
    },
    {
      "cell_type": "markdown",
      "metadata": {
        "id": "KaFIbFfr0TWF"
      },
      "source": [
        "### Combine and Compare"
      ]
    },
    {
      "cell_type": "code",
      "execution_count": 56,
      "metadata": {
        "colab": {
          "base_uri": "https://localhost:8080/",
          "height": 758
        },
        "id": "hBRZKriY0WuL",
        "outputId": "57cb413d-5dc7-4afc-b9c2-594336eaf593"
      },
      "outputs": [
        {
          "data": {
            "image/png": "[encoded data removed]",
            "text/plain": [
              "<Figure size 821.875x750 with 12 Axes>"
            ]
          },
          "metadata": {},
          "output_type": "display_data"
        }
      ],
      "source": [
        "sns.pairplot(data=results_df,\n",
        "            vars=['roberta_neg', 'roberta_neu', 'roberta_pos'],\n",
        "            hue='stars',\n",
        "            palette='tab10')\n",
        "plt.show()"
      ]
    },
    {
      "cell_type": "code",
      "execution_count": 57,
      "metadata": {
        "colab": {
          "base_uri": "https://localhost:8080/",
          "height": 35
        },
        "id": "6fJbJbWG0mGk",
        "outputId": "0810eac4-e40a-4041-9bfb-dc9bd3126d6f"
      },
      "outputs": [
        {
          "name": "stdout",
          "output_type": "stream",
          "text": [
            "\n",
            "i had a 10\" fire tablet since ~2015. it's battery finally got difficult to charge, and i don't see how to change the battery, so i bought a new one. set up was easy, the screen is the same, i was happy until i realized that it will not play videos. the thing will buffer for i don't know how long (have not pushed it past 10 min....). restarting helps but not for long. it's awful to have to restart every 15 min or so when on social media or youtube. i may have to send this thing back.update: a support person called then emailed. which was nice. sadly every email is answered by a different person. tho that may not have made much difference. the first couple of helpers started with the 'do a restart' or 'go read this forum' like i'd been doing. sigh. one person finally suggested that i uninstall and re-install my tablet on my network to address the buffering. weird but i did it and had nearly 3 days of no buffering!! within 2.5 hrs of me emailing the support person my good news, the damn thing started buffering again. re-starts still correct the issue and i can go a day or so before having to restart. but today i have restarted the tablet 3X. i recently got a Fire HD10 plus tablet that has not given me a moments trouble so far (this device is on the exact same networks that the troublesome one is on). it's now too late to send this tablet back, and i would prefer it be replaced with the HD10 plus which i doubt will happen, so i'll keep it as a spare because it's fine except for the effing video playback.\n",
            "\n",
            "0.19062878\n"
          ]
        }
      ],
      "source": [
        "print(results_df.query('stars == 1 or stars == 2') \\\n",
        "    .sort_values('roberta_pos', ascending=False)['text'].values[0])\n",
        "\n",
        "print(results_df.query('stars == 1 or stars == 2') \\\n",
        "    .sort_values('roberta_pos', ascending=False)[\"roberta_pos\"].values[0]) "
      ]
    },
    {
      "cell_type": "code",
      "execution_count": 58,
      "metadata": {},
      "outputs": [
        {
          "name": "stdout",
          "output_type": "stream",
          "text": [
            "\n",
            "It worked for one day than the wifi failed return for replacement\n",
            "\n",
            "0.6069442\n"
          ]
        }
      ],
      "source": [
        "print(results_df.query('stars == 3') \\\n",
        "    .sort_values('roberta_neu', ascending=False)['text'].values[1])\n",
        "\n",
        "print(results_df.query('stars == 3') \\\n",
        "    .sort_values('roberta_neu', ascending=False)['roberta_neu'].values[1])"
      ]
    },
    {
      "cell_type": "code",
      "execution_count": 59,
      "metadata": {
        "colab": {
          "base_uri": "https://localhost:8080/",
          "height": 35
        },
        "id": "zuj77dCk36KO",
        "outputId": "015da161-fcdb-4e5d-dcd4-4b41bb2c6f7d"
      },
      "outputs": [
        {
          "name": "stdout",
          "output_type": "stream",
          "text": [
            "\n",
            "I loved this Kindle.  But after a few weeks it started glitching.  I would open a book to read it, and within a few seconds the book would disappear, the screen would go dark, and then a message would flash so fast that it was difficult for me to read.  After repeating this process dozens of times so that I could finally read the message, I was found that the Kindle was informing me that my (actually none of my books) were in my list.  The first time this happened, I reset the Kindle to factory defaults, and then re-downloaded my books.  But a week later the same thing happened again.  I figured I just go bad luck, so I wanted to \"replace\" the Kindle with an identical one.  But Amazon wouldn't let me do that.  I had to return it and get my money back.  I really don't have complaints about the Kindle; every once in a while you will get a product that doesn't work.  My complaint is with Amazon customer service -- all menu driven, didn't get to talk to a live person, the menu options weren't sufficient for what I wanted.  I would have been happy to just swap the defective Kindle for another one, but instead I got my money back.  No problem getting my money back.  But now I wonder why Amazon made it impossible for me to \"replace\" the Kindle.  Not happy with the customer service experience.\n",
            "\n",
            "0.80156994\n"
          ]
        }
      ],
      "source": [
        "print(results_df.query('stars == 5') \\\n",
        "    .sort_values('roberta_neg', ascending=False)['text'].values[0])\n",
        "\n",
        "print(results_df.query('stars == 5') \\\n",
        "    .sort_values('roberta_neg', ascending=False)[\"roberta_neg\"].values[0]) # the neg value in the pos review(5stars)"
      ]
    },
    {
      "cell_type": "markdown",
      "metadata": {
        "id": "ZFMNNqxfGtXH"
      },
      "source": [
        "## Textblob"
      ]
    },
    {
      "cell_type": "markdown",
      "metadata": {},
      "source": [
        "### Testing deep_translator for translating port -->> eng"
      ]
    },
    {
      "cell_type": "code",
      "execution_count": 60,
      "metadata": {
        "id": "aCbw0sYtMvWp"
      },
      "outputs": [],
      "source": [
        "tradutor = GoogleTranslator(source= \"pt\", target= \"en\")"
      ]
    },
    {
      "cell_type": "code",
      "execution_count": 61,
      "metadata": {
        "id": "TCWF8AxaHTpa"
      },
      "outputs": [],
      "source": [
        "text = \"Eu ODEIO essa música! Mas a letra é muito boa\"\n",
        "traducao = tradutor.translate(text)\n",
        "blob = TextBlob(traducao)"
      ]
    },
    {
      "cell_type": "code",
      "execution_count": 62,
      "metadata": {
        "colab": {
          "base_uri": "https://localhost:8080/"
        },
        "id": "ZuzBEtCEHiFX",
        "outputId": "4a97590a-4f93-46e0-f024-84cdc0d8c957"
      },
      "outputs": [
        {
          "name": "stdout",
          "output_type": "stream",
          "text": [
            "-0.04500000000000004\n",
            "0.8400000000000001\n",
            "Sentiment(polarity=-0.04500000000000004, subjectivity=0.8400000000000001)\n"
          ]
        }
      ],
      "source": [
        "polarity = blob.sentiment.polarity\n",
        "subjectivity = blob.sentiment.subjectivity\n",
        "\n",
        "print(polarity)\n",
        "print(subjectivity)\n",
        "print(blob.sentiment)"
      ]
    },
    {
      "cell_type": "code",
      "execution_count": 67,
      "metadata": {
        "id": "wSTrgNFyYcu8"
      },
      "outputs": [],
      "source": [
        "df_eng_n = pd.read_csv('datasets/NEGATIVE_B0BHZT5S12.csv', sep=';')\n",
        "df_eng_p = pd.read_csv('datasets/POSITIVE_B0BHZT5S12.csv', sep=';')\n",
        "\n",
        "df_eng = (pd.concat([df_eng_n, df_eng_p], ignore_index=True)\n",
        "     .assign(origem=lambda x: ['negative'] * len(neg_df) + ['positive'] * len(pos_df)))"
      ]
    },
    {
      "cell_type": "code",
      "execution_count": 68,
      "metadata": {
        "colab": {
          "base_uri": "https://localhost:8080/",
          "height": 424
        },
        "id": "wFWFZy6KZruE",
        "outputId": "a7746bf6-5e4a-480d-c3c5-ffcb805725eb"
      },
      "outputs": [
        {
          "data": {
            "text/html": [
              "<div>\n",
              "<style scoped>\n",
              "    .dataframe tbody tr th:only-of-type {\n",
              "        vertical-align: middle;\n",
              "    }\n",
              "\n",
              "    .dataframe tbody tr th {\n",
              "        vertical-align: top;\n",
              "    }\n",
              "\n",
              "    .dataframe thead th {\n",
              "        text-align: right;\n",
              "    }\n",
              "</style>\n",
              "<table border=\"1\" class=\"dataframe\">\n",
              "  <thead>\n",
              "    <tr style=\"text-align: right;\">\n",
              "      <th></th>\n",
              "      <th>username</th>\n",
              "      <th>title</th>\n",
              "      <th>model</th>\n",
              "      <th>verified</th>\n",
              "      <th>date</th>\n",
              "      <th>region</th>\n",
              "      <th>text</th>\n",
              "      <th>stars</th>\n",
              "      <th>id</th>\n",
              "      <th>origem</th>\n",
              "    </tr>\n",
              "  </thead>\n",
              "  <tbody>\n",
              "    <tr>\n",
              "      <th>0</th>\n",
              "      <td>columbia93</td>\n",
              "      <td>Battery doesn't last very long &amp; forget about ...</td>\n",
              "      <td>Digital Storage Capacity: 32 GBOffer Type: Wit...</td>\n",
              "      <td>Verified Purchase</td>\n",
              "      <td>April 6, 2024</td>\n",
              "      <td>United States</td>\n",
              "      <td>\\nThis is my 3rd Fire 10 Tablet. They have a r...</td>\n",
              "      <td>3.0</td>\n",
              "      <td>B0BHZT5S12</td>\n",
              "      <td>negative</td>\n",
              "    </tr>\n",
              "    <tr>\n",
              "      <th>1</th>\n",
              "      <td>Deirdre</td>\n",
              "      <td>Comic Reader Perspective</td>\n",
              "      <td>Digital Storage Capacity: 32 GBOffer Type: Wit...</td>\n",
              "      <td>Verified Purchase</td>\n",
              "      <td>April 11, 2024</td>\n",
              "      <td>United States</td>\n",
              "      <td>\\nI picked this up as an inexpensive Comixolog...</td>\n",
              "      <td>3.0</td>\n",
              "      <td>B0BHZT5S12</td>\n",
              "      <td>negative</td>\n",
              "    </tr>\n",
              "    <tr>\n",
              "      <th>2</th>\n",
              "      <td>Paris</td>\n",
              "      <td>It's like a cool toy...</td>\n",
              "      <td>Digital Storage Capacity: 32 GBOffer Type: Wit...</td>\n",
              "      <td>Verified Purchase</td>\n",
              "      <td>April 18, 2024</td>\n",
              "      <td>United States</td>\n",
              "      <td>\\nI have had Samsung Galaxy products for years...</td>\n",
              "      <td>3.0</td>\n",
              "      <td>B0BHZT5S12</td>\n",
              "      <td>negative</td>\n",
              "    </tr>\n",
              "  </tbody>\n",
              "</table>\n",
              "</div>"
            ],
            "text/plain": [
              "     username                                              title  \\\n",
              "0  columbia93  Battery doesn't last very long & forget about ...   \n",
              "1     Deirdre                           Comic Reader Perspective   \n",
              "2       Paris                            It's like a cool toy...   \n",
              "\n",
              "                                               model           verified  \\\n",
              "0  Digital Storage Capacity: 32 GBOffer Type: Wit...  Verified Purchase   \n",
              "1  Digital Storage Capacity: 32 GBOffer Type: Wit...  Verified Purchase   \n",
              "2  Digital Storage Capacity: 32 GBOffer Type: Wit...  Verified Purchase   \n",
              "\n",
              "             date         region  \\\n",
              "0   April 6, 2024  United States   \n",
              "1  April 11, 2024  United States   \n",
              "2  April 18, 2024  United States   \n",
              "\n",
              "                                                text  stars          id  \\\n",
              "0  \\nThis is my 3rd Fire 10 Tablet. They have a r...    3.0  B0BHZT5S12   \n",
              "1  \\nI picked this up as an inexpensive Comixolog...    3.0  B0BHZT5S12   \n",
              "2  \\nI have had Samsung Galaxy products for years...    3.0  B0BHZT5S12   \n",
              "\n",
              "     origem  \n",
              "0  negative  \n",
              "1  negative  \n",
              "2  negative  "
            ]
          },
          "execution_count": 68,
          "metadata": {},
          "output_type": "execute_result"
        }
      ],
      "source": [
        "df_eng.head(3)"
      ]
    },
    {
      "cell_type": "code",
      "execution_count": 69,
      "metadata": {},
      "outputs": [
        {
          "name": "stdout",
          "output_type": "stream",
          "text": [
            "Não foi possível traduzir\n"
          ]
        }
      ],
      "source": [
        "translate = lambda x: GoogleTranslator(source= \"en\", target= \"pt\").translate(x) if len(x) < 5000 else print('Não foi possível traduzir')\n",
        "\n",
        "df_port = df_eng.copy()\n",
        "\n",
        "df_port['text'] = df_eng['text'].apply(translate)\n",
        "df_port['title'] = df_eng['title'].apply(translate)"
      ]
    },
    {
      "cell_type": "code",
      "execution_count": 70,
      "metadata": {},
      "outputs": [
        {
          "data": {
            "text/html": [
              "<div>\n",
              "<style scoped>\n",
              "    .dataframe tbody tr th:only-of-type {\n",
              "        vertical-align: middle;\n",
              "    }\n",
              "\n",
              "    .dataframe tbody tr th {\n",
              "        vertical-align: top;\n",
              "    }\n",
              "\n",
              "    .dataframe thead th {\n",
              "        text-align: right;\n",
              "    }\n",
              "</style>\n",
              "<table border=\"1\" class=\"dataframe\">\n",
              "  <thead>\n",
              "    <tr style=\"text-align: right;\">\n",
              "      <th></th>\n",
              "      <th>username</th>\n",
              "      <th>title</th>\n",
              "      <th>model</th>\n",
              "      <th>verified</th>\n",
              "      <th>date</th>\n",
              "      <th>region</th>\n",
              "      <th>text</th>\n",
              "      <th>stars</th>\n",
              "      <th>id</th>\n",
              "      <th>origem</th>\n",
              "    </tr>\n",
              "  </thead>\n",
              "  <tbody>\n",
              "    <tr>\n",
              "      <th>0</th>\n",
              "      <td>columbia93</td>\n",
              "      <td>A bateria não dura muito e esqueça de usar o c...</td>\n",
              "      <td>Digital Storage Capacity: 32 GBOffer Type: Wit...</td>\n",
              "      <td>Verified Purchase</td>\n",
              "      <td>April 6, 2024</td>\n",
              "      <td>United States</td>\n",
              "      <td>Este é o meu terceiro tablet Fire 10. Eles têm...</td>\n",
              "      <td>3.0</td>\n",
              "      <td>B0BHZT5S12</td>\n",
              "      <td>negative</td>\n",
              "    </tr>\n",
              "    <tr>\n",
              "      <th>1</th>\n",
              "      <td>Deirdre</td>\n",
              "      <td>Perspectiva do leitor de quadrinhos</td>\n",
              "      <td>Digital Storage Capacity: 32 GBOffer Type: Wit...</td>\n",
              "      <td>Verified Purchase</td>\n",
              "      <td>April 11, 2024</td>\n",
              "      <td>United States</td>\n",
              "      <td>Eu escolhi este como um tablet barato focado e...</td>\n",
              "      <td>3.0</td>\n",
              "      <td>B0BHZT5S12</td>\n",
              "      <td>negative</td>\n",
              "    </tr>\n",
              "    <tr>\n",
              "      <th>2</th>\n",
              "      <td>Paris</td>\n",
              "      <td>É como um brinquedo legal...</td>\n",
              "      <td>Digital Storage Capacity: 32 GBOffer Type: Wit...</td>\n",
              "      <td>Verified Purchase</td>\n",
              "      <td>April 18, 2024</td>\n",
              "      <td>United States</td>\n",
              "      <td>Eu tenho produtos Samsung Galaxy há anos, mas ...</td>\n",
              "      <td>3.0</td>\n",
              "      <td>B0BHZT5S12</td>\n",
              "      <td>negative</td>\n",
              "    </tr>\n",
              "  </tbody>\n",
              "</table>\n",
              "</div>"
            ],
            "text/plain": [
              "     username                                              title  \\\n",
              "0  columbia93  A bateria não dura muito e esqueça de usar o c...   \n",
              "1     Deirdre                Perspectiva do leitor de quadrinhos   \n",
              "2       Paris                       É como um brinquedo legal...   \n",
              "\n",
              "                                               model           verified  \\\n",
              "0  Digital Storage Capacity: 32 GBOffer Type: Wit...  Verified Purchase   \n",
              "1  Digital Storage Capacity: 32 GBOffer Type: Wit...  Verified Purchase   \n",
              "2  Digital Storage Capacity: 32 GBOffer Type: Wit...  Verified Purchase   \n",
              "\n",
              "             date         region  \\\n",
              "0   April 6, 2024  United States   \n",
              "1  April 11, 2024  United States   \n",
              "2  April 18, 2024  United States   \n",
              "\n",
              "                                                text  stars          id  \\\n",
              "0  Este é o meu terceiro tablet Fire 10. Eles têm...    3.0  B0BHZT5S12   \n",
              "1  Eu escolhi este como um tablet barato focado e...    3.0  B0BHZT5S12   \n",
              "2  Eu tenho produtos Samsung Galaxy há anos, mas ...    3.0  B0BHZT5S12   \n",
              "\n",
              "     origem  \n",
              "0  negative  \n",
              "1  negative  \n",
              "2  negative  "
            ]
          },
          "execution_count": 70,
          "metadata": {},
          "output_type": "execute_result"
        }
      ],
      "source": [
        "df_port.head(3)"
      ]
    },
    {
      "cell_type": "code",
      "execution_count": 71,
      "metadata": {
        "id": "2UOtIvHBS-TC"
      },
      "outputs": [],
      "source": [
        "df_port = df_port.dropna()"
      ]
    },
    {
      "cell_type": "code",
      "execution_count": 72,
      "metadata": {
        "id": "L7CzPfF4O2D9"
      },
      "outputs": [],
      "source": [
        "def sentences_tokenization(text):\n",
        "  sentences = []\n",
        "  blob = TextBlob(text)\n",
        "  for sentence in blob.sentences:\n",
        "    sentences.append(str(sentence))\n",
        "\n",
        "  return sentences"
      ]
    },
    {
      "cell_type": "code",
      "execution_count": 73,
      "metadata": {
        "colab": {
          "base_uri": "https://localhost:8080/"
        },
        "id": "nTbRCOQGPvU1",
        "outputId": "79bda308-295a-4917-de5f-75d0fa5cdf3f"
      },
      "outputs": [],
      "source": [
        "df_port.loc[:, 'sentences'] = df_port['text'].apply(sentences_tokenization)"
      ]
    },
    {
      "cell_type": "code",
      "execution_count": 74,
      "metadata": {
        "id": "n_TMa3-KVK-q"
      },
      "outputs": [],
      "source": [
        "df_port.loc[:, 'token_pt'] = df_port['text'].apply(sentences_tokenization)"
      ]
    },
    {
      "cell_type": "markdown",
      "metadata": {},
      "source": [
        "#### Using polarity to distinguish bad/good sentiments"
      ]
    },
    {
      "cell_type": "code",
      "execution_count": 75,
      "metadata": {
        "id": "DrQLU5SFQQML"
      },
      "outputs": [],
      "source": [
        "def sentiment_analysis(sentences):\n",
        "  sentiments = []\n",
        "  for sentence in sentences:\n",
        "    blob = TextBlob(sentence)\n",
        "    sentiment = blob.sentiment.polarity\n",
        "    sentiments.append(sentiment)\n",
        "\n",
        "  return sentiments"
      ]
    },
    {
      "cell_type": "code",
      "execution_count": 76,
      "metadata": {
        "colab": {
          "base_uri": "https://localhost:8080/"
        },
        "id": "5ZPydfdLRTuM",
        "outputId": "282e9b0f-4891-4c33-d47b-f7cd366d8bfa"
      },
      "outputs": [],
      "source": [
        "df_port.loc[:, 'sentences_sentiments'] = df_port['token_pt'].apply(sentiment_analysis)"
      ]
    },
    {
      "cell_type": "code",
      "execution_count": 77,
      "metadata": {
        "colab": {
          "base_uri": "https://localhost:8080/"
        },
        "id": "SrZa9BoIRp5J",
        "outputId": "4278e935-2b5a-47f3-a282-0eae23adcc6c"
      },
      "outputs": [],
      "source": [
        "df_port.loc[:, 'positive_sentences'] = df_port.apply(lambda x: [frase for frase, sentimento in zip(x['sentences'], x['sentences_sentiments']) if sentimento > 0], axis=1)"
      ]
    },
    {
      "cell_type": "code",
      "execution_count": 78,
      "metadata": {
        "colab": {
          "base_uri": "https://localhost:8080/"
        },
        "id": "ZM46Nky_TN_9",
        "outputId": "f627039b-14f4-4271-b23d-f6c1a93e30e8"
      },
      "outputs": [],
      "source": [
        "df_port.loc[:, 'negative_sentences'] = df_port.apply(lambda x: [frase for frase, sentimento in zip(x['sentences'], x['sentences_sentiments']) if sentimento < 0], axis=1)"
      ]
    },
    {
      "cell_type": "code",
      "execution_count": 79,
      "metadata": {
        "colab": {
          "base_uri": "https://localhost:8080/",
          "height": 1000
        },
        "id": "_hCO6Q02aH70",
        "outputId": "5207105b-70c8-442e-be07-14a65a35d39c"
      },
      "outputs": [
        {
          "data": {
            "text/html": [
              "<div>\n",
              "<style scoped>\n",
              "    .dataframe tbody tr th:only-of-type {\n",
              "        vertical-align: middle;\n",
              "    }\n",
              "\n",
              "    .dataframe tbody tr th {\n",
              "        vertical-align: top;\n",
              "    }\n",
              "\n",
              "    .dataframe thead th {\n",
              "        text-align: right;\n",
              "    }\n",
              "</style>\n",
              "<table border=\"1\" class=\"dataframe\">\n",
              "  <thead>\n",
              "    <tr style=\"text-align: right;\">\n",
              "      <th></th>\n",
              "      <th>username</th>\n",
              "      <th>title</th>\n",
              "      <th>model</th>\n",
              "      <th>verified</th>\n",
              "      <th>date</th>\n",
              "      <th>region</th>\n",
              "      <th>text</th>\n",
              "      <th>stars</th>\n",
              "      <th>id</th>\n",
              "      <th>origem</th>\n",
              "      <th>sentences</th>\n",
              "      <th>token_pt</th>\n",
              "      <th>sentences_sentiments</th>\n",
              "      <th>positive_sentences</th>\n",
              "      <th>negative_sentences</th>\n",
              "    </tr>\n",
              "  </thead>\n",
              "  <tbody>\n",
              "    <tr>\n",
              "      <th>0</th>\n",
              "      <td>columbia93</td>\n",
              "      <td>A bateria não dura muito e esqueça de usar o c...</td>\n",
              "      <td>Digital Storage Capacity: 32 GBOffer Type: Wit...</td>\n",
              "      <td>Verified Purchase</td>\n",
              "      <td>April 6, 2024</td>\n",
              "      <td>United States</td>\n",
              "      <td>Este é o meu terceiro tablet Fire 10. Eles têm...</td>\n",
              "      <td>3.0</td>\n",
              "      <td>B0BHZT5S12</td>\n",
              "      <td>negative</td>\n",
              "      <td>[Este é o meu terceiro tablet Fire 10., Eles t...</td>\n",
              "      <td>[Este é o meu terceiro tablet Fire 10., Eles t...</td>\n",
              "      <td>[0.0, 0.2, 0.0, 0.0, 0.0, 0.0, 0.0, 0.0, 0.0, ...</td>\n",
              "      <td>[Eles têm um problema real de sustentabilidade...</td>\n",
              "      <td>[]</td>\n",
              "    </tr>\n",
              "    <tr>\n",
              "      <th>1</th>\n",
              "      <td>Deirdre</td>\n",
              "      <td>Perspectiva do leitor de quadrinhos</td>\n",
              "      <td>Digital Storage Capacity: 32 GBOffer Type: Wit...</td>\n",
              "      <td>Verified Purchase</td>\n",
              "      <td>April 11, 2024</td>\n",
              "      <td>United States</td>\n",
              "      <td>Eu escolhi este como um tablet barato focado e...</td>\n",
              "      <td>3.0</td>\n",
              "      <td>B0BHZT5S12</td>\n",
              "      <td>negative</td>\n",
              "      <td>[Eu escolhi este como um tablet barato focado ...</td>\n",
              "      <td>[Eu escolhi este como um tablet barato focado ...</td>\n",
              "      <td>[0.0, 0.0, 0.0, 0.0, 0.0, 0.0, 0.0, 0.0, 0.0, ...</td>\n",
              "      <td>[]</td>\n",
              "      <td>[]</td>\n",
              "    </tr>\n",
              "    <tr>\n",
              "      <th>2</th>\n",
              "      <td>Paris</td>\n",
              "      <td>É como um brinquedo legal...</td>\n",
              "      <td>Digital Storage Capacity: 32 GBOffer Type: Wit...</td>\n",
              "      <td>Verified Purchase</td>\n",
              "      <td>April 18, 2024</td>\n",
              "      <td>United States</td>\n",
              "      <td>Eu tenho produtos Samsung Galaxy há anos, mas ...</td>\n",
              "      <td>3.0</td>\n",
              "      <td>B0BHZT5S12</td>\n",
              "      <td>negative</td>\n",
              "      <td>[Eu tenho produtos Samsung Galaxy há anos, mas...</td>\n",
              "      <td>[Eu tenho produtos Samsung Galaxy há anos, mas...</td>\n",
              "      <td>[0.0, 0.0, 0.2, 0.0, 0.0, 0.0, 0.0, 0.0, 0.0, ...</td>\n",
              "      <td>[Definitivamente não é Android, mas é legal., ...</td>\n",
              "      <td>[]</td>\n",
              "    </tr>\n",
              "  </tbody>\n",
              "</table>\n",
              "</div>"
            ],
            "text/plain": [
              "     username                                              title  \\\n",
              "0  columbia93  A bateria não dura muito e esqueça de usar o c...   \n",
              "1     Deirdre                Perspectiva do leitor de quadrinhos   \n",
              "2       Paris                       É como um brinquedo legal...   \n",
              "\n",
              "                                               model           verified  \\\n",
              "0  Digital Storage Capacity: 32 GBOffer Type: Wit...  Verified Purchase   \n",
              "1  Digital Storage Capacity: 32 GBOffer Type: Wit...  Verified Purchase   \n",
              "2  Digital Storage Capacity: 32 GBOffer Type: Wit...  Verified Purchase   \n",
              "\n",
              "             date         region  \\\n",
              "0   April 6, 2024  United States   \n",
              "1  April 11, 2024  United States   \n",
              "2  April 18, 2024  United States   \n",
              "\n",
              "                                                text  stars          id  \\\n",
              "0  Este é o meu terceiro tablet Fire 10. Eles têm...    3.0  B0BHZT5S12   \n",
              "1  Eu escolhi este como um tablet barato focado e...    3.0  B0BHZT5S12   \n",
              "2  Eu tenho produtos Samsung Galaxy há anos, mas ...    3.0  B0BHZT5S12   \n",
              "\n",
              "     origem                                          sentences  \\\n",
              "0  negative  [Este é o meu terceiro tablet Fire 10., Eles t...   \n",
              "1  negative  [Eu escolhi este como um tablet barato focado ...   \n",
              "2  negative  [Eu tenho produtos Samsung Galaxy há anos, mas...   \n",
              "\n",
              "                                            token_pt  \\\n",
              "0  [Este é o meu terceiro tablet Fire 10., Eles t...   \n",
              "1  [Eu escolhi este como um tablet barato focado ...   \n",
              "2  [Eu tenho produtos Samsung Galaxy há anos, mas...   \n",
              "\n",
              "                                sentences_sentiments  \\\n",
              "0  [0.0, 0.2, 0.0, 0.0, 0.0, 0.0, 0.0, 0.0, 0.0, ...   \n",
              "1  [0.0, 0.0, 0.0, 0.0, 0.0, 0.0, 0.0, 0.0, 0.0, ...   \n",
              "2  [0.0, 0.0, 0.2, 0.0, 0.0, 0.0, 0.0, 0.0, 0.0, ...   \n",
              "\n",
              "                                  positive_sentences negative_sentences  \n",
              "0  [Eles têm um problema real de sustentabilidade...                 []  \n",
              "1                                                 []                 []  \n",
              "2  [Definitivamente não é Android, mas é legal., ...                 []  "
            ]
          },
          "execution_count": 79,
          "metadata": {},
          "output_type": "execute_result"
        }
      ],
      "source": [
        "df_port.head(3)"
      ]
    },
    {
      "cell_type": "markdown",
      "metadata": {},
      "source": [
        "#### By the sentiments prediction, we can consider that the model does not work as well for portuguese reviews as it does in english."
      ]
    },
    {
      "cell_type": "code",
      "execution_count": 80,
      "metadata": {},
      "outputs": [],
      "source": [
        "positive_text = [str(frase) for frase in df_port['positive_sentences']]\n",
        "positive_text = ' '.join(positive_text)\n",
        "\n",
        "negative_text = [str(frase) for frase in df_port['negative_sentences']]\n",
        "negative_text = ' '.join(negative_text)"
      ]
    },
    {
      "cell_type": "code",
      "execution_count": 81,
      "metadata": {},
      "outputs": [],
      "source": [
        "stopwords = nltk.corpus.stopwords.words('portuguese')\n",
        "punctuation = string.punctuation"
      ]
    },
    {
      "cell_type": "code",
      "execution_count": 82,
      "metadata": {},
      "outputs": [],
      "source": [
        "positive_text = positive_text.lower()\n",
        "negative_text = negative_text.lower()"
      ]
    },
    {
      "cell_type": "code",
      "execution_count": 83,
      "metadata": {},
      "outputs": [
        {
          "data": {
            "text/plain": [
              "\"'eu precisava substituir um tablet do tipo android e optei pelo amazon fire apenas com base no fato de que meu aplicativo principal é o audible imaginando que um serviço da amazon como o audible funcionaria muito bem em seu próprio tablet 'eu tenho a base de carregamento sem fio e agora ela não vale nada para isso o segundo representante foi rude e indiferente o representante rude e desdenhoso meio que me irritou e depois de fazer algumas pesquisas vejo que outros tiveram problemas com ele 'minha senha funcionou ma há muito para entender para torná-la totalmente operável exceto meu jogo 7 little word 'mas na black friday 79 é uma boa compra 'você não pode aumentá-los ou ajustar qualquer tipo de base ou problema 'não há aplicativos suficientes minha filha odeia ma ainda tenho mais alguns pagamentos o preço é justo especialmente durante a vendas do prime day ou black friday então por que não 'emparelhado com um mouse e teclado bluetooth você pode essencialmente usar o tablet como um “ thin client ” para conectar-se a um pc mais potente e a bateria dura muito mais do que uma bateria normal de laptop 'eu gosto do tinycam para visualizar câmeras sem fio para animais de estimação superdisplay e easycanvas para uma exibição sem atrasos para window squeezer para controle remoto do sistema de música squeezebox pinball arcade para uma experiência de pinball bastante autêntica microsoft remote desktop para conectar-se a desktop window nomachine para conectar-se a mac mini sem atrasos steam link e um controlador xbox bluetooth para jogos remotos da minha área de trabalho touch portal poderoso deck de controle remoto de macro como steam deck sketchbook para desenho intuitivo squid para anotações e brainstorming de ideias simplemind para mente rápida mapas engross para listas de tarefas hábitos para fácil rastreamento de hábitos myradar para visualização de radar meteorológico ao vivo e a lista continuum\""
            ]
          },
          "execution_count": 83,
          "metadata": {},
          "output_type": "execute_result"
        }
      ],
      "source": [
        "wp = Word(positive_text)\n",
        "lemma_pos = TextBlob(positive_text)\n",
        "\" \". join([w.lemmatize() for w in lemma_pos.words])\n",
        "\n",
        "wn = Word(negative_text)\n",
        "lemma_neg = TextBlob(negative_text)\n",
        "\" \". join([w.lemmatize() for w in lemma_neg.words])"
      ]
    },
    {
      "cell_type": "code",
      "execution_count": 84,
      "metadata": {},
      "outputs": [],
      "source": [
        "pos_tokens = word_tokenize(positive_text)\n",
        "neg_tokens = word_tokenize(negative_text)"
      ]
    },
    {
      "cell_type": "code",
      "execution_count": 85,
      "metadata": {},
      "outputs": [],
      "source": [
        "pos_tokens = [word for word in pos_tokens if word not in stopwords and word ]\n",
        "neg_tokens = [word for word in neg_tokens if word not in stopwords and word ]"
      ]
    },
    {
      "cell_type": "code",
      "execution_count": 86,
      "metadata": {},
      "outputs": [],
      "source": [
        "clean_pos_tokens = []\n",
        "clean_neg_tokens = []"
      ]
    },
    {
      "cell_type": "code",
      "execution_count": 87,
      "metadata": {},
      "outputs": [],
      "source": [
        "for token in pos_tokens:\n",
        "    clean_token = ''.join(char for char in token if char not in punctuation)\n",
        "    if clean_token:\n",
        "        clean_pos_tokens.append(clean_token)\n",
        "\n",
        "for token in neg_tokens:\n",
        "    clean_token = ''.join(char for char in token if char not in punctuation)\n",
        "    if clean_token:\n",
        "        clean_neg_tokens.append(clean_token)"
      ]
    },
    {
      "cell_type": "code",
      "execution_count": 88,
      "metadata": {
        "colab": {
          "base_uri": "https://localhost:8080/"
        },
        "id": "l9T4ZosSaUqk",
        "outputId": "33adfaae-9933-43fe-9267-1763da9e8739"
      },
      "outputs": [
        {
          "name": "stdout",
          "output_type": "stream",
          "text": [
            "['eles', 'têm', 'problema', 'real', 'sustentabilidade', 'morrem']\n"
          ]
        }
      ],
      "source": [
        "print(clean_pos_tokens[:6])"
      ]
    },
    {
      "cell_type": "code",
      "execution_count": 89,
      "metadata": {
        "colab": {
          "base_uri": "https://localhost:8080/"
        },
        "id": "6X75RDakafRU",
        "outputId": "519057e9-349f-4a5e-c957-2baf024e4c88"
      },
      "outputs": [
        {
          "name": "stdout",
          "output_type": "stream",
          "text": [
            "['eu', 'precisava', 'substituir', 'tablet', 'tipo', 'android']\n"
          ]
        }
      ],
      "source": [
        "print(clean_neg_tokens[:6])"
      ]
    },
    {
      "cell_type": "code",
      "execution_count": 90,
      "metadata": {
        "colab": {
          "base_uri": "https://localhost:8080/",
          "height": 454
        },
        "id": "n1odXhakXcBF",
        "outputId": "ea5ae466-87f7-4f10-9d47-e8d5f38f513a"
      },
      "outputs": [
        {
          "data": {
            "image/png": "[encoded data removed]",
            "text/plain": [
              "<Figure size 1000x500 with 1 Axes>"
            ]
          },
          "metadata": {},
          "output_type": "display_data"
        }
      ],
      "source": [
        "plot_freq(clean_pos_tokens, 'Positive Tokens')"
      ]
    },
    {
      "cell_type": "code",
      "execution_count": 91,
      "metadata": {},
      "outputs": [
        {
          "data": {
            "image/png": "[encoded data removed]",
            "text/plain": [
              "<Figure size 1000x500 with 1 Axes>"
            ]
          },
          "metadata": {},
          "output_type": "display_data"
        }
      ],
      "source": [
        "plot_freq(clean_neg_tokens, 'Negative Tokens')"
      ]
    },
    {
      "cell_type": "code",
      "execution_count": 92,
      "metadata": {},
      "outputs": [
        {
          "data": {
            "image/png": "[encoded data removed]",
            "text/plain": [
              "<Figure size 1000x500 with 1 Axes>"
            ]
          },
          "metadata": {},
          "output_type": "display_data"
        }
      ],
      "source": [
        "plot_freq(clean_pos_tokens + clean_neg_tokens, 'General Tokens')"
      ]
    },
    {
      "cell_type": "code",
      "execution_count": 94,
      "metadata": {
        "id": "mffEkoEYdbOi"
      },
      "outputs": [
        {
          "data": {
            "text/html": [
              "<div>\n",
              "<style scoped>\n",
              "    .dataframe tbody tr th:only-of-type {\n",
              "        vertical-align: middle;\n",
              "    }\n",
              "\n",
              "    .dataframe tbody tr th {\n",
              "        vertical-align: top;\n",
              "    }\n",
              "\n",
              "    .dataframe thead th {\n",
              "        text-align: right;\n",
              "    }\n",
              "</style>\n",
              "<table border=\"1\" class=\"dataframe\">\n",
              "  <thead>\n",
              "    <tr style=\"text-align: right;\">\n",
              "      <th></th>\n",
              "      <th>word</th>\n",
              "      <th>postag</th>\n",
              "    </tr>\n",
              "  </thead>\n",
              "  <tbody>\n",
              "    <tr>\n",
              "      <th>0</th>\n",
              "      <td>eu</td>\n",
              "      <td>NN</td>\n",
              "    </tr>\n",
              "    <tr>\n",
              "      <th>1</th>\n",
              "      <td>precisava</td>\n",
              "      <td>NN</td>\n",
              "    </tr>\n",
              "    <tr>\n",
              "      <th>2</th>\n",
              "      <td>substituir</td>\n",
              "      <td>JJ</td>\n",
              "    </tr>\n",
              "    <tr>\n",
              "      <th>3</th>\n",
              "      <td>tablet</td>\n",
              "      <td>NN</td>\n",
              "    </tr>\n",
              "    <tr>\n",
              "      <th>4</th>\n",
              "      <td>tipo</td>\n",
              "      <td>NN</td>\n",
              "    </tr>\n",
              "  </tbody>\n",
              "</table>\n",
              "</div>"
            ],
            "text/plain": [
              "         word postag\n",
              "0          eu     NN\n",
              "1   precisava     NN\n",
              "2  substituir     JJ\n",
              "3      tablet     NN\n",
              "4        tipo     NN"
            ]
          },
          "execution_count": 94,
          "metadata": {},
          "output_type": "execute_result"
        }
      ],
      "source": [
        "negative_postag = nltk.tag.pos_tag(clean_neg_tokens)\n",
        "positive_postag = nltk.tag.pos_tag(clean_pos_tokens)\n",
        "\n",
        "df_port_postag = pd.DataFrame(negative_postag+positive_postag, columns=['word', 'postag'])\n",
        "\n",
        "df_port_postag.head()"
      ]
    },
    {
      "cell_type": "code",
      "execution_count": 95,
      "metadata": {},
      "outputs": [
        {
          "data": {
            "text/plain": [
              "['substituir', 'android', 'principal', 'audible', 'audible', 'eu']"
            ]
          },
          "execution_count": 95,
          "metadata": {},
          "output_type": "execute_result"
        }
      ],
      "source": [
        "adjectives = []\n",
        "\n",
        "for i in range(len(df_port_postag['postag'])):\n",
        "    if df_port_postag['postag'][i] in ['JJ', 'JJR', 'JJS']:\n",
        "        adjectives.append(df_port_postag['word'][i])\n",
        "\n",
        "adjectives[:6]"
      ]
    },
    {
      "cell_type": "markdown",
      "metadata": {
        "id": "ABbrVo1mBuy7"
      },
      "source": [
        "## Comparing with NRC Lexicon"
      ]
    },
    {
      "cell_type": "code",
      "execution_count": 98,
      "metadata": {
        "colab": {
          "base_uri": "https://localhost:8080/",
          "height": 1000
        },
        "id": "oierOp1CtVKM",
        "outputId": "f7e2f757-b18f-42ad-cb1f-1c11762a7eaf"
      },
      "outputs": [
        {
          "data": {
            "text/html": [
              "<div>\n",
              "<style scoped>\n",
              "    .dataframe tbody tr th:only-of-type {\n",
              "        vertical-align: middle;\n",
              "    }\n",
              "\n",
              "    .dataframe tbody tr th {\n",
              "        vertical-align: top;\n",
              "    }\n",
              "\n",
              "    .dataframe thead th {\n",
              "        text-align: right;\n",
              "    }\n",
              "</style>\n",
              "<table border=\"1\" class=\"dataframe\">\n",
              "  <thead>\n",
              "    <tr style=\"text-align: right;\">\n",
              "      <th></th>\n",
              "      <th>username</th>\n",
              "      <th>title</th>\n",
              "      <th>model</th>\n",
              "      <th>verified</th>\n",
              "      <th>date</th>\n",
              "      <th>region</th>\n",
              "      <th>text</th>\n",
              "      <th>stars</th>\n",
              "      <th>id</th>\n",
              "      <th>origem</th>\n",
              "      <th>sentences</th>\n",
              "      <th>token_pt</th>\n",
              "      <th>sentences_sentiments</th>\n",
              "      <th>positive_sentences</th>\n",
              "      <th>negative_sentences</th>\n",
              "    </tr>\n",
              "  </thead>\n",
              "  <tbody>\n",
              "    <tr>\n",
              "      <th>0</th>\n",
              "      <td>columbia93</td>\n",
              "      <td>A bateria não dura muito e esqueça de usar o c...</td>\n",
              "      <td>Digital Storage Capacity: 32 GBOffer Type: Wit...</td>\n",
              "      <td>Verified Purchase</td>\n",
              "      <td>April 6, 2024</td>\n",
              "      <td>United States</td>\n",
              "      <td>Este é o meu terceiro tablet Fire 10. Eles têm...</td>\n",
              "      <td>3.0</td>\n",
              "      <td>B0BHZT5S12</td>\n",
              "      <td>negative</td>\n",
              "      <td>[Este é o meu terceiro tablet Fire 10., Eles t...</td>\n",
              "      <td>[Este é o meu terceiro tablet Fire 10., Eles t...</td>\n",
              "      <td>[0.0, 0.2, 0.0, 0.0, 0.0, 0.0, 0.0, 0.0, 0.0, ...</td>\n",
              "      <td>[Eles têm um problema real de sustentabilidade...</td>\n",
              "      <td>[]</td>\n",
              "    </tr>\n",
              "    <tr>\n",
              "      <th>1</th>\n",
              "      <td>Deirdre</td>\n",
              "      <td>Perspectiva do leitor de quadrinhos</td>\n",
              "      <td>Digital Storage Capacity: 32 GBOffer Type: Wit...</td>\n",
              "      <td>Verified Purchase</td>\n",
              "      <td>April 11, 2024</td>\n",
              "      <td>United States</td>\n",
              "      <td>Eu escolhi este como um tablet barato focado e...</td>\n",
              "      <td>3.0</td>\n",
              "      <td>B0BHZT5S12</td>\n",
              "      <td>negative</td>\n",
              "      <td>[Eu escolhi este como um tablet barato focado ...</td>\n",
              "      <td>[Eu escolhi este como um tablet barato focado ...</td>\n",
              "      <td>[0.0, 0.0, 0.0, 0.0, 0.0, 0.0, 0.0, 0.0, 0.0, ...</td>\n",
              "      <td>[]</td>\n",
              "      <td>[]</td>\n",
              "    </tr>\n",
              "    <tr>\n",
              "      <th>2</th>\n",
              "      <td>Paris</td>\n",
              "      <td>É como um brinquedo legal...</td>\n",
              "      <td>Digital Storage Capacity: 32 GBOffer Type: Wit...</td>\n",
              "      <td>Verified Purchase</td>\n",
              "      <td>April 18, 2024</td>\n",
              "      <td>United States</td>\n",
              "      <td>Eu tenho produtos Samsung Galaxy há anos, mas ...</td>\n",
              "      <td>3.0</td>\n",
              "      <td>B0BHZT5S12</td>\n",
              "      <td>negative</td>\n",
              "      <td>[Eu tenho produtos Samsung Galaxy há anos, mas...</td>\n",
              "      <td>[Eu tenho produtos Samsung Galaxy há anos, mas...</td>\n",
              "      <td>[0.0, 0.0, 0.2, 0.0, 0.0, 0.0, 0.0, 0.0, 0.0, ...</td>\n",
              "      <td>[Definitivamente não é Android, mas é legal., ...</td>\n",
              "      <td>[]</td>\n",
              "    </tr>\n",
              "  </tbody>\n",
              "</table>\n",
              "</div>"
            ],
            "text/plain": [
              "     username                                              title  \\\n",
              "0  columbia93  A bateria não dura muito e esqueça de usar o c...   \n",
              "1     Deirdre                Perspectiva do leitor de quadrinhos   \n",
              "2       Paris                       É como um brinquedo legal...   \n",
              "\n",
              "                                               model           verified  \\\n",
              "0  Digital Storage Capacity: 32 GBOffer Type: Wit...  Verified Purchase   \n",
              "1  Digital Storage Capacity: 32 GBOffer Type: Wit...  Verified Purchase   \n",
              "2  Digital Storage Capacity: 32 GBOffer Type: Wit...  Verified Purchase   \n",
              "\n",
              "             date         region  \\\n",
              "0   April 6, 2024  United States   \n",
              "1  April 11, 2024  United States   \n",
              "2  April 18, 2024  United States   \n",
              "\n",
              "                                                text  stars          id  \\\n",
              "0  Este é o meu terceiro tablet Fire 10. Eles têm...    3.0  B0BHZT5S12   \n",
              "1  Eu escolhi este como um tablet barato focado e...    3.0  B0BHZT5S12   \n",
              "2  Eu tenho produtos Samsung Galaxy há anos, mas ...    3.0  B0BHZT5S12   \n",
              "\n",
              "     origem                                          sentences  \\\n",
              "0  negative  [Este é o meu terceiro tablet Fire 10., Eles t...   \n",
              "1  negative  [Eu escolhi este como um tablet barato focado ...   \n",
              "2  negative  [Eu tenho produtos Samsung Galaxy há anos, mas...   \n",
              "\n",
              "                                            token_pt  \\\n",
              "0  [Este é o meu terceiro tablet Fire 10., Eles t...   \n",
              "1  [Eu escolhi este como um tablet barato focado ...   \n",
              "2  [Eu tenho produtos Samsung Galaxy há anos, mas...   \n",
              "\n",
              "                                sentences_sentiments  \\\n",
              "0  [0.0, 0.2, 0.0, 0.0, 0.0, 0.0, 0.0, 0.0, 0.0, ...   \n",
              "1  [0.0, 0.0, 0.0, 0.0, 0.0, 0.0, 0.0, 0.0, 0.0, ...   \n",
              "2  [0.0, 0.0, 0.2, 0.0, 0.0, 0.0, 0.0, 0.0, 0.0, ...   \n",
              "\n",
              "                                  positive_sentences negative_sentences  \n",
              "0  [Eles têm um problema real de sustentabilidade...                 []  \n",
              "1                                                 []                 []  \n",
              "2  [Definitivamente não é Android, mas é legal., ...                 []  "
            ]
          },
          "execution_count": 98,
          "metadata": {},
          "output_type": "execute_result"
        }
      ],
      "source": [
        "df_port.head(3)"
      ]
    },
    {
      "cell_type": "code",
      "execution_count": 99,
      "metadata": {
        "id": "B3L5GvzttieB"
      },
      "outputs": [],
      "source": [
        "df_port = df_port.dropna()"
      ]
    },
    {
      "cell_type": "code",
      "execution_count": 100,
      "metadata": {
        "id": "h1ZNc7_nsiq1"
      },
      "outputs": [],
      "source": [
        "texts = [text for text in df_port['text']] # putting reviews in a list\n",
        "\n",
        "emotions = []\n",
        "\n",
        "for text in texts:  # Here we give the song the average emotion in it\n",
        "\n",
        "    e = NRCLex(text)\n",
        "    if e.affect_list:  # Verifica se a lista não está vazia\n",
        "        mode = max(e.affect_list, key=Counter(e.affect_list).get)\n",
        "        emotions.append(mode)\n",
        "    else:\n",
        "        ind = df_port.loc[df_port['text'] == text].index\n",
        "        df_port = df_port.drop(ind) # remove songs wich do not contain valid lyrics\n",
        "\n",
        "df_port['Emotion'] = emotions"
      ]
    },
    {
      "cell_type": "code",
      "execution_count": 102,
      "metadata": {
        "colab": {
          "base_uri": "https://localhost:8080/",
          "height": 1000
        },
        "id": "6GcY7jI1tvv4",
        "outputId": "a729ec28-1a3d-47d9-f76e-8904849ec3b2"
      },
      "outputs": [
        {
          "data": {
            "text/html": [
              "<div>\n",
              "<style scoped>\n",
              "    .dataframe tbody tr th:only-of-type {\n",
              "        vertical-align: middle;\n",
              "    }\n",
              "\n",
              "    .dataframe tbody tr th {\n",
              "        vertical-align: top;\n",
              "    }\n",
              "\n",
              "    .dataframe thead th {\n",
              "        text-align: right;\n",
              "    }\n",
              "</style>\n",
              "<table border=\"1\" class=\"dataframe\">\n",
              "  <thead>\n",
              "    <tr style=\"text-align: right;\">\n",
              "      <th></th>\n",
              "      <th>title</th>\n",
              "      <th>text</th>\n",
              "      <th>sentences</th>\n",
              "      <th>token_pt</th>\n",
              "      <th>sentences_sentiments</th>\n",
              "      <th>positive_sentences</th>\n",
              "      <th>negative_sentences</th>\n",
              "      <th>Emotion</th>\n",
              "    </tr>\n",
              "  </thead>\n",
              "  <tbody>\n",
              "    <tr>\n",
              "      <th>0</th>\n",
              "      <td>A bateria não dura muito e esqueça de usar o c...</td>\n",
              "      <td>Este é o meu terceiro tablet Fire 10. Eles têm...</td>\n",
              "      <td>[Este é o meu terceiro tablet Fire 10., Eles t...</td>\n",
              "      <td>[Este é o meu terceiro tablet Fire 10., Eles t...</td>\n",
              "      <td>[0.0, 0.2, 0.0, 0.0, 0.0, 0.0, 0.0, 0.0, 0.0, ...</td>\n",
              "      <td>[Eles têm um problema real de sustentabilidade...</td>\n",
              "      <td>[]</td>\n",
              "      <td>positive</td>\n",
              "    </tr>\n",
              "    <tr>\n",
              "      <th>1</th>\n",
              "      <td>Perspectiva do leitor de quadrinhos</td>\n",
              "      <td>Eu escolhi este como um tablet barato focado e...</td>\n",
              "      <td>[Eu escolhi este como um tablet barato focado ...</td>\n",
              "      <td>[Eu escolhi este como um tablet barato focado ...</td>\n",
              "      <td>[0.0, 0.0, 0.0, 0.0, 0.0, 0.0, 0.0, 0.0, 0.0, ...</td>\n",
              "      <td>[]</td>\n",
              "      <td>[]</td>\n",
              "      <td>negative</td>\n",
              "    </tr>\n",
              "    <tr>\n",
              "      <th>2</th>\n",
              "      <td>É como um brinquedo legal...</td>\n",
              "      <td>Eu tenho produtos Samsung Galaxy há anos, mas ...</td>\n",
              "      <td>[Eu tenho produtos Samsung Galaxy há anos, mas...</td>\n",
              "      <td>[Eu tenho produtos Samsung Galaxy há anos, mas...</td>\n",
              "      <td>[0.0, 0.0, 0.2, 0.0, 0.0, 0.0, 0.0, 0.0, 0.0, ...</td>\n",
              "      <td>[Definitivamente não é Android, mas é legal., ...</td>\n",
              "      <td>[]</td>\n",
              "      <td>positive</td>\n",
              "    </tr>\n",
              "  </tbody>\n",
              "</table>\n",
              "</div>"
            ],
            "text/plain": [
              "                                               title  \\\n",
              "0  A bateria não dura muito e esqueça de usar o c...   \n",
              "1                Perspectiva do leitor de quadrinhos   \n",
              "2                       É como um brinquedo legal...   \n",
              "\n",
              "                                                text  \\\n",
              "0  Este é o meu terceiro tablet Fire 10. Eles têm...   \n",
              "1  Eu escolhi este como um tablet barato focado e...   \n",
              "2  Eu tenho produtos Samsung Galaxy há anos, mas ...   \n",
              "\n",
              "                                           sentences  \\\n",
              "0  [Este é o meu terceiro tablet Fire 10., Eles t...   \n",
              "1  [Eu escolhi este como um tablet barato focado ...   \n",
              "2  [Eu tenho produtos Samsung Galaxy há anos, mas...   \n",
              "\n",
              "                                            token_pt  \\\n",
              "0  [Este é o meu terceiro tablet Fire 10., Eles t...   \n",
              "1  [Eu escolhi este como um tablet barato focado ...   \n",
              "2  [Eu tenho produtos Samsung Galaxy há anos, mas...   \n",
              "\n",
              "                                sentences_sentiments  \\\n",
              "0  [0.0, 0.2, 0.0, 0.0, 0.0, 0.0, 0.0, 0.0, 0.0, ...   \n",
              "1  [0.0, 0.0, 0.0, 0.0, 0.0, 0.0, 0.0, 0.0, 0.0, ...   \n",
              "2  [0.0, 0.0, 0.2, 0.0, 0.0, 0.0, 0.0, 0.0, 0.0, ...   \n",
              "\n",
              "                                  positive_sentences negative_sentences  \\\n",
              "0  [Eles têm um problema real de sustentabilidade...                 []   \n",
              "1                                                 []                 []   \n",
              "2  [Definitivamente não é Android, mas é legal., ...                 []   \n",
              "\n",
              "    Emotion  \n",
              "0  positive  \n",
              "1  negative  \n",
              "2  positive  "
            ]
          },
          "execution_count": 102,
          "metadata": {},
          "output_type": "execute_result"
        }
      ],
      "source": [
        "df_port[['title', 'text', 'sentences', 'token_pt', 'sentences_sentiments', 'positive_sentences', 'negative_sentences', 'Emotion']].head(3)"
      ]
    },
    {
      "cell_type": "code",
      "execution_count": 103,
      "metadata": {},
      "outputs": [
        {
          "data": {
            "text/plain": [
              "Emotion\n",
              "positive    29\n",
              "negative     7\n",
              "fear         5\n",
              "anger        5\n",
              "trust        4\n",
              "Name: count, dtype: int64"
            ]
          },
          "execution_count": 103,
          "metadata": {},
          "output_type": "execute_result"
        }
      ],
      "source": [
        "mean_emotionPor = df_port['Emotion'].value_counts()\n",
        "\n",
        "mean_emotionPor"
      ]
    },
    {
      "cell_type": "markdown",
      "metadata": {},
      "source": [
        "### Repeating the process for the english version"
      ]
    },
    {
      "cell_type": "code",
      "execution_count": 104,
      "metadata": {},
      "outputs": [],
      "source": [
        "df_eng = df_eng.dropna()"
      ]
    },
    {
      "cell_type": "code",
      "execution_count": 105,
      "metadata": {},
      "outputs": [],
      "source": [
        "texts = [text for text in df_eng['text']] # putting reviews in a list\n",
        "\n",
        "emotions = []\n",
        "\n",
        "for text in texts:  # Here we give the song the average emotion in it\n",
        "\n",
        "    e = NRCLex(text)\n",
        "    if e.affect_list:  # Verifica se a lista não está vazia\n",
        "        mode = max(e.affect_list, key=Counter(e.affect_list).get)\n",
        "        emotions.append(mode)\n",
        "    else:\n",
        "        ind = df_eng.loc[df_eng['text'] == text].index\n",
        "        df_eng = df_eng.drop(ind) # remove songs wich do not contain valid lyrics\n",
        "\n",
        "df_eng['Emotion'] = emotions"
      ]
    },
    {
      "cell_type": "code",
      "execution_count": 106,
      "metadata": {},
      "outputs": [
        {
          "data": {
            "text/plain": [
              "Emotion\n",
              "positive        101\n",
              "anticipation     30\n",
              "negative         20\n",
              "trust            12\n",
              "fear              8\n",
              "joy               7\n",
              "sadness           6\n",
              "anger             4\n",
              "Name: count, dtype: int64"
            ]
          },
          "execution_count": 106,
          "metadata": {},
          "output_type": "execute_result"
        }
      ],
      "source": [
        "mean_emotionEng = df_eng['Emotion'].value_counts()\n",
        "mean_emotionEng"
      ]
    },
    {
      "cell_type": "markdown",
      "metadata": {},
      "source": [
        "- By that we notice that in portuguese he had difficulties classifying the fellings, again because english is most used in libs "
      ]
    },
    {
      "cell_type": "markdown",
      "metadata": {},
      "source": [
        "### Results"
      ]
    },
    {
      "cell_type": "code",
      "execution_count": 107,
      "metadata": {},
      "outputs": [
        {
          "data": {
            "text/html": [
              "<div>\n",
              "<style scoped>\n",
              "    .dataframe tbody tr th:only-of-type {\n",
              "        vertical-align: middle;\n",
              "    }\n",
              "\n",
              "    .dataframe tbody tr th {\n",
              "        vertical-align: top;\n",
              "    }\n",
              "\n",
              "    .dataframe thead th {\n",
              "        text-align: right;\n",
              "    }\n",
              "</style>\n",
              "<table border=\"1\" class=\"dataframe\">\n",
              "  <thead>\n",
              "    <tr style=\"text-align: right;\">\n",
              "      <th></th>\n",
              "      <th>Id</th>\n",
              "      <th>roberta_neg</th>\n",
              "      <th>roberta_neu</th>\n",
              "      <th>roberta_pos</th>\n",
              "      <th>username</th>\n",
              "      <th>title</th>\n",
              "      <th>model</th>\n",
              "      <th>verified</th>\n",
              "      <th>date</th>\n",
              "      <th>region</th>\n",
              "      <th>text</th>\n",
              "      <th>stars</th>\n",
              "      <th>product_id</th>\n",
              "      <th>origem</th>\n",
              "    </tr>\n",
              "  </thead>\n",
              "  <tbody>\n",
              "    <tr>\n",
              "      <th>0</th>\n",
              "      <td>0</td>\n",
              "      <td>0.922657</td>\n",
              "      <td>0.068516</td>\n",
              "      <td>0.008828</td>\n",
              "      <td>KevinT</td>\n",
              "      <td>Not enough apps</td>\n",
              "      <td>Digital Storage Capacity: 32 GBOffer Type: Wit...</td>\n",
              "      <td>Verified Purchase</td>\n",
              "      <td>April 11, 2024</td>\n",
              "      <td>United States</td>\n",
              "      <td>\\nNot enough apps, my daughter hates it but I ...</td>\n",
              "      <td>3.0</td>\n",
              "      <td>B0BHZT5S12</td>\n",
              "      <td>negative</td>\n",
              "    </tr>\n",
              "    <tr>\n",
              "      <th>1</th>\n",
              "      <td>1</td>\n",
              "      <td>0.477187</td>\n",
              "      <td>0.392493</td>\n",
              "      <td>0.130321</td>\n",
              "      <td>SRK</td>\n",
              "      <td>Okay for its price</td>\n",
              "      <td>Digital Storage Capacity: 32 GBOffer Type: Wit...</td>\n",
              "      <td>Verified Purchase</td>\n",
              "      <td>December 29, 2023</td>\n",
              "      <td>United States</td>\n",
              "      <td>\\nPros -1. Lower price compared to iPad.2. Has...</td>\n",
              "      <td>3.0</td>\n",
              "      <td>B0BHZT5S12</td>\n",
              "      <td>negative</td>\n",
              "    </tr>\n",
              "    <tr>\n",
              "      <th>2</th>\n",
              "      <td>3</td>\n",
              "      <td>0.015919</td>\n",
              "      <td>0.130102</td>\n",
              "      <td>0.853979</td>\n",
              "      <td>C C</td>\n",
              "      <td>I love my Kindel</td>\n",
              "      <td>Digital Storage Capacity: 32 GBOffer Type: Wit...</td>\n",
              "      <td>Verified Purchase</td>\n",
              "      <td>May 2, 2024</td>\n",
              "      <td>United States</td>\n",
              "      <td>\\nIs only one thing it is not blue tooth I lik...</td>\n",
              "      <td>3.0</td>\n",
              "      <td>B0BHZT5S12</td>\n",
              "      <td>negative</td>\n",
              "    </tr>\n",
              "  </tbody>\n",
              "</table>\n",
              "</div>"
            ],
            "text/plain": [
              "   Id  roberta_neg  roberta_neu  roberta_pos username               title  \\\n",
              "0   0     0.922657     0.068516     0.008828   KevinT     Not enough apps   \n",
              "1   1     0.477187     0.392493     0.130321      SRK  Okay for its price   \n",
              "2   3     0.015919     0.130102     0.853979      C C    I love my Kindel   \n",
              "\n",
              "                                               model           verified  \\\n",
              "0  Digital Storage Capacity: 32 GBOffer Type: Wit...  Verified Purchase   \n",
              "1  Digital Storage Capacity: 32 GBOffer Type: Wit...  Verified Purchase   \n",
              "2  Digital Storage Capacity: 32 GBOffer Type: Wit...  Verified Purchase   \n",
              "\n",
              "                date         region  \\\n",
              "0     April 11, 2024  United States   \n",
              "1  December 29, 2023  United States   \n",
              "2        May 2, 2024  United States   \n",
              "\n",
              "                                                text  stars  product_id  \\\n",
              "0  \\nNot enough apps, my daughter hates it but I ...    3.0  B0BHZT5S12   \n",
              "1  \\nPros -1. Lower price compared to iPad.2. Has...    3.0  B0BHZT5S12   \n",
              "2  \\nIs only one thing it is not blue tooth I lik...    3.0  B0BHZT5S12   \n",
              "\n",
              "     origem  \n",
              "0  negative  \n",
              "1  negative  \n",
              "2  negative  "
            ]
          },
          "execution_count": 107,
          "metadata": {},
          "output_type": "execute_result"
        }
      ],
      "source": [
        "results_df.head(3)"
      ]
    },
    {
      "cell_type": "code",
      "execution_count": 108,
      "metadata": {},
      "outputs": [
        {
          "name": "stdout",
          "output_type": "stream",
          "text": [
            "\n",
            "i had a 10\" fire tablet since ~2015. it's battery finally got difficult to charge, and i don't see how to change the battery, so i bought a new one. set up was easy, the screen is the same, i was happy until i realized that it will not play videos. the thing will buffer for i don't know how long (have not pushed it past 10 min....). restarting helps but not for long. it's awful to have to restart every 15 min or so when on social media or youtube. i may have to send this thing back.update: a support person called then emailed. which was nice. sadly every email is answered by a different person. tho that may not have made much difference. the first couple of helpers started with the 'do a restart' or 'go read this forum' like i'd been doing. sigh. one person finally suggested that i uninstall and re-install my tablet on my network to address the buffering. weird but i did it and had nearly 3 days of no buffering!! within 2.5 hrs of me emailing the support person my good news, the damn thing started buffering again. re-starts still correct the issue and i can go a day or so before having to restart. but today i have restarted the tablet 3X. i recently got a Fire HD10 plus tablet that has not given me a moments trouble so far (this device is on the exact same networks that the troublesome one is on). it's now too late to send this tablet back, and i would prefer it be replaced with the HD10 plus which i doubt will happen, so i'll keep it as a spare because it's fine except for the effing video playback.\n",
            "\n",
            "0.19062878\n"
          ]
        }
      ],
      "source": [
        "print(results_df.query('stars == 2') \\\n",
        "    .sort_values('roberta_pos', ascending=False)['text'].values[0])\n",
        "\n",
        "print(results_df.query('stars == 2') \\\n",
        "    .sort_values('roberta_pos', ascending=False)['roberta_pos'].values[0])"
      ]
    },
    {
      "cell_type": "code",
      "execution_count": 109,
      "metadata": {},
      "outputs": [
        {
          "name": "stdout",
          "output_type": "stream",
          "text": [
            "\n",
            "It worked for one day than the wifi failed return for replacement\n",
            "\n",
            "0.6069442\n"
          ]
        }
      ],
      "source": [
        "print(results_df.query('stars == 3') \\\n",
        "    .sort_values('roberta_neu', ascending=False)['text'].values[1])\n",
        "\n",
        "print(results_df.query('stars == 3') \\\n",
        "    .sort_values('roberta_neu', ascending=False)['roberta_neu'].values[1])"
      ]
    },
    {
      "cell_type": "code",
      "execution_count": 110,
      "metadata": {},
      "outputs": [
        {
          "name": "stdout",
          "output_type": "stream",
          "text": [
            "\n",
            "I loved this Kindle.  But after a few weeks it started glitching.  I would open a book to read it, and within a few seconds the book would disappear, the screen would go dark, and then a message would flash so fast that it was difficult for me to read.  After repeating this process dozens of times so that I could finally read the message, I was found that the Kindle was informing me that my (actually none of my books) were in my list.  The first time this happened, I reset the Kindle to factory defaults, and then re-downloaded my books.  But a week later the same thing happened again.  I figured I just go bad luck, so I wanted to \"replace\" the Kindle with an identical one.  But Amazon wouldn't let me do that.  I had to return it and get my money back.  I really don't have complaints about the Kindle; every once in a while you will get a product that doesn't work.  My complaint is with Amazon customer service -- all menu driven, didn't get to talk to a live person, the menu options weren't sufficient for what I wanted.  I would have been happy to just swap the defective Kindle for another one, but instead I got my money back.  No problem getting my money back.  But now I wonder why Amazon made it impossible for me to \"replace\" the Kindle.  Not happy with the customer service experience.\n",
            "\n",
            "0.80156994\n"
          ]
        }
      ],
      "source": [
        "print(results_df.query('stars == 5') \\\n",
        "    .sort_values('roberta_neg', ascending=False)['text'].values[0])\n",
        "\n",
        "print(results_df.query('stars == 5') \\\n",
        "    .sort_values('roberta_neg', ascending=False)['roberta_neg'].values[0])"
      ]
    },
    {
      "cell_type": "code",
      "execution_count": 113,
      "metadata": {},
      "outputs": [
        {
          "data": {
            "text/html": [
              "<div>\n",
              "<style scoped>\n",
              "    .dataframe tbody tr th:only-of-type {\n",
              "        vertical-align: middle;\n",
              "    }\n",
              "\n",
              "    .dataframe tbody tr th {\n",
              "        vertical-align: top;\n",
              "    }\n",
              "\n",
              "    .dataframe thead th {\n",
              "        text-align: right;\n",
              "    }\n",
              "</style>\n",
              "<table border=\"1\" class=\"dataframe\">\n",
              "  <thead>\n",
              "    <tr style=\"text-align: right;\">\n",
              "      <th></th>\n",
              "      <th>username</th>\n",
              "      <th>title</th>\n",
              "      <th>text</th>\n",
              "      <th>stars</th>\n",
              "      <th>id</th>\n",
              "      <th>Emotion</th>\n",
              "    </tr>\n",
              "  </thead>\n",
              "  <tbody>\n",
              "    <tr>\n",
              "      <th>0</th>\n",
              "      <td>columbia93</td>\n",
              "      <td>Battery doesn't last very long &amp; forget about ...</td>\n",
              "      <td>\\nThis is my 3rd Fire 10 Tablet. They have a r...</td>\n",
              "      <td>3.0</td>\n",
              "      <td>B0BHZT5S12</td>\n",
              "      <td>positive</td>\n",
              "    </tr>\n",
              "    <tr>\n",
              "      <th>1</th>\n",
              "      <td>Deirdre</td>\n",
              "      <td>Comic Reader Perspective</td>\n",
              "      <td>\\nI picked this up as an inexpensive Comixolog...</td>\n",
              "      <td>3.0</td>\n",
              "      <td>B0BHZT5S12</td>\n",
              "      <td>positive</td>\n",
              "    </tr>\n",
              "    <tr>\n",
              "      <th>2</th>\n",
              "      <td>Paris</td>\n",
              "      <td>It's like a cool toy...</td>\n",
              "      <td>\\nI have had Samsung Galaxy products for years...</td>\n",
              "      <td>3.0</td>\n",
              "      <td>B0BHZT5S12</td>\n",
              "      <td>positive</td>\n",
              "    </tr>\n",
              "  </tbody>\n",
              "</table>\n",
              "</div>"
            ],
            "text/plain": [
              "     username                                              title  \\\n",
              "0  columbia93  Battery doesn't last very long & forget about ...   \n",
              "1     Deirdre                           Comic Reader Perspective   \n",
              "2       Paris                            It's like a cool toy...   \n",
              "\n",
              "                                                text  stars          id  \\\n",
              "0  \\nThis is my 3rd Fire 10 Tablet. They have a r...    3.0  B0BHZT5S12   \n",
              "1  \\nI picked this up as an inexpensive Comixolog...    3.0  B0BHZT5S12   \n",
              "2  \\nI have had Samsung Galaxy products for years...    3.0  B0BHZT5S12   \n",
              "\n",
              "    Emotion  \n",
              "0  positive  \n",
              "1  positive  \n",
              "2  positive  "
            ]
          },
          "execution_count": 113,
          "metadata": {},
          "output_type": "execute_result"
        }
      ],
      "source": [
        "df_eng_view = df_eng.drop(columns=['origem', 'verified', 'date', 'region', 'model'])\n",
        "\n",
        "df_eng_view.head(3)"
      ]
    },
    {
      "cell_type": "markdown",
      "metadata": {
        "id": "697fdkesYFcU"
      },
      "source": [
        "## Fontes/Ideias"
      ]
    },
    {
      "cell_type": "markdown",
      "metadata": {
        "id": "sEJzPQ5VYLzN"
      },
      "source": [
        "Análise de sentimentos em português utilizando Pytorch e Python\n",
        "\n",
        "* [Parte 1](https://medium.com/data-hackers/an%C3%A1lise-de-sentimentos-em-portugu%C3%AAs-utilizando-pytorch-e-python-91a232165ec0)\n",
        "\n",
        "* [Parte 2](https://medium.com/data-hackers/deploy-de-um-modelo-de-an%C3%A1lise-de-sentimentos-como-uma-rest-api-878c175ad24f)\n",
        "\n",
        "---\n",
        "\n",
        "[Construindo um analisador de sentimentos em python](https://acadianschool.com.br/construindo-um-analisador-de-sentimentos-em-python/)\n",
        "\n",
        "---\n",
        "\n",
        "[AIpp](https://github.com/TailUFPB/AIpp/tree/main)\n",
        "\n",
        "---\n",
        "\n",
        "[tradutor de texto em python](https://www.hashtagtreinamentos.com/tradutor-de-texto-em-python#:~:text=Utilizaremos%20a%20biblioteca%20Deep%2Dtranslator,podemos%20fazer%20no%20pr%C3%B3prio%20site.)\n",
        "\n",
        "---\n",
        "\n",
        "[swiftclassifier](https://github.com/biabcaval/swiftclassifier/tree/main)"
      ]
    },
    {
      "cell_type": "code",
      "execution_count": null,
      "metadata": {
        "id": "i8oNHmEUbgv2"
      },
      "outputs": [],
      "source": [
        "# tentar pegar apenas adjetivos para retornar palavras mais utilizadas\n",
        "# retornar a média das reviews\n",
        "# criar interação com usuário"
      ]
    }
  ],
  "metadata": {
    "colab": {
      "authorship_tag": "ABX9TyNwMrlLqJXFK6IzkcjX5TnO",
      "include_colab_link": true,
      "mount_file_id": "13Mx860lacoOLAI1qVzfLt9hs7S5LOkHE",
      "provenance": []
    },
    "kernelspec": {
      "display_name": "Python 3",
      "name": "python3"
    },
    "language_info": {
      "codemirror_mode": {
        "name": "ipython",
        "version": 3
      },
      "file_extension": ".py",
      "mimetype": "text/x-python",
      "name": "python",
      "nbconvert_exporter": "python",
      "pygments_lexer": "ipython3",
      "version": "3.10.12"
    },
    "widgets": {
      "application/vnd.jupyter.widget-state+json": {
        "0cb21615832d499998ef672e34684c61": {
          "model_module": "@jupyter-widgets/base",
          "model_module_version": "1.2.0",
          "model_name": "LayoutModel",
          "state": {
            "_model_module": "@jupyter-widgets/base",
            "_model_module_version": "1.2.0",
            "_model_name": "LayoutModel",
            "_view_count": null,
            "_view_module": "@jupyter-widgets/base",
            "_view_module_version": "1.2.0",
            "_view_name": "LayoutView",
            "align_content": null,
            "align_items": null,
            "align_self": null,
            "border": null,
            "bottom": null,
            "display": null,
            "flex": null,
            "flex_flow": null,
            "grid_area": null,
            "grid_auto_columns": null,
            "grid_auto_flow": null,
            "grid_auto_rows": null,
            "grid_column": null,
            "grid_gap": null,
            "grid_row": null,
            "grid_template_areas": null,
            "grid_template_columns": null,
            "grid_template_rows": null,
            "height": null,
            "justify_content": null,
            "justify_items": null,
            "left": null,
            "margin": null,
            "max_height": null,
            "max_width": null,
            "min_height": null,
            "min_width": null,
            "object_fit": null,
            "object_position": null,
            "order": null,
            "overflow": null,
            "overflow_x": null,
            "overflow_y": null,
            "padding": null,
            "right": null,
            "top": null,
            "visibility": null,
            "width": null
          }
        },
        "12487cf50ec0466e887802bab5dd8301": {
          "model_module": "@jupyter-widgets/controls",
          "model_module_version": "1.5.0",
          "model_name": "HTMLModel",
          "state": {
            "_dom_classes": [],
            "_model_module": "@jupyter-widgets/controls",
            "_model_module_version": "1.5.0",
            "_model_name": "HTMLModel",
            "_view_count": null,
            "_view_module": "@jupyter-widgets/controls",
            "_view_module_version": "1.5.0",
            "_view_name": "HTMLView",
            "description": "",
            "description_tooltip": null,
            "layout": "IPY_MODEL_1641140b12814d9cba897c3cf69f55a5",
            "placeholder": "​",
            "style": "IPY_MODEL_3942193740244d19975a537d723c4248",
            "value": " 37/37 [00:08&lt;00:00,  8.20it/s]"
          }
        },
        "1641140b12814d9cba897c3cf69f55a5": {
          "model_module": "@jupyter-widgets/base",
          "model_module_version": "1.2.0",
          "model_name": "LayoutModel",
          "state": {
            "_model_module": "@jupyter-widgets/base",
            "_model_module_version": "1.2.0",
            "_model_name": "LayoutModel",
            "_view_count": null,
            "_view_module": "@jupyter-widgets/base",
            "_view_module_version": "1.2.0",
            "_view_name": "LayoutView",
            "align_content": null,
            "align_items": null,
            "align_self": null,
            "border": null,
            "bottom": null,
            "display": null,
            "flex": null,
            "flex_flow": null,
            "grid_area": null,
            "grid_auto_columns": null,
            "grid_auto_flow": null,
            "grid_auto_rows": null,
            "grid_column": null,
            "grid_gap": null,
            "grid_row": null,
            "grid_template_areas": null,
            "grid_template_columns": null,
            "grid_template_rows": null,
            "height": null,
            "justify_content": null,
            "justify_items": null,
            "left": null,
            "margin": null,
            "max_height": null,
            "max_width": null,
            "min_height": null,
            "min_width": null,
            "object_fit": null,
            "object_position": null,
            "order": null,
            "overflow": null,
            "overflow_x": null,
            "overflow_y": null,
            "padding": null,
            "right": null,
            "top": null,
            "visibility": null,
            "width": null
          }
        },
        "1c37630d57ab4b70a85384da24ed3e53": {
          "model_module": "@jupyter-widgets/controls",
          "model_module_version": "1.5.0",
          "model_name": "ProgressStyleModel",
          "state": {
            "_model_module": "@jupyter-widgets/controls",
            "_model_module_version": "1.5.0",
            "_model_name": "ProgressStyleModel",
            "_view_count": null,
            "_view_module": "@jupyter-widgets/base",
            "_view_module_version": "1.2.0",
            "_view_name": "StyleView",
            "bar_color": null,
            "description_width": ""
          }
        },
        "1d66089700914eec947146becfee2e18": {
          "model_module": "@jupyter-widgets/controls",
          "model_module_version": "1.5.0",
          "model_name": "DescriptionStyleModel",
          "state": {
            "_model_module": "@jupyter-widgets/controls",
            "_model_module_version": "1.5.0",
            "_model_name": "DescriptionStyleModel",
            "_view_count": null,
            "_view_module": "@jupyter-widgets/base",
            "_view_module_version": "1.2.0",
            "_view_name": "StyleView",
            "description_width": ""
          }
        },
        "1dc82bb6aeef43af9edfd2256ead5bd6": {
          "model_module": "@jupyter-widgets/base",
          "model_module_version": "1.2.0",
          "model_name": "LayoutModel",
          "state": {
            "_model_module": "@jupyter-widgets/base",
            "_model_module_version": "1.2.0",
            "_model_name": "LayoutModel",
            "_view_count": null,
            "_view_module": "@jupyter-widgets/base",
            "_view_module_version": "1.2.0",
            "_view_name": "LayoutView",
            "align_content": null,
            "align_items": null,
            "align_self": null,
            "border": null,
            "bottom": null,
            "display": null,
            "flex": null,
            "flex_flow": null,
            "grid_area": null,
            "grid_auto_columns": null,
            "grid_auto_flow": null,
            "grid_auto_rows": null,
            "grid_column": null,
            "grid_gap": null,
            "grid_row": null,
            "grid_template_areas": null,
            "grid_template_columns": null,
            "grid_template_rows": null,
            "height": null,
            "justify_content": null,
            "justify_items": null,
            "left": null,
            "margin": null,
            "max_height": null,
            "max_width": null,
            "min_height": null,
            "min_width": null,
            "object_fit": null,
            "object_position": null,
            "order": null,
            "overflow": null,
            "overflow_x": null,
            "overflow_y": null,
            "padding": null,
            "right": null,
            "top": null,
            "visibility": null,
            "width": null
          }
        },
        "1e80ade7694d43a48d6202045cbc0b09": {
          "model_module": "@jupyter-widgets/base",
          "model_module_version": "1.2.0",
          "model_name": "LayoutModel",
          "state": {
            "_model_module": "@jupyter-widgets/base",
            "_model_module_version": "1.2.0",
            "_model_name": "LayoutModel",
            "_view_count": null,
            "_view_module": "@jupyter-widgets/base",
            "_view_module_version": "1.2.0",
            "_view_name": "LayoutView",
            "align_content": null,
            "align_items": null,
            "align_self": null,
            "border": null,
            "bottom": null,
            "display": null,
            "flex": null,
            "flex_flow": null,
            "grid_area": null,
            "grid_auto_columns": null,
            "grid_auto_flow": null,
            "grid_auto_rows": null,
            "grid_column": null,
            "grid_gap": null,
            "grid_row": null,
            "grid_template_areas": null,
            "grid_template_columns": null,
            "grid_template_rows": null,
            "height": null,
            "justify_content": null,
            "justify_items": null,
            "left": null,
            "margin": null,
            "max_height": null,
            "max_width": null,
            "min_height": null,
            "min_width": null,
            "object_fit": null,
            "object_position": null,
            "order": null,
            "overflow": null,
            "overflow_x": null,
            "overflow_y": null,
            "padding": null,
            "right": null,
            "top": null,
            "visibility": null,
            "width": null
          }
        },
        "1ff58a4b0131445499a2891c8f34e731": {
          "model_module": "@jupyter-widgets/controls",
          "model_module_version": "1.5.0",
          "model_name": "DescriptionStyleModel",
          "state": {
            "_model_module": "@jupyter-widgets/controls",
            "_model_module_version": "1.5.0",
            "_model_name": "DescriptionStyleModel",
            "_view_count": null,
            "_view_module": "@jupyter-widgets/base",
            "_view_module_version": "1.2.0",
            "_view_name": "StyleView",
            "description_width": ""
          }
        },
        "260e5b47de954ca9a19bdb3eaf085596": {
          "model_module": "@jupyter-widgets/controls",
          "model_module_version": "1.5.0",
          "model_name": "DescriptionStyleModel",
          "state": {
            "_model_module": "@jupyter-widgets/controls",
            "_model_module_version": "1.5.0",
            "_model_name": "DescriptionStyleModel",
            "_view_count": null,
            "_view_module": "@jupyter-widgets/base",
            "_view_module_version": "1.2.0",
            "_view_name": "StyleView",
            "description_width": ""
          }
        },
        "357f3a64ec2b43aeb506ffe57ccd58f6": {
          "model_module": "@jupyter-widgets/controls",
          "model_module_version": "1.5.0",
          "model_name": "DescriptionStyleModel",
          "state": {
            "_model_module": "@jupyter-widgets/controls",
            "_model_module_version": "1.5.0",
            "_model_name": "DescriptionStyleModel",
            "_view_count": null,
            "_view_module": "@jupyter-widgets/base",
            "_view_module_version": "1.2.0",
            "_view_name": "StyleView",
            "description_width": ""
          }
        },
        "3942193740244d19975a537d723c4248": {
          "model_module": "@jupyter-widgets/controls",
          "model_module_version": "1.5.0",
          "model_name": "DescriptionStyleModel",
          "state": {
            "_model_module": "@jupyter-widgets/controls",
            "_model_module_version": "1.5.0",
            "_model_name": "DescriptionStyleModel",
            "_view_count": null,
            "_view_module": "@jupyter-widgets/base",
            "_view_module_version": "1.2.0",
            "_view_name": "StyleView",
            "description_width": ""
          }
        },
        "3d7db17cd0e84dd3bd0c0630a0556fb1": {
          "model_module": "@jupyter-widgets/controls",
          "model_module_version": "1.5.0",
          "model_name": "HBoxModel",
          "state": {
            "_dom_classes": [],
            "_model_module": "@jupyter-widgets/controls",
            "_model_module_version": "1.5.0",
            "_model_name": "HBoxModel",
            "_view_count": null,
            "_view_module": "@jupyter-widgets/controls",
            "_view_module_version": "1.5.0",
            "_view_name": "HBoxView",
            "box_style": "",
            "children": [
              "IPY_MODEL_643821b84cc14c4d8e6fcf7cd05d998c",
              "IPY_MODEL_6e66a32e0ba443b1a5aa52ea9afa1352",
              "IPY_MODEL_b4e7012b731b46b0b9aa976eb38291cb"
            ],
            "layout": "IPY_MODEL_d1ebb234f3fa4c56b019f9d5ee45dc08"
          }
        },
        "50a8179660704b03b8146a511d4d6561": {
          "model_module": "@jupyter-widgets/controls",
          "model_module_version": "1.5.0",
          "model_name": "FloatProgressModel",
          "state": {
            "_dom_classes": [],
            "_model_module": "@jupyter-widgets/controls",
            "_model_module_version": "1.5.0",
            "_model_name": "FloatProgressModel",
            "_view_count": null,
            "_view_module": "@jupyter-widgets/controls",
            "_view_module_version": "1.5.0",
            "_view_name": "ProgressView",
            "bar_style": "success",
            "description": "",
            "description_tooltip": null,
            "layout": "IPY_MODEL_fc98c84ef1b846f89301c67447ff2ea9",
            "max": 48,
            "min": 0,
            "orientation": "horizontal",
            "style": "IPY_MODEL_ea0bb6c12df8410a8b2a137223a15d35",
            "value": 48
          }
        },
        "5787b06a422e4002999511ddd5fb8206": {
          "model_module": "@jupyter-widgets/controls",
          "model_module_version": "1.5.0",
          "model_name": "FloatProgressModel",
          "state": {
            "_dom_classes": [],
            "_model_module": "@jupyter-widgets/controls",
            "_model_module_version": "1.5.0",
            "_model_name": "FloatProgressModel",
            "_view_count": null,
            "_view_module": "@jupyter-widgets/controls",
            "_view_module_version": "1.5.0",
            "_view_name": "ProgressView",
            "bar_style": "success",
            "description": "",
            "description_tooltip": null,
            "layout": "IPY_MODEL_dfb8188cfdc94943ba11152a4a2379a4",
            "max": 37,
            "min": 0,
            "orientation": "horizontal",
            "style": "IPY_MODEL_e2af2bf0c2f4448b9e892a0155c64a74",
            "value": 37
          }
        },
        "58c426c6fd93437aabe7f8602a6af8ae": {
          "model_module": "@jupyter-widgets/controls",
          "model_module_version": "1.5.0",
          "model_name": "FloatProgressModel",
          "state": {
            "_dom_classes": [],
            "_model_module": "@jupyter-widgets/controls",
            "_model_module_version": "1.5.0",
            "_model_name": "FloatProgressModel",
            "_view_count": null,
            "_view_module": "@jupyter-widgets/controls",
            "_view_module_version": "1.5.0",
            "_view_name": "ProgressView",
            "bar_style": "success",
            "description": "",
            "description_tooltip": null,
            "layout": "IPY_MODEL_7ca11721959942f4a045addaec1a45f9",
            "max": 629,
            "min": 0,
            "orientation": "horizontal",
            "style": "IPY_MODEL_1c37630d57ab4b70a85384da24ed3e53",
            "value": 629
          }
        },
        "5e302d2626134a8eb90f7c240d072adb": {
          "model_module": "@jupyter-widgets/controls",
          "model_module_version": "1.5.0",
          "model_name": "HTMLModel",
          "state": {
            "_dom_classes": [],
            "_model_module": "@jupyter-widgets/controls",
            "_model_module_version": "1.5.0",
            "_model_name": "HTMLModel",
            "_view_count": null,
            "_view_module": "@jupyter-widgets/controls",
            "_view_module_version": "1.5.0",
            "_view_name": "HTMLView",
            "description": "",
            "description_tooltip": null,
            "layout": "IPY_MODEL_6d613fd34eb14ed0b72180f1c5186bc0",
            "placeholder": "​",
            "style": "IPY_MODEL_1d66089700914eec947146becfee2e18",
            "value": " 48.0/48.0 [00:00&lt;00:00, 2.22kB/s]"
          }
        },
        "643821b84cc14c4d8e6fcf7cd05d998c": {
          "model_module": "@jupyter-widgets/controls",
          "model_module_version": "1.5.0",
          "model_name": "HTMLModel",
          "state": {
            "_dom_classes": [],
            "_model_module": "@jupyter-widgets/controls",
            "_model_module_version": "1.5.0",
            "_model_name": "HTMLModel",
            "_view_count": null,
            "_view_module": "@jupyter-widgets/controls",
            "_view_module_version": "1.5.0",
            "_view_name": "HTMLView",
            "description": "",
            "description_tooltip": null,
            "layout": "IPY_MODEL_75eeb77db57542f7a1f7ef87b8454cd1",
            "placeholder": "​",
            "style": "IPY_MODEL_357f3a64ec2b43aeb506ffe57ccd58f6",
            "value": "model.safetensors: 100%"
          }
        },
        "6d613fd34eb14ed0b72180f1c5186bc0": {
          "model_module": "@jupyter-widgets/base",
          "model_module_version": "1.2.0",
          "model_name": "LayoutModel",
          "state": {
            "_model_module": "@jupyter-widgets/base",
            "_model_module_version": "1.2.0",
            "_model_name": "LayoutModel",
            "_view_count": null,
            "_view_module": "@jupyter-widgets/base",
            "_view_module_version": "1.2.0",
            "_view_name": "LayoutView",
            "align_content": null,
            "align_items": null,
            "align_self": null,
            "border": null,
            "bottom": null,
            "display": null,
            "flex": null,
            "flex_flow": null,
            "grid_area": null,
            "grid_auto_columns": null,
            "grid_auto_flow": null,
            "grid_auto_rows": null,
            "grid_column": null,
            "grid_gap": null,
            "grid_row": null,
            "grid_template_areas": null,
            "grid_template_columns": null,
            "grid_template_rows": null,
            "height": null,
            "justify_content": null,
            "justify_items": null,
            "left": null,
            "margin": null,
            "max_height": null,
            "max_width": null,
            "min_height": null,
            "min_width": null,
            "object_fit": null,
            "object_position": null,
            "order": null,
            "overflow": null,
            "overflow_x": null,
            "overflow_y": null,
            "padding": null,
            "right": null,
            "top": null,
            "visibility": null,
            "width": null
          }
        },
        "6e66a32e0ba443b1a5aa52ea9afa1352": {
          "model_module": "@jupyter-widgets/controls",
          "model_module_version": "1.5.0",
          "model_name": "FloatProgressModel",
          "state": {
            "_dom_classes": [],
            "_model_module": "@jupyter-widgets/controls",
            "_model_module_version": "1.5.0",
            "_model_name": "FloatProgressModel",
            "_view_count": null,
            "_view_module": "@jupyter-widgets/controls",
            "_view_module_version": "1.5.0",
            "_view_name": "ProgressView",
            "bar_style": "success",
            "description": "",
            "description_tooltip": null,
            "layout": "IPY_MODEL_e3fbcae08d1e4a698945a81a7a27484d",
            "max": 267832558,
            "min": 0,
            "orientation": "horizontal",
            "style": "IPY_MODEL_ca7442927508444e92075f11074d51c6",
            "value": 267832558
          }
        },
        "75eeb77db57542f7a1f7ef87b8454cd1": {
          "model_module": "@jupyter-widgets/base",
          "model_module_version": "1.2.0",
          "model_name": "LayoutModel",
          "state": {
            "_model_module": "@jupyter-widgets/base",
            "_model_module_version": "1.2.0",
            "_model_name": "LayoutModel",
            "_view_count": null,
            "_view_module": "@jupyter-widgets/base",
            "_view_module_version": "1.2.0",
            "_view_name": "LayoutView",
            "align_content": null,
            "align_items": null,
            "align_self": null,
            "border": null,
            "bottom": null,
            "display": null,
            "flex": null,
            "flex_flow": null,
            "grid_area": null,
            "grid_auto_columns": null,
            "grid_auto_flow": null,
            "grid_auto_rows": null,
            "grid_column": null,
            "grid_gap": null,
            "grid_row": null,
            "grid_template_areas": null,
            "grid_template_columns": null,
            "grid_template_rows": null,
            "height": null,
            "justify_content": null,
            "justify_items": null,
            "left": null,
            "margin": null,
            "max_height": null,
            "max_width": null,
            "min_height": null,
            "min_width": null,
            "object_fit": null,
            "object_position": null,
            "order": null,
            "overflow": null,
            "overflow_x": null,
            "overflow_y": null,
            "padding": null,
            "right": null,
            "top": null,
            "visibility": null,
            "width": null
          }
        },
        "7ca11721959942f4a045addaec1a45f9": {
          "model_module": "@jupyter-widgets/base",
          "model_module_version": "1.2.0",
          "model_name": "LayoutModel",
          "state": {
            "_model_module": "@jupyter-widgets/base",
            "_model_module_version": "1.2.0",
            "_model_name": "LayoutModel",
            "_view_count": null,
            "_view_module": "@jupyter-widgets/base",
            "_view_module_version": "1.2.0",
            "_view_name": "LayoutView",
            "align_content": null,
            "align_items": null,
            "align_self": null,
            "border": null,
            "bottom": null,
            "display": null,
            "flex": null,
            "flex_flow": null,
            "grid_area": null,
            "grid_auto_columns": null,
            "grid_auto_flow": null,
            "grid_auto_rows": null,
            "grid_column": null,
            "grid_gap": null,
            "grid_row": null,
            "grid_template_areas": null,
            "grid_template_columns": null,
            "grid_template_rows": null,
            "height": null,
            "justify_content": null,
            "justify_items": null,
            "left": null,
            "margin": null,
            "max_height": null,
            "max_width": null,
            "min_height": null,
            "min_width": null,
            "object_fit": null,
            "object_position": null,
            "order": null,
            "overflow": null,
            "overflow_x": null,
            "overflow_y": null,
            "padding": null,
            "right": null,
            "top": null,
            "visibility": null,
            "width": null
          }
        },
        "82c0aaf2dd6a4ebe95f62f9f875ac944": {
          "model_module": "@jupyter-widgets/base",
          "model_module_version": "1.2.0",
          "model_name": "LayoutModel",
          "state": {
            "_model_module": "@jupyter-widgets/base",
            "_model_module_version": "1.2.0",
            "_model_name": "LayoutModel",
            "_view_count": null,
            "_view_module": "@jupyter-widgets/base",
            "_view_module_version": "1.2.0",
            "_view_name": "LayoutView",
            "align_content": null,
            "align_items": null,
            "align_self": null,
            "border": null,
            "bottom": null,
            "display": null,
            "flex": null,
            "flex_flow": null,
            "grid_area": null,
            "grid_auto_columns": null,
            "grid_auto_flow": null,
            "grid_auto_rows": null,
            "grid_column": null,
            "grid_gap": null,
            "grid_row": null,
            "grid_template_areas": null,
            "grid_template_columns": null,
            "grid_template_rows": null,
            "height": null,
            "justify_content": null,
            "justify_items": null,
            "left": null,
            "margin": null,
            "max_height": null,
            "max_width": null,
            "min_height": null,
            "min_width": null,
            "object_fit": null,
            "object_position": null,
            "order": null,
            "overflow": null,
            "overflow_x": null,
            "overflow_y": null,
            "padding": null,
            "right": null,
            "top": null,
            "visibility": null,
            "width": null
          }
        },
        "83eaaf47b09e4e80b0ad80964353defb": {
          "model_module": "@jupyter-widgets/controls",
          "model_module_version": "1.5.0",
          "model_name": "DescriptionStyleModel",
          "state": {
            "_model_module": "@jupyter-widgets/controls",
            "_model_module_version": "1.5.0",
            "_model_name": "DescriptionStyleModel",
            "_view_count": null,
            "_view_module": "@jupyter-widgets/base",
            "_view_module_version": "1.2.0",
            "_view_name": "StyleView",
            "description_width": ""
          }
        },
        "8994206b76684855bac49476a6c89651": {
          "model_module": "@jupyter-widgets/controls",
          "model_module_version": "1.5.0",
          "model_name": "DescriptionStyleModel",
          "state": {
            "_model_module": "@jupyter-widgets/controls",
            "_model_module_version": "1.5.0",
            "_model_name": "DescriptionStyleModel",
            "_view_count": null,
            "_view_module": "@jupyter-widgets/base",
            "_view_module_version": "1.2.0",
            "_view_name": "StyleView",
            "description_width": ""
          }
        },
        "8a0d78a4bbb44416829a431f07562097": {
          "model_module": "@jupyter-widgets/base",
          "model_module_version": "1.2.0",
          "model_name": "LayoutModel",
          "state": {
            "_model_module": "@jupyter-widgets/base",
            "_model_module_version": "1.2.0",
            "_model_name": "LayoutModel",
            "_view_count": null,
            "_view_module": "@jupyter-widgets/base",
            "_view_module_version": "1.2.0",
            "_view_name": "LayoutView",
            "align_content": null,
            "align_items": null,
            "align_self": null,
            "border": null,
            "bottom": null,
            "display": null,
            "flex": null,
            "flex_flow": null,
            "grid_area": null,
            "grid_auto_columns": null,
            "grid_auto_flow": null,
            "grid_auto_rows": null,
            "grid_column": null,
            "grid_gap": null,
            "grid_row": null,
            "grid_template_areas": null,
            "grid_template_columns": null,
            "grid_template_rows": null,
            "height": null,
            "justify_content": null,
            "justify_items": null,
            "left": null,
            "margin": null,
            "max_height": null,
            "max_width": null,
            "min_height": null,
            "min_width": null,
            "object_fit": null,
            "object_position": null,
            "order": null,
            "overflow": null,
            "overflow_x": null,
            "overflow_y": null,
            "padding": null,
            "right": null,
            "top": null,
            "visibility": null,
            "width": null
          }
        },
        "8a570430cd864e6c960a007820c93021": {
          "model_module": "@jupyter-widgets/controls",
          "model_module_version": "1.5.0",
          "model_name": "HBoxModel",
          "state": {
            "_dom_classes": [],
            "_model_module": "@jupyter-widgets/controls",
            "_model_module_version": "1.5.0",
            "_model_name": "HBoxModel",
            "_view_count": null,
            "_view_module": "@jupyter-widgets/controls",
            "_view_module_version": "1.5.0",
            "_view_name": "HBoxView",
            "box_style": "",
            "children": [
              "IPY_MODEL_b748467fd0ec400e91b21560d29d268b",
              "IPY_MODEL_5787b06a422e4002999511ddd5fb8206",
              "IPY_MODEL_12487cf50ec0466e887802bab5dd8301"
            ],
            "layout": "IPY_MODEL_e7dce49ee33f4f11be2e58b760f90937"
          }
        },
        "8ca5c9d3a34341ffad75df2fe1de01c8": {
          "model_module": "@jupyter-widgets/controls",
          "model_module_version": "1.5.0",
          "model_name": "HBoxModel",
          "state": {
            "_dom_classes": [],
            "_model_module": "@jupyter-widgets/controls",
            "_model_module_version": "1.5.0",
            "_model_name": "HBoxModel",
            "_view_count": null,
            "_view_module": "@jupyter-widgets/controls",
            "_view_module_version": "1.5.0",
            "_view_name": "HBoxView",
            "box_style": "",
            "children": [
              "IPY_MODEL_fe03301aa00c498ca45766da666492f3",
              "IPY_MODEL_50a8179660704b03b8146a511d4d6561",
              "IPY_MODEL_5e302d2626134a8eb90f7c240d072adb"
            ],
            "layout": "IPY_MODEL_a419fb7d87fd4c85be2dbcaabbbcf772"
          }
        },
        "9572b4bb64514f9683cef2b9b345537f": {
          "model_module": "@jupyter-widgets/controls",
          "model_module_version": "1.5.0",
          "model_name": "ProgressStyleModel",
          "state": {
            "_model_module": "@jupyter-widgets/controls",
            "_model_module_version": "1.5.0",
            "_model_name": "ProgressStyleModel",
            "_view_count": null,
            "_view_module": "@jupyter-widgets/base",
            "_view_module_version": "1.2.0",
            "_view_name": "StyleView",
            "bar_color": null,
            "description_width": ""
          }
        },
        "9e7ba0e9413c480fb2886d6ee7caafb7": {
          "model_module": "@jupyter-widgets/controls",
          "model_module_version": "1.5.0",
          "model_name": "DescriptionStyleModel",
          "state": {
            "_model_module": "@jupyter-widgets/controls",
            "_model_module_version": "1.5.0",
            "_model_name": "DescriptionStyleModel",
            "_view_count": null,
            "_view_module": "@jupyter-widgets/base",
            "_view_module_version": "1.2.0",
            "_view_name": "StyleView",
            "description_width": ""
          }
        },
        "9fa5889c60094e7f94d7c58ce86bc1c2": {
          "model_module": "@jupyter-widgets/controls",
          "model_module_version": "1.5.0",
          "model_name": "FloatProgressModel",
          "state": {
            "_dom_classes": [],
            "_model_module": "@jupyter-widgets/controls",
            "_model_module_version": "1.5.0",
            "_model_name": "FloatProgressModel",
            "_view_count": null,
            "_view_module": "@jupyter-widgets/controls",
            "_view_module_version": "1.5.0",
            "_view_name": "ProgressView",
            "bar_style": "success",
            "description": "",
            "description_tooltip": null,
            "layout": "IPY_MODEL_1e80ade7694d43a48d6202045cbc0b09",
            "max": 231508,
            "min": 0,
            "orientation": "horizontal",
            "style": "IPY_MODEL_9572b4bb64514f9683cef2b9b345537f",
            "value": 231508
          }
        },
        "a20e22e844ea446baddef9d3e57ef5a9": {
          "model_module": "@jupyter-widgets/controls",
          "model_module_version": "1.5.0",
          "model_name": "HTMLModel",
          "state": {
            "_dom_classes": [],
            "_model_module": "@jupyter-widgets/controls",
            "_model_module_version": "1.5.0",
            "_model_name": "HTMLModel",
            "_view_count": null,
            "_view_module": "@jupyter-widgets/controls",
            "_view_module_version": "1.5.0",
            "_view_name": "HTMLView",
            "description": "",
            "description_tooltip": null,
            "layout": "IPY_MODEL_0cb21615832d499998ef672e34684c61",
            "placeholder": "​",
            "style": "IPY_MODEL_9e7ba0e9413c480fb2886d6ee7caafb7",
            "value": "vocab.txt: 100%"
          }
        },
        "a286ab10e9a742b7a8baabfb6ced351d": {
          "model_module": "@jupyter-widgets/controls",
          "model_module_version": "1.5.0",
          "model_name": "DescriptionStyleModel",
          "state": {
            "_model_module": "@jupyter-widgets/controls",
            "_model_module_version": "1.5.0",
            "_model_name": "DescriptionStyleModel",
            "_view_count": null,
            "_view_module": "@jupyter-widgets/base",
            "_view_module_version": "1.2.0",
            "_view_name": "StyleView",
            "description_width": ""
          }
        },
        "a419fb7d87fd4c85be2dbcaabbbcf772": {
          "model_module": "@jupyter-widgets/base",
          "model_module_version": "1.2.0",
          "model_name": "LayoutModel",
          "state": {
            "_model_module": "@jupyter-widgets/base",
            "_model_module_version": "1.2.0",
            "_model_name": "LayoutModel",
            "_view_count": null,
            "_view_module": "@jupyter-widgets/base",
            "_view_module_version": "1.2.0",
            "_view_name": "LayoutView",
            "align_content": null,
            "align_items": null,
            "align_self": null,
            "border": null,
            "bottom": null,
            "display": null,
            "flex": null,
            "flex_flow": null,
            "grid_area": null,
            "grid_auto_columns": null,
            "grid_auto_flow": null,
            "grid_auto_rows": null,
            "grid_column": null,
            "grid_gap": null,
            "grid_row": null,
            "grid_template_areas": null,
            "grid_template_columns": null,
            "grid_template_rows": null,
            "height": null,
            "justify_content": null,
            "justify_items": null,
            "left": null,
            "margin": null,
            "max_height": null,
            "max_width": null,
            "min_height": null,
            "min_width": null,
            "object_fit": null,
            "object_position": null,
            "order": null,
            "overflow": null,
            "overflow_x": null,
            "overflow_y": null,
            "padding": null,
            "right": null,
            "top": null,
            "visibility": null,
            "width": null
          }
        },
        "b4e7012b731b46b0b9aa976eb38291cb": {
          "model_module": "@jupyter-widgets/controls",
          "model_module_version": "1.5.0",
          "model_name": "HTMLModel",
          "state": {
            "_dom_classes": [],
            "_model_module": "@jupyter-widgets/controls",
            "_model_module_version": "1.5.0",
            "_model_name": "HTMLModel",
            "_view_count": null,
            "_view_module": "@jupyter-widgets/controls",
            "_view_module_version": "1.5.0",
            "_view_name": "HTMLView",
            "description": "",
            "description_tooltip": null,
            "layout": "IPY_MODEL_ec87cee3834b4c99b5b4a5d235ce0165",
            "placeholder": "​",
            "style": "IPY_MODEL_a286ab10e9a742b7a8baabfb6ced351d",
            "value": " 268M/268M [00:02&lt;00:00, 81.7MB/s]"
          }
        },
        "b4ec987fcbd34a309675380b0dce7427": {
          "model_module": "@jupyter-widgets/base",
          "model_module_version": "1.2.0",
          "model_name": "LayoutModel",
          "state": {
            "_model_module": "@jupyter-widgets/base",
            "_model_module_version": "1.2.0",
            "_model_name": "LayoutModel",
            "_view_count": null,
            "_view_module": "@jupyter-widgets/base",
            "_view_module_version": "1.2.0",
            "_view_name": "LayoutView",
            "align_content": null,
            "align_items": null,
            "align_self": null,
            "border": null,
            "bottom": null,
            "display": null,
            "flex": null,
            "flex_flow": null,
            "grid_area": null,
            "grid_auto_columns": null,
            "grid_auto_flow": null,
            "grid_auto_rows": null,
            "grid_column": null,
            "grid_gap": null,
            "grid_row": null,
            "grid_template_areas": null,
            "grid_template_columns": null,
            "grid_template_rows": null,
            "height": null,
            "justify_content": null,
            "justify_items": null,
            "left": null,
            "margin": null,
            "max_height": null,
            "max_width": null,
            "min_height": null,
            "min_width": null,
            "object_fit": null,
            "object_position": null,
            "order": null,
            "overflow": null,
            "overflow_x": null,
            "overflow_y": null,
            "padding": null,
            "right": null,
            "top": null,
            "visibility": null,
            "width": null
          }
        },
        "b6afc2fb4fa94569853736b1119a36ae": {
          "model_module": "@jupyter-widgets/controls",
          "model_module_version": "1.5.0",
          "model_name": "HTMLModel",
          "state": {
            "_dom_classes": [],
            "_model_module": "@jupyter-widgets/controls",
            "_model_module_version": "1.5.0",
            "_model_name": "HTMLModel",
            "_view_count": null,
            "_view_module": "@jupyter-widgets/controls",
            "_view_module_version": "1.5.0",
            "_view_name": "HTMLView",
            "description": "",
            "description_tooltip": null,
            "layout": "IPY_MODEL_b4ec987fcbd34a309675380b0dce7427",
            "placeholder": "​",
            "style": "IPY_MODEL_83eaaf47b09e4e80b0ad80964353defb",
            "value": "config.json: 100%"
          }
        },
        "b748467fd0ec400e91b21560d29d268b": {
          "model_module": "@jupyter-widgets/controls",
          "model_module_version": "1.5.0",
          "model_name": "HTMLModel",
          "state": {
            "_dom_classes": [],
            "_model_module": "@jupyter-widgets/controls",
            "_model_module_version": "1.5.0",
            "_model_name": "HTMLModel",
            "_view_count": null,
            "_view_module": "@jupyter-widgets/controls",
            "_view_module_version": "1.5.0",
            "_view_name": "HTMLView",
            "description": "",
            "description_tooltip": null,
            "layout": "IPY_MODEL_8a0d78a4bbb44416829a431f07562097",
            "placeholder": "​",
            "style": "IPY_MODEL_8994206b76684855bac49476a6c89651",
            "value": "100%"
          }
        },
        "bab53a2fe43f49fe8a9ca382c1b74590": {
          "model_module": "@jupyter-widgets/controls",
          "model_module_version": "1.5.0",
          "model_name": "HTMLModel",
          "state": {
            "_dom_classes": [],
            "_model_module": "@jupyter-widgets/controls",
            "_model_module_version": "1.5.0",
            "_model_name": "HTMLModel",
            "_view_count": null,
            "_view_module": "@jupyter-widgets/controls",
            "_view_module_version": "1.5.0",
            "_view_name": "HTMLView",
            "description": "",
            "description_tooltip": null,
            "layout": "IPY_MODEL_d0010088dbc946468fe24a3dda47d310",
            "placeholder": "​",
            "style": "IPY_MODEL_d5ddc73302ac4c8b8e4ce539be4292f3",
            "value": " 232k/232k [00:00&lt;00:00, 4.26MB/s]"
          }
        },
        "c1939a18abd94e2c82e3929f39def108": {
          "model_module": "@jupyter-widgets/base",
          "model_module_version": "1.2.0",
          "model_name": "LayoutModel",
          "state": {
            "_model_module": "@jupyter-widgets/base",
            "_model_module_version": "1.2.0",
            "_model_name": "LayoutModel",
            "_view_count": null,
            "_view_module": "@jupyter-widgets/base",
            "_view_module_version": "1.2.0",
            "_view_name": "LayoutView",
            "align_content": null,
            "align_items": null,
            "align_self": null,
            "border": null,
            "bottom": null,
            "display": null,
            "flex": null,
            "flex_flow": null,
            "grid_area": null,
            "grid_auto_columns": null,
            "grid_auto_flow": null,
            "grid_auto_rows": null,
            "grid_column": null,
            "grid_gap": null,
            "grid_row": null,
            "grid_template_areas": null,
            "grid_template_columns": null,
            "grid_template_rows": null,
            "height": null,
            "justify_content": null,
            "justify_items": null,
            "left": null,
            "margin": null,
            "max_height": null,
            "max_width": null,
            "min_height": null,
            "min_width": null,
            "object_fit": null,
            "object_position": null,
            "order": null,
            "overflow": null,
            "overflow_x": null,
            "overflow_y": null,
            "padding": null,
            "right": null,
            "top": null,
            "visibility": null,
            "width": null
          }
        },
        "c37de132e6114c74a307e1237beedffc": {
          "model_module": "@jupyter-widgets/controls",
          "model_module_version": "1.5.0",
          "model_name": "HTMLModel",
          "state": {
            "_dom_classes": [],
            "_model_module": "@jupyter-widgets/controls",
            "_model_module_version": "1.5.0",
            "_model_name": "HTMLModel",
            "_view_count": null,
            "_view_module": "@jupyter-widgets/controls",
            "_view_module_version": "1.5.0",
            "_view_name": "HTMLView",
            "description": "",
            "description_tooltip": null,
            "layout": "IPY_MODEL_c1939a18abd94e2c82e3929f39def108",
            "placeholder": "​",
            "style": "IPY_MODEL_260e5b47de954ca9a19bdb3eaf085596",
            "value": " 629/629 [00:00&lt;00:00, 20.0kB/s]"
          }
        },
        "ca7442927508444e92075f11074d51c6": {
          "model_module": "@jupyter-widgets/controls",
          "model_module_version": "1.5.0",
          "model_name": "ProgressStyleModel",
          "state": {
            "_model_module": "@jupyter-widgets/controls",
            "_model_module_version": "1.5.0",
            "_model_name": "ProgressStyleModel",
            "_view_count": null,
            "_view_module": "@jupyter-widgets/base",
            "_view_module_version": "1.2.0",
            "_view_name": "StyleView",
            "bar_color": null,
            "description_width": ""
          }
        },
        "cf80ae6667304edaa51c6f8eead03682": {
          "model_module": "@jupyter-widgets/controls",
          "model_module_version": "1.5.0",
          "model_name": "HBoxModel",
          "state": {
            "_dom_classes": [],
            "_model_module": "@jupyter-widgets/controls",
            "_model_module_version": "1.5.0",
            "_model_name": "HBoxModel",
            "_view_count": null,
            "_view_module": "@jupyter-widgets/controls",
            "_view_module_version": "1.5.0",
            "_view_name": "HBoxView",
            "box_style": "",
            "children": [
              "IPY_MODEL_b6afc2fb4fa94569853736b1119a36ae",
              "IPY_MODEL_58c426c6fd93437aabe7f8602a6af8ae",
              "IPY_MODEL_c37de132e6114c74a307e1237beedffc"
            ],
            "layout": "IPY_MODEL_82c0aaf2dd6a4ebe95f62f9f875ac944"
          }
        },
        "d0010088dbc946468fe24a3dda47d310": {
          "model_module": "@jupyter-widgets/base",
          "model_module_version": "1.2.0",
          "model_name": "LayoutModel",
          "state": {
            "_model_module": "@jupyter-widgets/base",
            "_model_module_version": "1.2.0",
            "_model_name": "LayoutModel",
            "_view_count": null,
            "_view_module": "@jupyter-widgets/base",
            "_view_module_version": "1.2.0",
            "_view_name": "LayoutView",
            "align_content": null,
            "align_items": null,
            "align_self": null,
            "border": null,
            "bottom": null,
            "display": null,
            "flex": null,
            "flex_flow": null,
            "grid_area": null,
            "grid_auto_columns": null,
            "grid_auto_flow": null,
            "grid_auto_rows": null,
            "grid_column": null,
            "grid_gap": null,
            "grid_row": null,
            "grid_template_areas": null,
            "grid_template_columns": null,
            "grid_template_rows": null,
            "height": null,
            "justify_content": null,
            "justify_items": null,
            "left": null,
            "margin": null,
            "max_height": null,
            "max_width": null,
            "min_height": null,
            "min_width": null,
            "object_fit": null,
            "object_position": null,
            "order": null,
            "overflow": null,
            "overflow_x": null,
            "overflow_y": null,
            "padding": null,
            "right": null,
            "top": null,
            "visibility": null,
            "width": null
          }
        },
        "d1ebb234f3fa4c56b019f9d5ee45dc08": {
          "model_module": "@jupyter-widgets/base",
          "model_module_version": "1.2.0",
          "model_name": "LayoutModel",
          "state": {
            "_model_module": "@jupyter-widgets/base",
            "_model_module_version": "1.2.0",
            "_model_name": "LayoutModel",
            "_view_count": null,
            "_view_module": "@jupyter-widgets/base",
            "_view_module_version": "1.2.0",
            "_view_name": "LayoutView",
            "align_content": null,
            "align_items": null,
            "align_self": null,
            "border": null,
            "bottom": null,
            "display": null,
            "flex": null,
            "flex_flow": null,
            "grid_area": null,
            "grid_auto_columns": null,
            "grid_auto_flow": null,
            "grid_auto_rows": null,
            "grid_column": null,
            "grid_gap": null,
            "grid_row": null,
            "grid_template_areas": null,
            "grid_template_columns": null,
            "grid_template_rows": null,
            "height": null,
            "justify_content": null,
            "justify_items": null,
            "left": null,
            "margin": null,
            "max_height": null,
            "max_width": null,
            "min_height": null,
            "min_width": null,
            "object_fit": null,
            "object_position": null,
            "order": null,
            "overflow": null,
            "overflow_x": null,
            "overflow_y": null,
            "padding": null,
            "right": null,
            "top": null,
            "visibility": null,
            "width": null
          }
        },
        "d5ddc73302ac4c8b8e4ce539be4292f3": {
          "model_module": "@jupyter-widgets/controls",
          "model_module_version": "1.5.0",
          "model_name": "DescriptionStyleModel",
          "state": {
            "_model_module": "@jupyter-widgets/controls",
            "_model_module_version": "1.5.0",
            "_model_name": "DescriptionStyleModel",
            "_view_count": null,
            "_view_module": "@jupyter-widgets/base",
            "_view_module_version": "1.2.0",
            "_view_name": "StyleView",
            "description_width": ""
          }
        },
        "dfb8188cfdc94943ba11152a4a2379a4": {
          "model_module": "@jupyter-widgets/base",
          "model_module_version": "1.2.0",
          "model_name": "LayoutModel",
          "state": {
            "_model_module": "@jupyter-widgets/base",
            "_model_module_version": "1.2.0",
            "_model_name": "LayoutModel",
            "_view_count": null,
            "_view_module": "@jupyter-widgets/base",
            "_view_module_version": "1.2.0",
            "_view_name": "LayoutView",
            "align_content": null,
            "align_items": null,
            "align_self": null,
            "border": null,
            "bottom": null,
            "display": null,
            "flex": null,
            "flex_flow": null,
            "grid_area": null,
            "grid_auto_columns": null,
            "grid_auto_flow": null,
            "grid_auto_rows": null,
            "grid_column": null,
            "grid_gap": null,
            "grid_row": null,
            "grid_template_areas": null,
            "grid_template_columns": null,
            "grid_template_rows": null,
            "height": null,
            "justify_content": null,
            "justify_items": null,
            "left": null,
            "margin": null,
            "max_height": null,
            "max_width": null,
            "min_height": null,
            "min_width": null,
            "object_fit": null,
            "object_position": null,
            "order": null,
            "overflow": null,
            "overflow_x": null,
            "overflow_y": null,
            "padding": null,
            "right": null,
            "top": null,
            "visibility": null,
            "width": null
          }
        },
        "e2af2bf0c2f4448b9e892a0155c64a74": {
          "model_module": "@jupyter-widgets/controls",
          "model_module_version": "1.5.0",
          "model_name": "ProgressStyleModel",
          "state": {
            "_model_module": "@jupyter-widgets/controls",
            "_model_module_version": "1.5.0",
            "_model_name": "ProgressStyleModel",
            "_view_count": null,
            "_view_module": "@jupyter-widgets/base",
            "_view_module_version": "1.2.0",
            "_view_name": "StyleView",
            "bar_color": null,
            "description_width": ""
          }
        },
        "e3fbcae08d1e4a698945a81a7a27484d": {
          "model_module": "@jupyter-widgets/base",
          "model_module_version": "1.2.0",
          "model_name": "LayoutModel",
          "state": {
            "_model_module": "@jupyter-widgets/base",
            "_model_module_version": "1.2.0",
            "_model_name": "LayoutModel",
            "_view_count": null,
            "_view_module": "@jupyter-widgets/base",
            "_view_module_version": "1.2.0",
            "_view_name": "LayoutView",
            "align_content": null,
            "align_items": null,
            "align_self": null,
            "border": null,
            "bottom": null,
            "display": null,
            "flex": null,
            "flex_flow": null,
            "grid_area": null,
            "grid_auto_columns": null,
            "grid_auto_flow": null,
            "grid_auto_rows": null,
            "grid_column": null,
            "grid_gap": null,
            "grid_row": null,
            "grid_template_areas": null,
            "grid_template_columns": null,
            "grid_template_rows": null,
            "height": null,
            "justify_content": null,
            "justify_items": null,
            "left": null,
            "margin": null,
            "max_height": null,
            "max_width": null,
            "min_height": null,
            "min_width": null,
            "object_fit": null,
            "object_position": null,
            "order": null,
            "overflow": null,
            "overflow_x": null,
            "overflow_y": null,
            "padding": null,
            "right": null,
            "top": null,
            "visibility": null,
            "width": null
          }
        },
        "e4c5855f73484e4ebdeb216d1e552cdf": {
          "model_module": "@jupyter-widgets/base",
          "model_module_version": "1.2.0",
          "model_name": "LayoutModel",
          "state": {
            "_model_module": "@jupyter-widgets/base",
            "_model_module_version": "1.2.0",
            "_model_name": "LayoutModel",
            "_view_count": null,
            "_view_module": "@jupyter-widgets/base",
            "_view_module_version": "1.2.0",
            "_view_name": "LayoutView",
            "align_content": null,
            "align_items": null,
            "align_self": null,
            "border": null,
            "bottom": null,
            "display": null,
            "flex": null,
            "flex_flow": null,
            "grid_area": null,
            "grid_auto_columns": null,
            "grid_auto_flow": null,
            "grid_auto_rows": null,
            "grid_column": null,
            "grid_gap": null,
            "grid_row": null,
            "grid_template_areas": null,
            "grid_template_columns": null,
            "grid_template_rows": null,
            "height": null,
            "justify_content": null,
            "justify_items": null,
            "left": null,
            "margin": null,
            "max_height": null,
            "max_width": null,
            "min_height": null,
            "min_width": null,
            "object_fit": null,
            "object_position": null,
            "order": null,
            "overflow": null,
            "overflow_x": null,
            "overflow_y": null,
            "padding": null,
            "right": null,
            "top": null,
            "visibility": null,
            "width": null
          }
        },
        "e7dce49ee33f4f11be2e58b760f90937": {
          "model_module": "@jupyter-widgets/base",
          "model_module_version": "1.2.0",
          "model_name": "LayoutModel",
          "state": {
            "_model_module": "@jupyter-widgets/base",
            "_model_module_version": "1.2.0",
            "_model_name": "LayoutModel",
            "_view_count": null,
            "_view_module": "@jupyter-widgets/base",
            "_view_module_version": "1.2.0",
            "_view_name": "LayoutView",
            "align_content": null,
            "align_items": null,
            "align_self": null,
            "border": null,
            "bottom": null,
            "display": null,
            "flex": null,
            "flex_flow": null,
            "grid_area": null,
            "grid_auto_columns": null,
            "grid_auto_flow": null,
            "grid_auto_rows": null,
            "grid_column": null,
            "grid_gap": null,
            "grid_row": null,
            "grid_template_areas": null,
            "grid_template_columns": null,
            "grid_template_rows": null,
            "height": null,
            "justify_content": null,
            "justify_items": null,
            "left": null,
            "margin": null,
            "max_height": null,
            "max_width": null,
            "min_height": null,
            "min_width": null,
            "object_fit": null,
            "object_position": null,
            "order": null,
            "overflow": null,
            "overflow_x": null,
            "overflow_y": null,
            "padding": null,
            "right": null,
            "top": null,
            "visibility": null,
            "width": null
          }
        },
        "ea0bb6c12df8410a8b2a137223a15d35": {
          "model_module": "@jupyter-widgets/controls",
          "model_module_version": "1.5.0",
          "model_name": "ProgressStyleModel",
          "state": {
            "_model_module": "@jupyter-widgets/controls",
            "_model_module_version": "1.5.0",
            "_model_name": "ProgressStyleModel",
            "_view_count": null,
            "_view_module": "@jupyter-widgets/base",
            "_view_module_version": "1.2.0",
            "_view_name": "StyleView",
            "bar_color": null,
            "description_width": ""
          }
        },
        "ec87cee3834b4c99b5b4a5d235ce0165": {
          "model_module": "@jupyter-widgets/base",
          "model_module_version": "1.2.0",
          "model_name": "LayoutModel",
          "state": {
            "_model_module": "@jupyter-widgets/base",
            "_model_module_version": "1.2.0",
            "_model_name": "LayoutModel",
            "_view_count": null,
            "_view_module": "@jupyter-widgets/base",
            "_view_module_version": "1.2.0",
            "_view_name": "LayoutView",
            "align_content": null,
            "align_items": null,
            "align_self": null,
            "border": null,
            "bottom": null,
            "display": null,
            "flex": null,
            "flex_flow": null,
            "grid_area": null,
            "grid_auto_columns": null,
            "grid_auto_flow": null,
            "grid_auto_rows": null,
            "grid_column": null,
            "grid_gap": null,
            "grid_row": null,
            "grid_template_areas": null,
            "grid_template_columns": null,
            "grid_template_rows": null,
            "height": null,
            "justify_content": null,
            "justify_items": null,
            "left": null,
            "margin": null,
            "max_height": null,
            "max_width": null,
            "min_height": null,
            "min_width": null,
            "object_fit": null,
            "object_position": null,
            "order": null,
            "overflow": null,
            "overflow_x": null,
            "overflow_y": null,
            "padding": null,
            "right": null,
            "top": null,
            "visibility": null,
            "width": null
          }
        },
        "fc98c84ef1b846f89301c67447ff2ea9": {
          "model_module": "@jupyter-widgets/base",
          "model_module_version": "1.2.0",
          "model_name": "LayoutModel",
          "state": {
            "_model_module": "@jupyter-widgets/base",
            "_model_module_version": "1.2.0",
            "_model_name": "LayoutModel",
            "_view_count": null,
            "_view_module": "@jupyter-widgets/base",
            "_view_module_version": "1.2.0",
            "_view_name": "LayoutView",
            "align_content": null,
            "align_items": null,
            "align_self": null,
            "border": null,
            "bottom": null,
            "display": null,
            "flex": null,
            "flex_flow": null,
            "grid_area": null,
            "grid_auto_columns": null,
            "grid_auto_flow": null,
            "grid_auto_rows": null,
            "grid_column": null,
            "grid_gap": null,
            "grid_row": null,
            "grid_template_areas": null,
            "grid_template_columns": null,
            "grid_template_rows": null,
            "height": null,
            "justify_content": null,
            "justify_items": null,
            "left": null,
            "margin": null,
            "max_height": null,
            "max_width": null,
            "min_height": null,
            "min_width": null,
            "object_fit": null,
            "object_position": null,
            "order": null,
            "overflow": null,
            "overflow_x": null,
            "overflow_y": null,
            "padding": null,
            "right": null,
            "top": null,
            "visibility": null,
            "width": null
          }
        },
        "fcb87d7aa27d4faf8bf8c183c5d8e667": {
          "model_module": "@jupyter-widgets/controls",
          "model_module_version": "1.5.0",
          "model_name": "HBoxModel",
          "state": {
            "_dom_classes": [],
            "_model_module": "@jupyter-widgets/controls",
            "_model_module_version": "1.5.0",
            "_model_name": "HBoxModel",
            "_view_count": null,
            "_view_module": "@jupyter-widgets/controls",
            "_view_module_version": "1.5.0",
            "_view_name": "HBoxView",
            "box_style": "",
            "children": [
              "IPY_MODEL_a20e22e844ea446baddef9d3e57ef5a9",
              "IPY_MODEL_9fa5889c60094e7f94d7c58ce86bc1c2",
              "IPY_MODEL_bab53a2fe43f49fe8a9ca382c1b74590"
            ],
            "layout": "IPY_MODEL_1dc82bb6aeef43af9edfd2256ead5bd6"
          }
        },
        "fe03301aa00c498ca45766da666492f3": {
          "model_module": "@jupyter-widgets/controls",
          "model_module_version": "1.5.0",
          "model_name": "HTMLModel",
          "state": {
            "_dom_classes": [],
            "_model_module": "@jupyter-widgets/controls",
            "_model_module_version": "1.5.0",
            "_model_name": "HTMLModel",
            "_view_count": null,
            "_view_module": "@jupyter-widgets/controls",
            "_view_module_version": "1.5.0",
            "_view_name": "HTMLView",
            "description": "",
            "description_tooltip": null,
            "layout": "IPY_MODEL_e4c5855f73484e4ebdeb216d1e552cdf",
            "placeholder": "​",
            "style": "IPY_MODEL_1ff58a4b0131445499a2891c8f34e731",
            "value": "tokenizer_config.json: 100%"
          }
        }
      }
    }
  },
  "nbformat": 4,
  "nbformat_minor": 0
}
